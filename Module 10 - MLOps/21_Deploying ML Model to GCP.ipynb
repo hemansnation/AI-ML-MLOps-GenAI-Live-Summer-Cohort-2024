{
 "cells": [
  {
   "cell_type": "markdown",
   "id": "fbe7dffb",
   "metadata": {},
   "source": [
    "# Deploying ML Models"
   ]
  },
  {
   "cell_type": "code",
   "execution_count": null,
   "id": "d43721c7",
   "metadata": {},
   "outputs": [],
   "source": [
    "                                        Deploying ML Models\n",
    "    \n",
    "    Web hosting frameworks                HTTP endpoints                Cloud Functions for specific\n",
    "                                                                                frameworks\n",
    "    \n",
    "    - Flask                              Severless compute                     - SageMaker\n",
    "    - Django                            - AWS Lambda                           - Google AI Platform\n",
    "                                        - Google Cloud Functions               - Azure ML Service\n",
    "                                        - Azure Functions"
   ]
  },
  {
   "cell_type": "code",
   "execution_count": null,
   "id": "f89554c6",
   "metadata": {},
   "outputs": [],
   "source": [
    "compute(Software Architect)\n",
    "\n",
    "Bare Metal > VM Instances >  Container Clusters > Hosted Apps > Serverless Functions\n",
    "             (light weight)   (to isolate apps)\n",
    "    \n",
    "    -> less operational(admin)\n",
    "    <- more control, low level access"
   ]
  },
  {
   "cell_type": "code",
   "execution_count": 1,
   "id": "fb33185b",
   "metadata": {},
   "outputs": [],
   "source": [
    "import sklearn\n",
    "import pickle\n",
    "import pandas as pd\n",
    "\n",
    "from sklearn.linear_model import LogisticRegression\n",
    "from sklearn.tree import DecisionTreeClassifier\n",
    "from sklearn.svm import LinearSVC\n",
    "\n",
    "from sklearn.feature_extraction.text import TfidfVectorizer\n",
    "from sklearn.pipeline import Pipeline\n",
    "from sklearn.metrics import accuracy_score"
   ]
  },
  {
   "cell_type": "code",
   "execution_count": 2,
   "id": "95ed697f",
   "metadata": {},
   "outputs": [],
   "source": [
    "from sklearn.model_selection import train_test_split"
   ]
  },
  {
   "cell_type": "code",
   "execution_count": 3,
   "id": "9a815e36",
   "metadata": {},
   "outputs": [
    {
     "data": {
      "text/html": [
       "<div>\n",
       "<style scoped>\n",
       "    .dataframe tbody tr th:only-of-type {\n",
       "        vertical-align: middle;\n",
       "    }\n",
       "\n",
       "    .dataframe tbody tr th {\n",
       "        vertical-align: top;\n",
       "    }\n",
       "\n",
       "    .dataframe thead th {\n",
       "        text-align: right;\n",
       "    }\n",
       "</style>\n",
       "<table border=\"1\" class=\"dataframe\">\n",
       "  <thead>\n",
       "    <tr style=\"text-align: right;\">\n",
       "      <th></th>\n",
       "      <th>text</th>\n",
       "      <th>label</th>\n",
       "    </tr>\n",
       "  </thead>\n",
       "  <tbody>\n",
       "    <tr>\n",
       "      <th>0</th>\n",
       "      <td>One of the other reviewers has mentioned that ...</td>\n",
       "      <td>1</td>\n",
       "    </tr>\n",
       "    <tr>\n",
       "      <th>1</th>\n",
       "      <td>A wonderful little production. &lt;br /&gt;&lt;br /&gt;The...</td>\n",
       "      <td>1</td>\n",
       "    </tr>\n",
       "    <tr>\n",
       "      <th>2</th>\n",
       "      <td>I thought this was a wonderful way to spend ti...</td>\n",
       "      <td>1</td>\n",
       "    </tr>\n",
       "    <tr>\n",
       "      <th>3</th>\n",
       "      <td>Basically there's a family where a little boy ...</td>\n",
       "      <td>0</td>\n",
       "    </tr>\n",
       "    <tr>\n",
       "      <th>4</th>\n",
       "      <td>Petter Mattei's \"Love in the Time of Money\" is...</td>\n",
       "      <td>1</td>\n",
       "    </tr>\n",
       "  </tbody>\n",
       "</table>\n",
       "</div>"
      ],
      "text/plain": [
       "                                                text  label\n",
       "0  One of the other reviewers has mentioned that ...      1\n",
       "1  A wonderful little production. <br /><br />The...      1\n",
       "2  I thought this was a wonderful way to spend ti...      1\n",
       "3  Basically there's a family where a little boy ...      0\n",
       "4  Petter Mattei's \"Love in the Time of Money\" is...      1"
      ]
     },
     "execution_count": 3,
     "metadata": {},
     "output_type": "execute_result"
    }
   ],
   "source": [
    "df = pd.read_csv('sentiment_analysis.csv')\n",
    "df.head()"
   ]
  },
  {
   "cell_type": "code",
   "execution_count": 4,
   "id": "a58254dc",
   "metadata": {},
   "outputs": [
    {
     "data": {
      "text/plain": [
       "(7100, 2)"
      ]
     },
     "execution_count": 4,
     "metadata": {},
     "output_type": "execute_result"
    }
   ],
   "source": [
    "df.shape"
   ]
  },
  {
   "cell_type": "code",
   "execution_count": 5,
   "id": "194273a2",
   "metadata": {},
   "outputs": [],
   "source": [
    "x = df['text']\n",
    "\n",
    "y = df['label']\n",
    "\n",
    "xtrain, xtest, ytrain, ytest = train_test_split(x,y, test_size=0.2)"
   ]
  },
  {
   "cell_type": "code",
   "execution_count": 6,
   "id": "762a1590",
   "metadata": {},
   "outputs": [],
   "source": [
    "tfidf_vector = TfidfVectorizer(max_features=15)"
   ]
  },
  {
   "cell_type": "code",
   "execution_count": 7,
   "id": "c105aee5",
   "metadata": {},
   "outputs": [],
   "source": [
    "logistic_classifier = LogisticRegression(solver='liblinear')"
   ]
  },
  {
   "cell_type": "code",
   "execution_count": 8,
   "id": "d0aebd1d",
   "metadata": {},
   "outputs": [
    {
     "data": {
      "text/plain": [
       "0.5964788732394366"
      ]
     },
     "execution_count": 8,
     "metadata": {},
     "output_type": "execute_result"
    }
   ],
   "source": [
    "classification_pipeline = Pipeline(steps=[('tfidf_vector', tfidf_vector),\n",
    "                                          ('classifier', logistic_classifier)])\n",
    "\n",
    "pipeline_model = classification_pipeline.fit(xtrain, ytrain)\n",
    "\n",
    "ypred = pipeline_model.predict(xtest)\n",
    "\n",
    "accuracy_score(ytest, ypred)"
   ]
  },
  {
   "cell_type": "code",
   "execution_count": 9,
   "id": "cad3b39e",
   "metadata": {},
   "outputs": [],
   "source": [
    "# serialization\n",
    "\n",
    "pickle.dump(pipeline_model, open('models/logistic_classifier/logistic_model.pkl', 'wb'))"
   ]
  },
  {
   "cell_type": "code",
   "execution_count": 10,
   "id": "b658a897",
   "metadata": {},
   "outputs": [
    {
     "data": {
      "text/plain": [
       "0.5845070422535211"
      ]
     },
     "execution_count": 10,
     "metadata": {},
     "output_type": "execute_result"
    }
   ],
   "source": [
    "# decision tree classifier\n",
    "\n",
    "decision_tree_classifier = DecisionTreeClassifier(max_depth=10)\n",
    "\n",
    "classification_pipeline = Pipeline(steps=[('tfidf_vector', tfidf_vector),\n",
    "                                          ('classifier', decision_tree_classifier)])\n",
    "\n",
    "pipeline_model = classification_pipeline.fit(xtrain, ytrain)\n",
    "\n",
    "ypred = pipeline_model.predict(xtest)\n",
    "\n",
    "accuracy_score(ytest, ypred)"
   ]
  },
  {
   "cell_type": "code",
   "execution_count": 11,
   "id": "39d9455d",
   "metadata": {},
   "outputs": [],
   "source": [
    "pickle.dump(pipeline_model, open('models/decision_classifier/decision_model.pkl', 'wb'))"
   ]
  },
  {
   "cell_type": "code",
   "execution_count": 12,
   "id": "d9cf510d",
   "metadata": {},
   "outputs": [
    {
     "data": {
      "text/plain": [
       "0.5964788732394366"
      ]
     },
     "execution_count": 12,
     "metadata": {},
     "output_type": "execute_result"
    }
   ],
   "source": [
    "# linear SVC\n",
    "\n",
    "linear_svc = LinearSVC(C=1.0, max_iter=100)\n",
    "\n",
    "classification_pipeline = Pipeline(steps=[('tfidf_vector', tfidf_vector),\n",
    "                                          ('classifier', linear_svc)])\n",
    "\n",
    "pipeline_model = classification_pipeline.fit(xtrain, ytrain)\n",
    "\n",
    "ypred = pipeline_model.predict(xtest)\n",
    "\n",
    "accuracy_score(ytest, ypred)"
   ]
  },
  {
   "cell_type": "code",
   "execution_count": 13,
   "id": "28576898",
   "metadata": {},
   "outputs": [],
   "source": [
    "pickle.dump(pipeline_model, open('models/support_classifier/support_model.pkl', 'wb'))"
   ]
  },
  {
   "cell_type": "code",
   "execution_count": null,
   "id": "64d71703",
   "metadata": {},
   "outputs": [],
   "source": [
    "- upload models to GCP\n",
    "- cloud functions"
   ]
  },
  {
   "cell_type": "code",
   "execution_count": 14,
   "id": "1f54938a",
   "metadata": {},
   "outputs": [
    {
     "name": "stdout",
     "output_type": "stream",
     "text": [
      "Python 3.9.12\n"
     ]
    }
   ],
   "source": [
    "!python --version"
   ]
  },
  {
   "cell_type": "code",
   "execution_count": 19,
   "id": "1cd8b190",
   "metadata": {},
   "outputs": [
    {
     "name": "stderr",
     "output_type": "stream",
     "text": [
      "'sklearn' is not recognized as an internal or external command,\n",
      "operable program or batch file.\n"
     ]
    }
   ],
   "source": [
    "!sklearn --version"
   ]
  },
  {
   "cell_type": "code",
   "execution_count": null,
   "id": "4d6117d5",
   "metadata": {},
   "outputs": [],
   "source": [
    "events -> triggers -> serverless function -> invoke other services on cloud\n",
    "\n",
    "events\n",
    "- HTTP\n",
    "- storage access\n",
    "- chatbot interaction\n",
    "- "
   ]
  },
  {
   "cell_type": "code",
   "execution_count": null,
   "id": "3ff086ea",
   "metadata": {},
   "outputs": [],
   "source": []
  },
  {
   "cell_type": "markdown",
   "id": "6e00f490",
   "metadata": {},
   "source": [
    "## cloud function\n",
    "\n",
    "main.py"
   ]
  },
  {
   "cell_type": "code",
   "execution_count": null,
   "id": "89e8603d",
   "metadata": {},
   "outputs": [],
   "source": [
    "import requests\n",
    "import pickle\n",
    "from google.cloud import storage\n",
    "\n",
    "def classifier(request):\n",
    "    if request.method == 'GET':\n",
    "        return \"welcome to Classifier\"\n",
    "    \n",
    "    if request.method == 'POST':\n",
    "        data = request.get_json()\n",
    "        storage_client = storage.Client()\n",
    "        bucket = storage_client.get_bucket(\"classifier-models\")\n",
    "        \n",
    "        if data['model'] == ['Decisionclassifier']:\n",
    "            blob = bucket.blob('models/decision_tree_model/model.pkl')\n",
    "        elif data['model'] == ['LinearSVC']:\n",
    "            blob = bucket.blob('models/linear_svc_model/model.pkl')\n",
    "        else:\n",
    "            blob = bucket.blob('models/logistic_regression_model/model.pkl')\n",
    "        blob.download_to_filename('/tmp/model.pkl')\n",
    "        model = pickle.load(open('/tmp/model.pkl', 'rb'))\n",
    "        \n",
    "        x_data = data['x']\n",
    "        \n",
    "        output = model.predict(x_data)\n",
    "        pred_class = 'Text:' + str(x_data) + 'Predicted class is:' + str(output)\n",
    "        \n",
    "    return pred_class\n",
    "        "
   ]
  },
  {
   "cell_type": "code",
   "execution_count": 20,
   "id": "f2efba69",
   "metadata": {},
   "outputs": [],
   "source": [
    "# !pip freeze"
   ]
  },
  {
   "cell_type": "code",
   "execution_count": null,
   "id": "f962dcc0",
   "metadata": {},
   "outputs": [],
   "source": []
  }
 ],
 "metadata": {
  "kernelspec": {
   "display_name": "Python 3 (ipykernel)",
   "language": "python",
   "name": "python3"
  },
  "language_info": {
   "codemirror_mode": {
    "name": "ipython",
    "version": 3
   },
   "file_extension": ".py",
   "mimetype": "text/x-python",
   "name": "python",
   "nbconvert_exporter": "python",
   "pygments_lexer": "ipython3",
   "version": "3.9.12"
  }
 },
 "nbformat": 4,
 "nbformat_minor": 5
}
