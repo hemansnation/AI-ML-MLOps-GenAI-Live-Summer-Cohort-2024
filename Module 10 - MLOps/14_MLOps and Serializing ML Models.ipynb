{
 "cells": [
  {
   "cell_type": "code",
   "execution_count": null,
   "id": "624ec06c",
   "metadata": {},
   "outputs": [],
   "source": []
  },
  {
   "cell_type": "markdown",
   "id": "1ad18269",
   "metadata": {},
   "source": [
    "# MLOps \n",
    "\n",
    "<img src='mlopss.png' />"
   ]
  },
  {
   "cell_type": "code",
   "execution_count": null,
   "id": "2119fba4",
   "metadata": {},
   "outputs": [],
   "source": []
  },
  {
   "cell_type": "markdown",
   "id": "1413e009",
   "metadata": {},
   "source": [
    "<img src='mlflow.jpg' />"
   ]
  },
  {
   "cell_type": "markdown",
   "id": "9c0cc7d6",
   "metadata": {},
   "source": [
    "# Serialization of ML Models"
   ]
  },
  {
   "cell_type": "code",
   "execution_count": null,
   "id": "5dbeb45f",
   "metadata": {},
   "outputs": [],
   "source": [
    "save model memory so that you can use it later\n",
    "\n",
    "- json\n",
    "- pickle\n",
    "- joblib\n",
    "\n"
   ]
  },
  {
   "cell_type": "markdown",
   "id": "856dccc0",
   "metadata": {},
   "source": [
    "# Building the Model "
   ]
  },
  {
   "cell_type": "code",
   "execution_count": 1,
   "id": "bd8a8814",
   "metadata": {},
   "outputs": [],
   "source": [
    "import numpy as np\n",
    "import pandas as pd"
   ]
  },
  {
   "cell_type": "code",
   "execution_count": 2,
   "id": "ad4116a4",
   "metadata": {},
   "outputs": [
    {
     "data": {
      "text/html": [
       "<div>\n",
       "<style scoped>\n",
       "    .dataframe tbody tr th:only-of-type {\n",
       "        vertical-align: middle;\n",
       "    }\n",
       "\n",
       "    .dataframe tbody tr th {\n",
       "        vertical-align: top;\n",
       "    }\n",
       "\n",
       "    .dataframe thead th {\n",
       "        text-align: right;\n",
       "    }\n",
       "</style>\n",
       "<table border=\"1\" class=\"dataframe\">\n",
       "  <thead>\n",
       "    <tr style=\"text-align: right;\">\n",
       "      <th></th>\n",
       "      <th>car_ID</th>\n",
       "      <th>symboling</th>\n",
       "      <th>CarName</th>\n",
       "      <th>fueltype</th>\n",
       "      <th>aspiration</th>\n",
       "      <th>doornumber</th>\n",
       "      <th>carbody</th>\n",
       "      <th>drivewheel</th>\n",
       "      <th>enginelocation</th>\n",
       "      <th>wheelbase</th>\n",
       "      <th>...</th>\n",
       "      <th>enginesize</th>\n",
       "      <th>fuelsystem</th>\n",
       "      <th>boreratio</th>\n",
       "      <th>stroke</th>\n",
       "      <th>compressionratio</th>\n",
       "      <th>horsepower</th>\n",
       "      <th>peakrpm</th>\n",
       "      <th>citympg</th>\n",
       "      <th>highwaympg</th>\n",
       "      <th>price</th>\n",
       "    </tr>\n",
       "  </thead>\n",
       "  <tbody>\n",
       "    <tr>\n",
       "      <th>0</th>\n",
       "      <td>1</td>\n",
       "      <td>3</td>\n",
       "      <td>alfa-romero giulia</td>\n",
       "      <td>gas</td>\n",
       "      <td>std</td>\n",
       "      <td>two</td>\n",
       "      <td>convertible</td>\n",
       "      <td>rwd</td>\n",
       "      <td>front</td>\n",
       "      <td>88.6</td>\n",
       "      <td>...</td>\n",
       "      <td>130</td>\n",
       "      <td>mpfi</td>\n",
       "      <td>3.47</td>\n",
       "      <td>2.68</td>\n",
       "      <td>9.0</td>\n",
       "      <td>111</td>\n",
       "      <td>5000</td>\n",
       "      <td>21</td>\n",
       "      <td>27</td>\n",
       "      <td>13495.0</td>\n",
       "    </tr>\n",
       "    <tr>\n",
       "      <th>1</th>\n",
       "      <td>2</td>\n",
       "      <td>3</td>\n",
       "      <td>alfa-romero stelvio</td>\n",
       "      <td>gas</td>\n",
       "      <td>std</td>\n",
       "      <td>two</td>\n",
       "      <td>convertible</td>\n",
       "      <td>rwd</td>\n",
       "      <td>front</td>\n",
       "      <td>88.6</td>\n",
       "      <td>...</td>\n",
       "      <td>130</td>\n",
       "      <td>mpfi</td>\n",
       "      <td>3.47</td>\n",
       "      <td>2.68</td>\n",
       "      <td>9.0</td>\n",
       "      <td>111</td>\n",
       "      <td>5000</td>\n",
       "      <td>21</td>\n",
       "      <td>27</td>\n",
       "      <td>16500.0</td>\n",
       "    </tr>\n",
       "    <tr>\n",
       "      <th>2</th>\n",
       "      <td>3</td>\n",
       "      <td>1</td>\n",
       "      <td>alfa-romero Quadrifoglio</td>\n",
       "      <td>gas</td>\n",
       "      <td>std</td>\n",
       "      <td>two</td>\n",
       "      <td>hatchback</td>\n",
       "      <td>rwd</td>\n",
       "      <td>front</td>\n",
       "      <td>94.5</td>\n",
       "      <td>...</td>\n",
       "      <td>152</td>\n",
       "      <td>mpfi</td>\n",
       "      <td>2.68</td>\n",
       "      <td>3.47</td>\n",
       "      <td>9.0</td>\n",
       "      <td>154</td>\n",
       "      <td>5000</td>\n",
       "      <td>19</td>\n",
       "      <td>26</td>\n",
       "      <td>16500.0</td>\n",
       "    </tr>\n",
       "    <tr>\n",
       "      <th>3</th>\n",
       "      <td>4</td>\n",
       "      <td>2</td>\n",
       "      <td>audi 100 ls</td>\n",
       "      <td>gas</td>\n",
       "      <td>std</td>\n",
       "      <td>four</td>\n",
       "      <td>sedan</td>\n",
       "      <td>fwd</td>\n",
       "      <td>front</td>\n",
       "      <td>99.8</td>\n",
       "      <td>...</td>\n",
       "      <td>109</td>\n",
       "      <td>mpfi</td>\n",
       "      <td>3.19</td>\n",
       "      <td>3.40</td>\n",
       "      <td>10.0</td>\n",
       "      <td>102</td>\n",
       "      <td>5500</td>\n",
       "      <td>24</td>\n",
       "      <td>30</td>\n",
       "      <td>13950.0</td>\n",
       "    </tr>\n",
       "    <tr>\n",
       "      <th>4</th>\n",
       "      <td>5</td>\n",
       "      <td>2</td>\n",
       "      <td>audi 100ls</td>\n",
       "      <td>gas</td>\n",
       "      <td>std</td>\n",
       "      <td>four</td>\n",
       "      <td>sedan</td>\n",
       "      <td>4wd</td>\n",
       "      <td>front</td>\n",
       "      <td>99.4</td>\n",
       "      <td>...</td>\n",
       "      <td>136</td>\n",
       "      <td>mpfi</td>\n",
       "      <td>3.19</td>\n",
       "      <td>3.40</td>\n",
       "      <td>8.0</td>\n",
       "      <td>115</td>\n",
       "      <td>5500</td>\n",
       "      <td>18</td>\n",
       "      <td>22</td>\n",
       "      <td>17450.0</td>\n",
       "    </tr>\n",
       "  </tbody>\n",
       "</table>\n",
       "<p>5 rows × 26 columns</p>\n",
       "</div>"
      ],
      "text/plain": [
       "   car_ID  symboling                   CarName fueltype aspiration doornumber  \\\n",
       "0       1          3        alfa-romero giulia      gas        std        two   \n",
       "1       2          3       alfa-romero stelvio      gas        std        two   \n",
       "2       3          1  alfa-romero Quadrifoglio      gas        std        two   \n",
       "3       4          2               audi 100 ls      gas        std       four   \n",
       "4       5          2                audi 100ls      gas        std       four   \n",
       "\n",
       "       carbody drivewheel enginelocation  wheelbase  ...  enginesize  \\\n",
       "0  convertible        rwd          front       88.6  ...         130   \n",
       "1  convertible        rwd          front       88.6  ...         130   \n",
       "2    hatchback        rwd          front       94.5  ...         152   \n",
       "3        sedan        fwd          front       99.8  ...         109   \n",
       "4        sedan        4wd          front       99.4  ...         136   \n",
       "\n",
       "   fuelsystem  boreratio  stroke compressionratio horsepower  peakrpm citympg  \\\n",
       "0        mpfi       3.47    2.68              9.0        111     5000      21   \n",
       "1        mpfi       3.47    2.68              9.0        111     5000      21   \n",
       "2        mpfi       2.68    3.47              9.0        154     5000      19   \n",
       "3        mpfi       3.19    3.40             10.0        102     5500      24   \n",
       "4        mpfi       3.19    3.40              8.0        115     5500      18   \n",
       "\n",
       "   highwaympg    price  \n",
       "0          27  13495.0  \n",
       "1          27  16500.0  \n",
       "2          26  16500.0  \n",
       "3          30  13950.0  \n",
       "4          22  17450.0  \n",
       "\n",
       "[5 rows x 26 columns]"
      ]
     },
     "execution_count": 2,
     "metadata": {},
     "output_type": "execute_result"
    }
   ],
   "source": [
    "df = pd.read_csv('CarPrice_Assignment.csv')\n",
    "df.head()"
   ]
  },
  {
   "cell_type": "code",
   "execution_count": 3,
   "id": "4c460786",
   "metadata": {},
   "outputs": [
    {
     "data": {
      "text/plain": [
       "(205, 26)"
      ]
     },
     "execution_count": 3,
     "metadata": {},
     "output_type": "execute_result"
    }
   ],
   "source": [
    "df.shape"
   ]
  },
  {
   "cell_type": "code",
   "execution_count": 4,
   "id": "f16384d8",
   "metadata": {},
   "outputs": [
    {
     "data": {
      "text/plain": [
       "Index(['car_ID', 'symboling', 'CarName', 'fueltype', 'aspiration',\n",
       "       'doornumber', 'carbody', 'drivewheel', 'enginelocation', 'wheelbase',\n",
       "       'carlength', 'carwidth', 'carheight', 'curbweight', 'enginetype',\n",
       "       'cylindernumber', 'enginesize', 'fuelsystem', 'boreratio', 'stroke',\n",
       "       'compressionratio', 'horsepower', 'peakrpm', 'citympg', 'highwaympg',\n",
       "       'price'],\n",
       "      dtype='object')"
      ]
     },
     "execution_count": 4,
     "metadata": {},
     "output_type": "execute_result"
    }
   ],
   "source": [
    "df.columns"
   ]
  },
  {
   "cell_type": "code",
   "execution_count": 5,
   "id": "01bdd426",
   "metadata": {},
   "outputs": [],
   "source": [
    "df.drop(['car_ID', 'symboling', 'CarName'], axis=1, inplace=True)"
   ]
  },
  {
   "cell_type": "code",
   "execution_count": 6,
   "id": "78fa3378",
   "metadata": {},
   "outputs": [
    {
     "data": {
      "text/html": [
       "<div>\n",
       "<style scoped>\n",
       "    .dataframe tbody tr th:only-of-type {\n",
       "        vertical-align: middle;\n",
       "    }\n",
       "\n",
       "    .dataframe tbody tr th {\n",
       "        vertical-align: top;\n",
       "    }\n",
       "\n",
       "    .dataframe thead th {\n",
       "        text-align: right;\n",
       "    }\n",
       "</style>\n",
       "<table border=\"1\" class=\"dataframe\">\n",
       "  <thead>\n",
       "    <tr style=\"text-align: right;\">\n",
       "      <th></th>\n",
       "      <th>wheelbase</th>\n",
       "      <th>carlength</th>\n",
       "      <th>carwidth</th>\n",
       "      <th>carheight</th>\n",
       "      <th>curbweight</th>\n",
       "      <th>enginesize</th>\n",
       "      <th>boreratio</th>\n",
       "      <th>stroke</th>\n",
       "      <th>compressionratio</th>\n",
       "      <th>horsepower</th>\n",
       "      <th>...</th>\n",
       "      <th>cylindernumber_twelve</th>\n",
       "      <th>cylindernumber_two</th>\n",
       "      <th>fuelsystem_1bbl</th>\n",
       "      <th>fuelsystem_2bbl</th>\n",
       "      <th>fuelsystem_4bbl</th>\n",
       "      <th>fuelsystem_idi</th>\n",
       "      <th>fuelsystem_mfi</th>\n",
       "      <th>fuelsystem_mpfi</th>\n",
       "      <th>fuelsystem_spdi</th>\n",
       "      <th>fuelsystem_spfi</th>\n",
       "    </tr>\n",
       "  </thead>\n",
       "  <tbody>\n",
       "    <tr>\n",
       "      <th>0</th>\n",
       "      <td>88.6</td>\n",
       "      <td>168.8</td>\n",
       "      <td>64.1</td>\n",
       "      <td>48.8</td>\n",
       "      <td>2548</td>\n",
       "      <td>130</td>\n",
       "      <td>3.47</td>\n",
       "      <td>2.68</td>\n",
       "      <td>9.0</td>\n",
       "      <td>111</td>\n",
       "      <td>...</td>\n",
       "      <td>0</td>\n",
       "      <td>0</td>\n",
       "      <td>0</td>\n",
       "      <td>0</td>\n",
       "      <td>0</td>\n",
       "      <td>0</td>\n",
       "      <td>0</td>\n",
       "      <td>1</td>\n",
       "      <td>0</td>\n",
       "      <td>0</td>\n",
       "    </tr>\n",
       "    <tr>\n",
       "      <th>1</th>\n",
       "      <td>88.6</td>\n",
       "      <td>168.8</td>\n",
       "      <td>64.1</td>\n",
       "      <td>48.8</td>\n",
       "      <td>2548</td>\n",
       "      <td>130</td>\n",
       "      <td>3.47</td>\n",
       "      <td>2.68</td>\n",
       "      <td>9.0</td>\n",
       "      <td>111</td>\n",
       "      <td>...</td>\n",
       "      <td>0</td>\n",
       "      <td>0</td>\n",
       "      <td>0</td>\n",
       "      <td>0</td>\n",
       "      <td>0</td>\n",
       "      <td>0</td>\n",
       "      <td>0</td>\n",
       "      <td>1</td>\n",
       "      <td>0</td>\n",
       "      <td>0</td>\n",
       "    </tr>\n",
       "    <tr>\n",
       "      <th>2</th>\n",
       "      <td>94.5</td>\n",
       "      <td>171.2</td>\n",
       "      <td>65.5</td>\n",
       "      <td>52.4</td>\n",
       "      <td>2823</td>\n",
       "      <td>152</td>\n",
       "      <td>2.68</td>\n",
       "      <td>3.47</td>\n",
       "      <td>9.0</td>\n",
       "      <td>154</td>\n",
       "      <td>...</td>\n",
       "      <td>0</td>\n",
       "      <td>0</td>\n",
       "      <td>0</td>\n",
       "      <td>0</td>\n",
       "      <td>0</td>\n",
       "      <td>0</td>\n",
       "      <td>0</td>\n",
       "      <td>1</td>\n",
       "      <td>0</td>\n",
       "      <td>0</td>\n",
       "    </tr>\n",
       "    <tr>\n",
       "      <th>3</th>\n",
       "      <td>99.8</td>\n",
       "      <td>176.6</td>\n",
       "      <td>66.2</td>\n",
       "      <td>54.3</td>\n",
       "      <td>2337</td>\n",
       "      <td>109</td>\n",
       "      <td>3.19</td>\n",
       "      <td>3.40</td>\n",
       "      <td>10.0</td>\n",
       "      <td>102</td>\n",
       "      <td>...</td>\n",
       "      <td>0</td>\n",
       "      <td>0</td>\n",
       "      <td>0</td>\n",
       "      <td>0</td>\n",
       "      <td>0</td>\n",
       "      <td>0</td>\n",
       "      <td>0</td>\n",
       "      <td>1</td>\n",
       "      <td>0</td>\n",
       "      <td>0</td>\n",
       "    </tr>\n",
       "    <tr>\n",
       "      <th>4</th>\n",
       "      <td>99.4</td>\n",
       "      <td>176.6</td>\n",
       "      <td>66.4</td>\n",
       "      <td>54.3</td>\n",
       "      <td>2824</td>\n",
       "      <td>136</td>\n",
       "      <td>3.19</td>\n",
       "      <td>3.40</td>\n",
       "      <td>8.0</td>\n",
       "      <td>115</td>\n",
       "      <td>...</td>\n",
       "      <td>0</td>\n",
       "      <td>0</td>\n",
       "      <td>0</td>\n",
       "      <td>0</td>\n",
       "      <td>0</td>\n",
       "      <td>0</td>\n",
       "      <td>0</td>\n",
       "      <td>1</td>\n",
       "      <td>0</td>\n",
       "      <td>0</td>\n",
       "    </tr>\n",
       "  </tbody>\n",
       "</table>\n",
       "<p>5 rows × 52 columns</p>\n",
       "</div>"
      ],
      "text/plain": [
       "   wheelbase  carlength  carwidth  carheight  curbweight  enginesize  \\\n",
       "0       88.6      168.8      64.1       48.8        2548         130   \n",
       "1       88.6      168.8      64.1       48.8        2548         130   \n",
       "2       94.5      171.2      65.5       52.4        2823         152   \n",
       "3       99.8      176.6      66.2       54.3        2337         109   \n",
       "4       99.4      176.6      66.4       54.3        2824         136   \n",
       "\n",
       "   boreratio  stroke  compressionratio  horsepower  ...  \\\n",
       "0       3.47    2.68               9.0         111  ...   \n",
       "1       3.47    2.68               9.0         111  ...   \n",
       "2       2.68    3.47               9.0         154  ...   \n",
       "3       3.19    3.40              10.0         102  ...   \n",
       "4       3.19    3.40               8.0         115  ...   \n",
       "\n",
       "   cylindernumber_twelve  cylindernumber_two  fuelsystem_1bbl  \\\n",
       "0                      0                   0                0   \n",
       "1                      0                   0                0   \n",
       "2                      0                   0                0   \n",
       "3                      0                   0                0   \n",
       "4                      0                   0                0   \n",
       "\n",
       "   fuelsystem_2bbl  fuelsystem_4bbl  fuelsystem_idi  fuelsystem_mfi  \\\n",
       "0                0                0               0               0   \n",
       "1                0                0               0               0   \n",
       "2                0                0               0               0   \n",
       "3                0                0               0               0   \n",
       "4                0                0               0               0   \n",
       "\n",
       "   fuelsystem_mpfi  fuelsystem_spdi  fuelsystem_spfi  \n",
       "0                1                0                0  \n",
       "1                1                0                0  \n",
       "2                1                0                0  \n",
       "3                1                0                0  \n",
       "4                1                0                0  \n",
       "\n",
       "[5 rows x 52 columns]"
      ]
     },
     "execution_count": 6,
     "metadata": {},
     "output_type": "execute_result"
    }
   ],
   "source": [
    "df = pd.get_dummies(df)\n",
    "\n",
    "df.head()"
   ]
  },
  {
   "cell_type": "code",
   "execution_count": 7,
   "id": "11efd9fc",
   "metadata": {},
   "outputs": [
    {
     "data": {
      "text/plain": [
       "(205, 52)"
      ]
     },
     "execution_count": 7,
     "metadata": {},
     "output_type": "execute_result"
    }
   ],
   "source": [
    "df.shape"
   ]
  },
  {
   "cell_type": "code",
   "execution_count": 8,
   "id": "167f2534",
   "metadata": {},
   "outputs": [],
   "source": [
    "x = df.drop('price', axis=1)\n",
    "\n",
    "y = df['price']"
   ]
  },
  {
   "cell_type": "code",
   "execution_count": 9,
   "id": "eadaec67",
   "metadata": {},
   "outputs": [],
   "source": [
    "from sklearn.model_selection import train_test_split\n",
    "from sklearn.linear_model import LinearRegression\n",
    "from sklearn.metrics import r2_score"
   ]
  },
  {
   "cell_type": "code",
   "execution_count": 10,
   "id": "5b2d3f01",
   "metadata": {},
   "outputs": [],
   "source": [
    "xtrain, xtest, ytrain, ytest = train_test_split(x,y, test_size=0.2)"
   ]
  },
  {
   "cell_type": "code",
   "execution_count": 11,
   "id": "766a4960",
   "metadata": {},
   "outputs": [
    {
     "data": {
      "text/plain": [
       "LinearRegression()"
      ]
     },
     "execution_count": 11,
     "metadata": {},
     "output_type": "execute_result"
    }
   ],
   "source": [
    "model = LinearRegression()\n",
    "\n",
    "model.fit(xtrain, ytrain)"
   ]
  },
  {
   "cell_type": "code",
   "execution_count": 12,
   "id": "23cba9de",
   "metadata": {},
   "outputs": [
    {
     "data": {
      "text/plain": [
       "0.9309671734137511"
      ]
     },
     "execution_count": 12,
     "metadata": {},
     "output_type": "execute_result"
    }
   ],
   "source": [
    "model.score(xtrain, ytrain)"
   ]
  },
  {
   "cell_type": "code",
   "execution_count": 13,
   "id": "ef3439df",
   "metadata": {},
   "outputs": [
    {
     "data": {
      "text/plain": [
       "array([ 6532.06741312, 36599.49553086, 10340.03008572,  4928.00921921,\n",
       "       11577.96205159, 12679.22845478,  4595.5939142 , 18990.59731362,\n",
       "       38588.44677716, 16219.86817352,  6871.00885364,  6578.30010782,\n",
       "       34150.14157993,  7976.38850863,  5996.27256826,  8183.68857   ,\n",
       "        7339.94892343, 26629.69943702,  6922.89758678,  7279.58757387,\n",
       "       32511.14905555,  7444.13118352, 17721.15691348, 13460.18789754,\n",
       "       20762.57856505,  5520.86195924,  7171.86024641, 10581.78531582,\n",
       "       20573.77124321, 14744.01575602, 12179.85686069, 12781.76788406,\n",
       "       11420.0709494 , 10017.77915095, 17362.09244059, 15640.65198195,\n",
       "        9275.51853042, 15529.50968143, 13599.08083442, 38679.02223236,\n",
       "        7714.80909113])"
      ]
     },
     "execution_count": 13,
     "metadata": {},
     "output_type": "execute_result"
    }
   ],
   "source": [
    "ypred = model.predict(xtest)\n",
    "\n",
    "ypred"
   ]
  },
  {
   "cell_type": "code",
   "execution_count": 14,
   "id": "f051b198",
   "metadata": {},
   "outputs": [
    {
     "data": {
      "text/plain": [
       "0.9320903294437305"
      ]
     },
     "execution_count": 14,
     "metadata": {},
     "output_type": "execute_result"
    }
   ],
   "source": [
    "r2_score(ytest, ypred)"
   ]
  },
  {
   "cell_type": "markdown",
   "id": "bff7c35f",
   "metadata": {},
   "source": [
    "## serialize the model using JSON"
   ]
  },
  {
   "cell_type": "code",
   "execution_count": null,
   "id": "52b5c42e",
   "metadata": {},
   "outputs": [],
   "source": [
    "y = m1x1 + m2x2 ... + C + e\n",
    "\n",
    "y = b1x1 + b2x2 ... + b0 + e"
   ]
  },
  {
   "cell_type": "code",
   "execution_count": 15,
   "id": "1544d2c1",
   "metadata": {
    "scrolled": true
   },
   "outputs": [
    {
     "data": {
      "text/plain": [
       "array([ 7.00281429e+00, -7.60567750e+01,  7.64328354e+02,  8.63368922e+01,\n",
       "        5.01418988e+00,  1.08481863e+02, -1.47473155e+03, -4.42942196e+03,\n",
       "       -7.33848247e+02,  1.04485542e+01,  1.89752229e+00, -1.38131689e+02,\n",
       "        1.86210488e+02,  3.62981474e+03, -3.62981474e+03, -9.61049226e+02,\n",
       "        9.61049226e+02, -3.86322573e+02,  3.86322573e+02,  2.54418964e+03,\n",
       "       -1.76888790e+03, -7.75819650e+02,  7.45398689e+02, -7.44880781e+02,\n",
       "       -5.70108108e+02, -7.88174827e+01,  6.48925591e+02, -3.95715973e+03,\n",
       "        3.95715973e+03, -1.97085204e+02,  2.72848411e-12, -3.92330120e+02,\n",
       "        3.47003807e+03,  1.27988161e+03, -5.63819830e+03,  1.47769394e+03,\n",
       "        5.41568547e+03, -3.56600277e+03, -3.71588795e+03, -3.60275596e+02,\n",
       "        5.29135884e+03, -4.54257194e+03,  1.47769394e+03,  7.30708746e+02,\n",
       "        4.86243126e+02,  1.47769394e+03,  3.62981474e+03, -3.61038441e+03,\n",
       "        5.82018452e+02, -2.78513525e+03, -5.10959353e+02])"
      ]
     },
     "execution_count": 15,
     "metadata": {},
     "output_type": "execute_result"
    }
   ],
   "source": [
    "model.coef_"
   ]
  },
  {
   "cell_type": "code",
   "execution_count": 16,
   "id": "2c9ce7f9",
   "metadata": {},
   "outputs": [
    {
     "data": {
      "text/plain": [
       "-34737.687070319975"
      ]
     },
     "execution_count": 16,
     "metadata": {},
     "output_type": "execute_result"
    }
   ],
   "source": [
    "model.intercept_"
   ]
  },
  {
   "cell_type": "code",
   "execution_count": 17,
   "id": "b1788c25",
   "metadata": {},
   "outputs": [],
   "source": [
    "model_parameters = {}\n",
    "\n",
    "model_parameters['coef'] = list(model.coef_)\n",
    "model_parameters['intercept'] = model.intercept_.tolist()"
   ]
  },
  {
   "cell_type": "code",
   "execution_count": 19,
   "id": "7f687b1b",
   "metadata": {},
   "outputs": [],
   "source": [
    "# model_parameters"
   ]
  },
  {
   "cell_type": "code",
   "execution_count": 20,
   "id": "7da8bc7c",
   "metadata": {},
   "outputs": [],
   "source": [
    "import json"
   ]
  },
  {
   "cell_type": "code",
   "execution_count": 22,
   "id": "85aba02e",
   "metadata": {},
   "outputs": [
    {
     "name": "stdout",
     "output_type": "stream",
     "text": [
      "{\n",
      "    \"coef\": [\n",
      "        7.002814292293383,\n",
      "        -76.05677502580467,\n",
      "        764.3283541963935,\n",
      "        86.33689222393502,\n",
      "        5.014189879498218,\n",
      "        108.48186282840074,\n",
      "        -1474.731552968005,\n",
      "        -4429.421959751171,\n",
      "        -733.8482473067556,\n",
      "        10.448554227956151,\n",
      "        1.8975222925146227,\n",
      "        -138.1316889930522,\n",
      "        186.21048760701888,\n",
      "        3629.8147359512664,\n",
      "        -3629.8147359512623,\n",
      "        -961.0492257550861,\n",
      "        961.049225755097,\n",
      "        -386.32257250583774,\n",
      "        386.32257250580665,\n",
      "        2544.1896376835784,\n",
      "        -1768.8878965285353,\n",
      "        -775.8196497930193,\n",
      "        745.3986891956024,\n",
      "        -744.8807805576143,\n",
      "        -570.1081080542197,\n",
      "        -78.8174827007405,\n",
      "        648.9255907549468,\n",
      "        -3957.1597299348327,\n",
      "        3957.1597299348423,\n",
      "        -197.08520398321076,\n",
      "        2.7284841053187847e-12,\n",
      "        -392.3301196718935,\n",
      "        3470.0380687841657,\n",
      "        1279.881612403621,\n",
      "        -5638.198301019618,\n",
      "        1477.6939434870021,\n",
      "        5415.685467427094,\n",
      "        -3566.0027704457393,\n",
      "        -3715.8879472811127,\n",
      "        -360.2755961525183,\n",
      "        5291.358842415415,\n",
      "        -4542.571939450059,\n",
      "        1477.6939434870012,\n",
      "        730.7087464431605,\n",
      "        486.24312565902534,\n",
      "        1477.6939434870012,\n",
      "        3629.814735951267,\n",
      "        -3610.3844050536577,\n",
      "        582.0184517005075,\n",
      "        -2785.13524556753,\n",
      "        -510.95935261978974\n",
      "    ],\n",
      "    \"intercept\": -34737.687070319975\n",
      "}\n"
     ]
    }
   ],
   "source": [
    "json_text = json.dumps(model_parameters, indent=4)\n",
    "\n",
    "# json.dumps -> return a JSON string representing a python object\n",
    "\n",
    "print(json_text)"
   ]
  },
  {
   "cell_type": "code",
   "execution_count": 23,
   "id": "53e76074",
   "metadata": {},
   "outputs": [],
   "source": [
    "# save model parameters into a seperate file\n",
    "# file handling\n",
    "\n",
    "with open('models/regressor_parameters.txt', 'w') as file:\n",
    "    file.write(json_text)"
   ]
  },
  {
   "cell_type": "markdown",
   "id": "39ebc8e9",
   "metadata": {},
   "source": [
    "### load json model and make predictions"
   ]
  },
  {
   "cell_type": "code",
   "execution_count": 24,
   "id": "1e025a61",
   "metadata": {},
   "outputs": [],
   "source": [
    "with open('models/regressor_parameters.txt', 'r') as file:\n",
    "    json_text_loaded = json.load(file)"
   ]
  },
  {
   "cell_type": "code",
   "execution_count": 25,
   "id": "2fcbd919",
   "metadata": {},
   "outputs": [],
   "source": [
    "json_model = LinearRegression()"
   ]
  },
  {
   "cell_type": "code",
   "execution_count": 26,
   "id": "bd270c12",
   "metadata": {},
   "outputs": [],
   "source": [
    "json_model.coef_ = np.array(json_text_loaded['coef'])\n",
    "json_model.intercept_ = np.array(json_text_loaded['intercept'])"
   ]
  },
  {
   "cell_type": "code",
   "execution_count": 27,
   "id": "a01bbaf5",
   "metadata": {},
   "outputs": [
    {
     "name": "stderr",
     "output_type": "stream",
     "text": [
      "C:\\Users\\himan\\anaconda3\\lib\\site-packages\\sklearn\\base.py:443: UserWarning: X has feature names, but LinearRegression was fitted without feature names\n",
      "  warnings.warn(\n"
     ]
    },
    {
     "data": {
      "text/plain": [
       "0.9320903294437305"
      ]
     },
     "execution_count": 27,
     "metadata": {},
     "output_type": "execute_result"
    }
   ],
   "source": [
    "ypred_json = json_model.predict(xtest)\n",
    "\n",
    "r2_score(ytest, ypred_json)"
   ]
  },
  {
   "cell_type": "markdown",
   "id": "269d8a75",
   "metadata": {},
   "source": [
    "- the issue with JSON serialization is you need to know what model parameters should be saved\n",
    "\n",
    "- for complex algorithms where you have a lot of parameters like SVM, RandomForest, \n",
    "    than we have to go for pickle or joblib"
   ]
  },
  {
   "cell_type": "markdown",
   "id": "e34c92aa",
   "metadata": {},
   "source": [
    "### serializing ML model using pickle"
   ]
  },
  {
   "cell_type": "code",
   "execution_count": 28,
   "id": "8973696a",
   "metadata": {},
   "outputs": [],
   "source": [
    "import pickle"
   ]
  },
  {
   "cell_type": "code",
   "execution_count": 29,
   "id": "e9fe031f",
   "metadata": {},
   "outputs": [],
   "source": [
    "pickle.dump(model, open('models/pickle_model.pkl', 'wb'))  # wb -> write bytestream"
   ]
  },
  {
   "cell_type": "code",
   "execution_count": 30,
   "id": "dd4f1067",
   "metadata": {},
   "outputs": [],
   "source": [
    "# open the pickle model and make the predictions\n",
    "\n",
    "pickle_model = pickle.load(open('models/pickle_model.pkl', 'rb'))  #rb -> read bytestream"
   ]
  },
  {
   "cell_type": "code",
   "execution_count": 31,
   "id": "ce544c9e",
   "metadata": {},
   "outputs": [
    {
     "data": {
      "text/plain": [
       "array([ 6532.06741312, 36599.49553086, 10340.03008572,  4928.00921921,\n",
       "       11577.96205159, 12679.22845478,  4595.5939142 , 18990.59731362,\n",
       "       38588.44677716, 16219.86817352,  6871.00885364,  6578.30010782,\n",
       "       34150.14157993,  7976.38850863,  5996.27256826,  8183.68857   ,\n",
       "        7339.94892343, 26629.69943702,  6922.89758678,  7279.58757387,\n",
       "       32511.14905555,  7444.13118352, 17721.15691348, 13460.18789754,\n",
       "       20762.57856505,  5520.86195924,  7171.86024641, 10581.78531582,\n",
       "       20573.77124321, 14744.01575602, 12179.85686069, 12781.76788406,\n",
       "       11420.0709494 , 10017.77915095, 17362.09244059, 15640.65198195,\n",
       "        9275.51853042, 15529.50968143, 13599.08083442, 38679.02223236,\n",
       "        7714.80909113])"
      ]
     },
     "execution_count": 31,
     "metadata": {},
     "output_type": "execute_result"
    }
   ],
   "source": [
    "ypred_pickle = pickle_model.predict(xtest)\n",
    "\n",
    "ypred_pickle"
   ]
  },
  {
   "cell_type": "code",
   "execution_count": 32,
   "id": "0bf6120a",
   "metadata": {},
   "outputs": [
    {
     "data": {
      "text/plain": [
       "0.9320903294437305"
      ]
     },
     "execution_count": 32,
     "metadata": {},
     "output_type": "execute_result"
    }
   ],
   "source": [
    "r2_score(ytest, ypred_pickle)"
   ]
  },
  {
   "cell_type": "markdown",
   "id": "d46b3873",
   "metadata": {},
   "source": [
    "### serialize the ML model using joblib\n",
    "\n",
    "- better for cases where the python objects hold huge numpy arrays"
   ]
  },
  {
   "cell_type": "code",
   "execution_count": 33,
   "id": "bde66c37",
   "metadata": {},
   "outputs": [],
   "source": [
    "import joblib"
   ]
  },
  {
   "cell_type": "code",
   "execution_count": 34,
   "id": "0a4d204c",
   "metadata": {},
   "outputs": [],
   "source": [
    "filename = 'models/joblib_model.joblib'"
   ]
  },
  {
   "cell_type": "code",
   "execution_count": 35,
   "id": "16cb10b4",
   "metadata": {},
   "outputs": [
    {
     "data": {
      "text/plain": [
       "['models/joblib_model.joblib']"
      ]
     },
     "execution_count": 35,
     "metadata": {},
     "output_type": "execute_result"
    }
   ],
   "source": [
    "joblib.dump(model, filename)    # bytestream format"
   ]
  },
  {
   "cell_type": "code",
   "execution_count": 36,
   "id": "1212fe70",
   "metadata": {},
   "outputs": [
    {
     "data": {
      "text/plain": [
       "array([ 6532.06741312, 36599.49553086, 10340.03008572,  4928.00921921,\n",
       "       11577.96205159, 12679.22845478,  4595.5939142 , 18990.59731362,\n",
       "       38588.44677716, 16219.86817352,  6871.00885364,  6578.30010782,\n",
       "       34150.14157993,  7976.38850863,  5996.27256826,  8183.68857   ,\n",
       "        7339.94892343, 26629.69943702,  6922.89758678,  7279.58757387,\n",
       "       32511.14905555,  7444.13118352, 17721.15691348, 13460.18789754,\n",
       "       20762.57856505,  5520.86195924,  7171.86024641, 10581.78531582,\n",
       "       20573.77124321, 14744.01575602, 12179.85686069, 12781.76788406,\n",
       "       11420.0709494 , 10017.77915095, 17362.09244059, 15640.65198195,\n",
       "        9275.51853042, 15529.50968143, 13599.08083442, 38679.02223236,\n",
       "        7714.80909113])"
      ]
     },
     "execution_count": 36,
     "metadata": {},
     "output_type": "execute_result"
    }
   ],
   "source": [
    "## open the model file and make the predictions\n",
    "\n",
    "joblib_model = joblib.load(filename)\n",
    "\n",
    "ypred_joblib = joblib_model.predict(xtest)\n",
    "\n",
    "ypred_joblib"
   ]
  },
  {
   "cell_type": "code",
   "execution_count": 37,
   "id": "fc2fc23c",
   "metadata": {},
   "outputs": [
    {
     "data": {
      "text/plain": [
       "0.9320903294437305"
      ]
     },
     "execution_count": 37,
     "metadata": {},
     "output_type": "execute_result"
    }
   ],
   "source": [
    "r2_score(ytest, ypred_joblib)"
   ]
  },
  {
   "cell_type": "markdown",
   "id": "440df778",
   "metadata": {},
   "source": [
    "Serialization\n",
    "\n",
    "https://medium.com/@ashaicy/serialization-and-deserialization-techniques-in-python-deserialization-69beed1ed3ef\n",
    "\n",
    "\n",
    "LLMs Serialization\n",
    "\n",
    "https://www.reddit.com/r/MachineLearning/comments/15zdxfz/dabout_model_serialization_and_metadata/"
   ]
  },
  {
   "cell_type": "code",
   "execution_count": null,
   "id": "25eb34ac",
   "metadata": {},
   "outputs": [],
   "source": [
    "neuron to LLMs\n",
    "\n",
    "- explain\n",
    "- math(not in-depth)\n",
    "- code\n",
    "- industry key points for decision making\n",
    "- facts about it"
   ]
  },
  {
   "cell_type": "code",
   "execution_count": null,
   "id": "6a426d62",
   "metadata": {},
   "outputs": [],
   "source": []
  }
 ],
 "metadata": {
  "kernelspec": {
   "display_name": "Python 3 (ipykernel)",
   "language": "python",
   "name": "python3"
  },
  "language_info": {
   "codemirror_mode": {
    "name": "ipython",
    "version": 3
   },
   "file_extension": ".py",
   "mimetype": "text/x-python",
   "name": "python",
   "nbconvert_exporter": "python",
   "pygments_lexer": "ipython3",
   "version": "3.9.12"
  }
 },
 "nbformat": 4,
 "nbformat_minor": 5
}
