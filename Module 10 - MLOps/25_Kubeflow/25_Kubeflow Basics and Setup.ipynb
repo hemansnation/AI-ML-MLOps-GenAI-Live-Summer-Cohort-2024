{
 "cells": [
  {
   "cell_type": "markdown",
   "id": "046ff3ea",
   "metadata": {},
   "source": [
    "# ML workflow"
   ]
  },
  {
   "cell_type": "code",
   "execution_count": null,
   "id": "209692c6",
   "metadata": {},
   "outputs": [],
   "source": [
    "4 sections\n",
    "\n",
    "1. Problem\n",
    "    - Business Objective  -> Detect if someone is present in the campus\n",
    "    - Problem formulation -> Face Recognition for attendance\n",
    "2. Data\n",
    "    - Data Extraction\n",
    "    - Data Processing\n",
    "    - EDA\n",
    "3. Modeling\n",
    "    - Feature engineering\n",
    "    - Training\n",
    "    - Evalution\n",
    "4. Deployment\n",
    "    - Model storage\n",
    "    - performance monitoring"
   ]
  },
  {
   "cell_type": "markdown",
   "id": "661269e3",
   "metadata": {},
   "source": [
    "# Kubeflow\n",
    "\n",
    "https://www.kubeflow.org/docs/"
   ]
  },
  {
   "cell_type": "code",
   "execution_count": null,
   "id": "f96182cf",
   "metadata": {},
   "outputs": [],
   "source": [
    "open source ML toolkit for kubernetes\n",
    "\n",
    "kubernetes\n",
    "- open source framework by Google\n",
    "- run production workload from anywhere\n",
    "- heavy lifting of orchestration and management\n",
    "\n",
    "\n",
    "Kubeflow -> adapted kubernetes for machine learning"
   ]
  },
  {
   "cell_type": "code",
   "execution_count": null,
   "id": "60e0f6e0",
   "metadata": {},
   "outputs": [],
   "source": [
    "simple\n",
    "portable\n",
    "scalable workflow"
   ]
  },
  {
   "cell_type": "code",
   "execution_count": null,
   "id": "f04744f9",
   "metadata": {},
   "outputs": [],
   "source": [
    "1. multiuser environment\n",
    "    - jupyter notebook\n",
    "2. training at scale\n",
    "    - TF job\n",
    "    - PyTorch job\n",
    "    - MXnet\n",
    "3. serving and scoring\n",
    "    - KFserving\n",
    "    - TFserving\n",
    "    - NVIDIA TensorRT\n",
    "4. pipelines and experiments\n",
    "    - Katib\n",
    "    - metadata\n",
    "    - KF pipelines\n",
    "5. logging and monitoring\n",
    "    - Prometheus\n",
    "    - Grafana"
   ]
  },
  {
   "cell_type": "markdown",
   "id": "5f91be60",
   "metadata": {},
   "source": [
    "# Kubeflow Development Options\n",
    "\n",
    "- Public Cloud\n",
    "    - GCP (we are using in this project)\n",
    "    - AWS\n",
    "    - Azure\n",
    "- On-premise\n",
    "    - kubernetes cluster\n",
    "- Private cloud\n",
    "    - IBM private cloud\n",
    "- Local\n",
    "    - minikube\n",
    "    - miniKF"
   ]
  },
  {
   "cell_type": "code",
   "execution_count": null,
   "id": "7d2fb7b3",
   "metadata": {},
   "outputs": [],
   "source": [
    "GCP\n",
    "\n",
    "- UI approach\n",
    "- CLI (we are using this)\n",
    "    - command line interface\n",
    "    - more control\n",
    "    - automation"
   ]
  },
  {
   "cell_type": "markdown",
   "id": "55e6cb2a",
   "metadata": {},
   "source": [
    "# Prerequisites\n",
    "\n",
    "- Active GCP project\n",
    "    - cloud.google.com\n",
    "- gcloud\n",
    "    - Google cloud SDK\n",
    "    - https://cloud.google.com/sdk/docs/install\n",
    "    \n",
    "- Kubectl\n",
    "    - gcloud compenets install kubectl\n",
    "    - https://kubernetes.io/docs/tasks/tools/install-kubectl-windows/\n",
    "    - https://www.youtube.com/watch?v=G9MmLUsBd3g\n"
   ]
  },
  {
   "cell_type": "code",
   "execution_count": null,
   "id": "d09d68ff",
   "metadata": {},
   "outputs": [],
   "source": [
    "in your GCP console, enable these APIs\n",
    "\n",
    "- Compute Engine API\n",
    "- Kubernetes Engine API\n",
    "- Identity and Access Management(IAM) API\n",
    "- Cloud Deployment Manager V2 API"
   ]
  },
  {
   "cell_type": "code",
   "execution_count": null,
   "id": "a0a84cec",
   "metadata": {},
   "outputs": [],
   "source": []
  },
  {
   "cell_type": "code",
   "execution_count": null,
   "id": "6ed07d43",
   "metadata": {},
   "outputs": [],
   "source": [
    "authorized domain\n",
    "\n",
    "<project id>.cloud.goog"
   ]
  },
  {
   "cell_type": "code",
   "execution_count": null,
   "id": "8fd91a84",
   "metadata": {},
   "outputs": [],
   "source": [
    "client ID for web application\n",
    "\n",
    "redirect URI\n",
    "https://iap.googleapis.com/v1/oauth/clientids/<clientID>:handleredirect"
   ]
  },
  {
   "cell_type": "markdown",
   "id": "2de3a621",
   "metadata": {},
   "source": [
    "# Steps to setup GCP\n",
    "\n",
    "use set on the place of export for windows OS\n",
    "\n",
    "https://cloud.google.com/sdk/gcloud/reference/config/set"
   ]
  },
  {
   "cell_type": "code",
   "execution_count": null,
   "id": "01e6710a",
   "metadata": {},
   "outputs": [],
   "source": [
    "# login to gcloud for authentication : done once\n",
    "gcloud auth login\n",
    "# create application default credentials : done once\n",
    "gcloud auth application-default login\n",
    "# GCP Project ID\n",
    "export PROJECT=<SET_YOUR_GCP_PROJECT_ID>\n",
    "gcloud config set project ${PROJECT}\n",
    "# GCP Zone\n",
    "export ZONE=<SET_GCP_ZONE>\n",
    "gcloud config set compute/zone ${ZONE}"
   ]
  },
  {
   "cell_type": "code",
   "execution_count": null,
   "id": "002f6848",
   "metadata": {},
   "outputs": [],
   "source": [
    "# KFCTL file url : Get the latest file from \n",
    "# https://github.com/kubeflow/kfctl/releases  based on the operating system\n",
    "KFCTL_FILE_PATH=\"<KFCTL_FILE_URI>\"\n",
    "KFCTL_FILE=\"kfctl.tar.gz\"\n",
    "# download KFCTL compressed file\n",
    "wget $KFCTL_FILE_PATH -O $KFCTL_FILE\n",
    "# extract KFCTL\n",
    "tar -xvf ${KFCTL_FILE}\n",
    "#mv kfctl-${PLATFORM} kfctl\n",
    "# add kFCTL to path\n",
    "PATH=${PATH}:$(pwd)"
   ]
  },
  {
   "cell_type": "code",
   "execution_count": null,
   "id": "08408c71",
   "metadata": {},
   "outputs": [],
   "source": [
    "# Deployment Name e.g. pskfp-1\n",
    "export KF_NAME=<SET_DEPLOYMENT_NAME>\n",
    "# set client ID and client secret\n",
    "export CLIENT_ID=<CLIENT_ID>\n",
    "export CLIENT_SECRET=<CLIENT_SECRET>\n",
    "\n",
    "\t\n",
    "# set the config URI : use the official documentation to use the latest config file\n",
    "# get latest config URI from official Kubeflow documentation : https://www.kubeflow.org/docs/gke/deploy/deploy-cli/\n",
    "\n",
    "export CONFIG_URI=\"<CONFIG_URI>\"\n",
    "# CONFIG_URI=\"https://raw.githubusercontent.com/kubeflow/manifests/v0.7-branch/kfdef/kfctl_k8s_istio.0.7.1.yaml\"\n",
    "# set the base directory\t\n",
    "BASE_DIR=$(pwd)\n",
    "# set the directory for deployment\n",
    "KF_DIR=${BASE_DIR}/${KF_NAME}\n",
    "# create the directory\n",
    "mkdir -p ${KF_DIR}\n",
    "# navigate to the directory\n",
    "cd ${KF_DIR}\n",
    "# build deployment using the config file. Make changes in your configuration if needed\n",
    "kfctl build -V -f ${CONFIG_URI}\n"
   ]
  },
  {
   "cell_type": "code",
   "execution_count": null,
   "id": "4904e8fb",
   "metadata": {},
   "outputs": [],
   "source": []
  },
  {
   "cell_type": "code",
   "execution_count": null,
   "id": "a674f09b",
   "metadata": {},
   "outputs": [],
   "source": []
  },
  {
   "cell_type": "code",
   "execution_count": null,
   "id": "53ea79d1",
   "metadata": {},
   "outputs": [],
   "source": []
  },
  {
   "cell_type": "code",
   "execution_count": null,
   "id": "1e7d5939",
   "metadata": {},
   "outputs": [],
   "source": []
  },
  {
   "cell_type": "code",
   "execution_count": null,
   "id": "af4fab8b",
   "metadata": {},
   "outputs": [],
   "source": []
  }
 ],
 "metadata": {
  "kernelspec": {
   "display_name": "Python 3 (ipykernel)",
   "language": "python",
   "name": "python3"
  },
  "language_info": {
   "codemirror_mode": {
    "name": "ipython",
    "version": 3
   },
   "file_extension": ".py",
   "mimetype": "text/x-python",
   "name": "python",
   "nbconvert_exporter": "python",
   "pygments_lexer": "ipython3",
   "version": "3.9.12"
  }
 },
 "nbformat": 4,
 "nbformat_minor": 5
}
