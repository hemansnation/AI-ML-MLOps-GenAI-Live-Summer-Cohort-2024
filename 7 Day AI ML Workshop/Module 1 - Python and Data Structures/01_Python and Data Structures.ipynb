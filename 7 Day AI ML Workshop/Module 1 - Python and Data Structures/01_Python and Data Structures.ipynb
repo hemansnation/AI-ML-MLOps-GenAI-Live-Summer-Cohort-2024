{
 "cells": [
  {
   "cell_type": "markdown",
   "id": "06ef1e77",
   "metadata": {},
   "source": [
    "# Day 1 - Content\n",
    "\n",
    "- 1 | Basics and Installations\n",
    "- 2 | While Loops, Lists, Strings\n",
    "- 3 | Functions\n",
    "- 4 | Modules, Packages, and PIP\n",
    "- 5 | Data Structures\n",
    "\n",
    "### Python Beginner Series\n",
    "https://www.youtube.com/watch?v=O9VngcobHhk&list=PLMk98arLoBfq2B6_EJb3dG2wAXQtd4dSN\n",
    "\n",
    "\n",
    "### Install Git\n",
    "https://git-scm.com/downloads\n",
    "\n",
    "### Install Anaconda Navigator\n",
    "https://www.anaconda.com/download\n"
   ]
  },
  {
   "cell_type": "code",
   "execution_count": null,
   "id": "74ae38f9",
   "metadata": {},
   "outputs": [],
   "source": []
  },
  {
   "cell_type": "markdown",
   "id": "e3a1d0e1",
   "metadata": {},
   "source": [
    "# 1 | Basics and Installations"
   ]
  },
  {
   "cell_type": "code",
   "execution_count": 1,
   "id": "98b000f5",
   "metadata": {},
   "outputs": [
    {
     "name": "stdout",
     "output_type": "stream",
     "text": [
      "Hello World\n"
     ]
    }
   ],
   "source": [
    "print(\"Hello World\")"
   ]
  },
  {
   "cell_type": "code",
   "execution_count": 2,
   "id": "1e831917",
   "metadata": {},
   "outputs": [
    {
     "name": "stdout",
     "output_type": "stream",
     "text": [
      "Hello\n",
      "World\n"
     ]
    }
   ],
   "source": [
    "print(\"Hello\")\n",
    "print(\"World\")"
   ]
  },
  {
   "cell_type": "code",
   "execution_count": null,
   "id": "73e37dfa",
   "metadata": {},
   "outputs": [],
   "source": [
    "1 -> True\n",
    "0 -> False"
   ]
  },
  {
   "cell_type": "code",
   "execution_count": null,
   "id": "cba38594",
   "metadata": {},
   "outputs": [],
   "source": [
    "# c programming\n",
    "int a = 10;"
   ]
  },
  {
   "cell_type": "code",
   "execution_count": 5,
   "id": "43d95bc8",
   "metadata": {},
   "outputs": [
    {
     "name": "stdout",
     "output_type": "stream",
     "text": [
      "10\n"
     ]
    }
   ],
   "source": [
    "# variables\n",
    "\n",
    "a = 10\n",
    "\n",
    "print(a)"
   ]
  },
  {
   "cell_type": "code",
   "execution_count": 6,
   "id": "2325766f",
   "metadata": {},
   "outputs": [
    {
     "name": "stdout",
     "output_type": "stream",
     "text": [
      "<class 'int'>\n"
     ]
    }
   ],
   "source": [
    "print(type(a))"
   ]
  },
  {
   "cell_type": "code",
   "execution_count": 7,
   "id": "a06ec300",
   "metadata": {},
   "outputs": [
    {
     "name": "stdout",
     "output_type": "stream",
     "text": [
      "10.5\n",
      "<class 'float'>\n"
     ]
    }
   ],
   "source": [
    "b = 10.5\n",
    "\n",
    "print(b)\n",
    "\n",
    "print(type(b))"
   ]
  },
  {
   "cell_type": "code",
   "execution_count": 8,
   "id": "7e188340",
   "metadata": {},
   "outputs": [
    {
     "name": "stdout",
     "output_type": "stream",
     "text": [
      "10\n",
      "10\n"
     ]
    }
   ],
   "source": [
    "# taking values from user\n",
    "\n",
    "a = input()\n",
    "\n",
    "print(a)"
   ]
  },
  {
   "cell_type": "code",
   "execution_count": 9,
   "id": "a9f61154",
   "metadata": {},
   "outputs": [
    {
     "name": "stdout",
     "output_type": "stream",
     "text": [
      "Enter your name: Himanshu\n",
      "Himanshu\n"
     ]
    }
   ],
   "source": [
    "a = input(\"Enter your name: \")\n",
    "\n",
    "print(a)"
   ]
  },
  {
   "cell_type": "code",
   "execution_count": 10,
   "id": "b3beadff",
   "metadata": {},
   "outputs": [
    {
     "name": "stdout",
     "output_type": "stream",
     "text": [
      "Enter your name: Himanshu\n",
      "Hi Himanshu\n"
     ]
    }
   ],
   "source": [
    "a = input(\"Enter your name: \")\n",
    "\n",
    "print(\"Hi\", a)"
   ]
  },
  {
   "cell_type": "code",
   "execution_count": 11,
   "id": "a4706a56",
   "metadata": {},
   "outputs": [
    {
     "name": "stdout",
     "output_type": "stream",
     "text": [
      "Hello\n"
     ]
    }
   ],
   "source": [
    "# conditional statements\n",
    "\n",
    "a = 15\n",
    "\n",
    "if a > 10:\n",
    "    print(\"Hello\")"
   ]
  },
  {
   "cell_type": "code",
   "execution_count": 12,
   "id": "80ff636f",
   "metadata": {},
   "outputs": [
    {
     "name": "stdout",
     "output_type": "stream",
     "text": [
      "Hello\n"
     ]
    }
   ],
   "source": [
    "a = 15\n",
    "\n",
    "if a > 10:\n",
    "    print(\"Hello\")\n",
    "else:\n",
    "    print(\"Bye\")"
   ]
  },
  {
   "cell_type": "code",
   "execution_count": 13,
   "id": "04037e7e",
   "metadata": {},
   "outputs": [
    {
     "name": "stdout",
     "output_type": "stream",
     "text": [
      "Take your money\n"
     ]
    }
   ],
   "source": [
    "pin = 1234\n",
    "\n",
    "if pin == 1234:\n",
    "    print(\"Take your money\")\n",
    "else:\n",
    "    print(\"Incorrect Pin\")"
   ]
  },
  {
   "cell_type": "code",
   "execution_count": null,
   "id": "f8d9d9b5",
   "metadata": {},
   "outputs": [],
   "source": [
    "a = \"India\""
   ]
  },
  {
   "cell_type": "code",
   "execution_count": 16,
   "id": "da77ee02",
   "metadata": {},
   "outputs": [
    {
     "name": "stdout",
     "output_type": "stream",
     "text": [
      "Enter Your Pin: 1234\n",
      "Take your money\n"
     ]
    }
   ],
   "source": [
    "pin = int(input(\"Enter Your Pin: \"))\n",
    "\n",
    "if pin == 1234:\n",
    "    print(\"Take your money\")\n",
    "else:\n",
    "    print(\"Incorrect Pin\")"
   ]
  },
  {
   "cell_type": "markdown",
   "id": "53599978",
   "metadata": {},
   "source": [
    "# 2 | While Loops, Lists, Strings"
   ]
  },
  {
   "cell_type": "code",
   "execution_count": 17,
   "id": "2c4a2630",
   "metadata": {},
   "outputs": [
    {
     "name": "stdout",
     "output_type": "stream",
     "text": [
      "Himanshu\n"
     ]
    }
   ],
   "source": [
    "print(\"Himanshu\")"
   ]
  },
  {
   "cell_type": "code",
   "execution_count": 20,
   "id": "a7b818f0",
   "metadata": {},
   "outputs": [
    {
     "name": "stdout",
     "output_type": "stream",
     "text": [
      "False\n"
     ]
    }
   ],
   "source": [
    "i = 10\n",
    "print(i > 10)"
   ]
  },
  {
   "cell_type": "code",
   "execution_count": 21,
   "id": "449d12ce",
   "metadata": {},
   "outputs": [
    {
     "name": "stdout",
     "output_type": "stream",
     "text": [
      "Himanshu\n",
      "Himanshu\n",
      "Himanshu\n",
      "Himanshu\n",
      "Himanshu\n",
      "Himanshu\n",
      "Himanshu\n",
      "Himanshu\n",
      "Himanshu\n",
      "Himanshu\n"
     ]
    }
   ],
   "source": [
    "# While loop\n",
    "\n",
    "i = 1\n",
    "\n",
    "while i <= 10:\n",
    "    print(\"Himanshu\")\n",
    "    i = i + 1"
   ]
  },
  {
   "cell_type": "code",
   "execution_count": 22,
   "id": "64f02ca3",
   "metadata": {},
   "outputs": [
    {
     "name": "stdout",
     "output_type": "stream",
     "text": [
      "1\n",
      "2\n",
      "3\n",
      "4\n",
      "5\n",
      "6\n",
      "7\n",
      "8\n",
      "9\n",
      "10\n"
     ]
    }
   ],
   "source": [
    "i = 1\n",
    "\n",
    "while i <= 10:\n",
    "    print(i)\n",
    "    i = i + 1"
   ]
  },
  {
   "cell_type": "code",
   "execution_count": null,
   "id": "b3b7ffbc",
   "metadata": {},
   "outputs": [],
   "source": [
    "\\n -> new line character"
   ]
  },
  {
   "cell_type": "code",
   "execution_count": 24,
   "id": "2e1558d1",
   "metadata": {},
   "outputs": [
    {
     "name": "stdout",
     "output_type": "stream",
     "text": [
      "Hello\n",
      "World\n"
     ]
    }
   ],
   "source": [
    "print(\"Hello\", end=\"\\n\")\n",
    "print(\"World\")"
   ]
  },
  {
   "cell_type": "code",
   "execution_count": 25,
   "id": "01051364",
   "metadata": {},
   "outputs": [
    {
     "name": "stdout",
     "output_type": "stream",
     "text": [
      "Hello++World\n"
     ]
    }
   ],
   "source": [
    "print(\"Hello\", end=\"++\")\n",
    "print(\"World\")"
   ]
  },
  {
   "cell_type": "code",
   "execution_count": 26,
   "id": "df17c6ba",
   "metadata": {},
   "outputs": [
    {
     "name": "stdout",
     "output_type": "stream",
     "text": [
      "Hello World\n"
     ]
    }
   ],
   "source": [
    "print(\"Hello\", end=\" \")\n",
    "print(\"World\")"
   ]
  },
  {
   "cell_type": "code",
   "execution_count": 27,
   "id": "0a1db6a3",
   "metadata": {},
   "outputs": [
    {
     "name": "stdout",
     "output_type": "stream",
     "text": [
      "HelloWorld\n"
     ]
    }
   ],
   "source": [
    "print(\"Hello\", end=\"\")\n",
    "print(\"World\")"
   ]
  },
  {
   "cell_type": "code",
   "execution_count": null,
   "id": "9c389566",
   "metadata": {},
   "outputs": [],
   "source": [
    "# print the following series using while loop"
   ]
  },
  {
   "cell_type": "code",
   "execution_count": null,
   "id": "2639c95a",
   "metadata": {},
   "outputs": [],
   "source": [
    "1 2 3 4 5 6 7 8 9 10"
   ]
  },
  {
   "cell_type": "code",
   "execution_count": null,
   "id": "2e538c0e",
   "metadata": {},
   "outputs": [],
   "source": [
    "1 4 9 16 25 36 49 64 81 100"
   ]
  },
  {
   "cell_type": "markdown",
   "id": "c7d6c6e3",
   "metadata": {},
   "source": [
    "### List"
   ]
  },
  {
   "cell_type": "code",
   "execution_count": 28,
   "id": "059fca3d",
   "metadata": {},
   "outputs": [
    {
     "name": "stdout",
     "output_type": "stream",
     "text": [
      "[10, 20.4, 'Indore', 'A']\n",
      "<class 'list'>\n"
     ]
    }
   ],
   "source": [
    "#    -4   -3     -2      -1\n",
    "l = [10, 20.4 ,\"Indore\", 'A']\n",
    "#    0    1       2       3\n",
    "\n",
    "print(l)\n",
    "\n",
    "print(type(l))"
   ]
  },
  {
   "cell_type": "code",
   "execution_count": 29,
   "id": "1d8e6f8a",
   "metadata": {},
   "outputs": [
    {
     "name": "stdout",
     "output_type": "stream",
     "text": [
      "10\n"
     ]
    }
   ],
   "source": [
    "print(l[0])"
   ]
  },
  {
   "cell_type": "code",
   "execution_count": 30,
   "id": "83afcbd7",
   "metadata": {},
   "outputs": [
    {
     "name": "stdout",
     "output_type": "stream",
     "text": [
      "<class 'int'>\n"
     ]
    }
   ],
   "source": [
    "print(type(l[0]))"
   ]
  },
  {
   "cell_type": "code",
   "execution_count": 31,
   "id": "e2c3b871",
   "metadata": {},
   "outputs": [
    {
     "name": "stdout",
     "output_type": "stream",
     "text": [
      "10\n"
     ]
    }
   ],
   "source": [
    "print(l[-4])"
   ]
  },
  {
   "cell_type": "code",
   "execution_count": 32,
   "id": "11c6672c",
   "metadata": {},
   "outputs": [
    {
     "name": "stdout",
     "output_type": "stream",
     "text": [
      "Indore\n",
      "Indore\n"
     ]
    }
   ],
   "source": [
    "print(l[2])\n",
    "print(l[-2])"
   ]
  },
  {
   "cell_type": "markdown",
   "id": "62185cc2",
   "metadata": {},
   "source": [
    "### strings"
   ]
  },
  {
   "cell_type": "code",
   "execution_count": 33,
   "id": "396355e0",
   "metadata": {},
   "outputs": [
    {
     "name": "stdout",
     "output_type": "stream",
     "text": [
      "Indore\n",
      "<class 'str'>\n"
     ]
    }
   ],
   "source": [
    "#        -1\n",
    "s = \"Indore\"\n",
    "#    012345\n",
    "\n",
    "print(s)\n",
    "\n",
    "print(type(s))"
   ]
  },
  {
   "cell_type": "code",
   "execution_count": 34,
   "id": "0ca18902",
   "metadata": {},
   "outputs": [
    {
     "name": "stdout",
     "output_type": "stream",
     "text": [
      "I\n"
     ]
    }
   ],
   "source": [
    "print(s[0])"
   ]
  },
  {
   "cell_type": "code",
   "execution_count": 35,
   "id": "6fffd384",
   "metadata": {},
   "outputs": [
    {
     "name": "stdout",
     "output_type": "stream",
     "text": [
      "<class 'str'>\n"
     ]
    }
   ],
   "source": [
    "print(type(s[0]))"
   ]
  },
  {
   "cell_type": "code",
   "execution_count": 36,
   "id": "d726ad65",
   "metadata": {},
   "outputs": [
    {
     "name": "stdout",
     "output_type": "stream",
     "text": [
      "e\n"
     ]
    }
   ],
   "source": [
    "print(s[-1])"
   ]
  },
  {
   "cell_type": "code",
   "execution_count": 37,
   "id": "25840f3b",
   "metadata": {},
   "outputs": [
    {
     "name": "stdout",
     "output_type": "stream",
     "text": [
      "Indore\n",
      "<class 'str'>\n"
     ]
    }
   ],
   "source": [
    "s = 'Indore'\n",
    "\n",
    "print(s)\n",
    "\n",
    "print(type(s))"
   ]
  },
  {
   "cell_type": "code",
   "execution_count": 38,
   "id": "e3085cb5",
   "metadata": {},
   "outputs": [
    {
     "ename": "SyntaxError",
     "evalue": "invalid syntax (1513794406.py, line 1)",
     "output_type": "error",
     "traceback": [
      "\u001b[1;36m  Input \u001b[1;32mIn [38]\u001b[1;36m\u001b[0m\n\u001b[1;33m    s = 'It's'\u001b[0m\n\u001b[1;37m            ^\u001b[0m\n\u001b[1;31mSyntaxError\u001b[0m\u001b[1;31m:\u001b[0m invalid syntax\n"
     ]
    }
   ],
   "source": [
    "s = 'It's'\n",
    "\n",
    "print(s)"
   ]
  },
  {
   "cell_type": "code",
   "execution_count": 39,
   "id": "f129e334",
   "metadata": {},
   "outputs": [
    {
     "name": "stdout",
     "output_type": "stream",
     "text": [
      "It's\n"
     ]
    }
   ],
   "source": [
    "s = \"It's\"\n",
    "\n",
    "print(s)"
   ]
  },
  {
   "cell_type": "code",
   "execution_count": 40,
   "id": "52d6a576",
   "metadata": {},
   "outputs": [
    {
     "name": "stdout",
     "output_type": "stream",
     "text": [
      "'\n"
     ]
    }
   ],
   "source": [
    "print(s[2])"
   ]
  },
  {
   "cell_type": "code",
   "execution_count": null,
   "id": "b3cfff33",
   "metadata": {},
   "outputs": [],
   "source": []
  },
  {
   "cell_type": "markdown",
   "id": "01e44b30",
   "metadata": {},
   "source": [
    "# 3 | Functions"
   ]
  },
  {
   "cell_type": "code",
   "execution_count": 41,
   "id": "0b175494",
   "metadata": {},
   "outputs": [],
   "source": [
    "# code on demand\n",
    "\n",
    "def indore():                                 # definition of function\n",
    "    print(\"Hi from Indore\")"
   ]
  },
  {
   "cell_type": "code",
   "execution_count": 42,
   "id": "3cd80066",
   "metadata": {},
   "outputs": [
    {
     "name": "stdout",
     "output_type": "stream",
     "text": [
      "Hi from Indore\n"
     ]
    }
   ],
   "source": [
    "indore()                                      # calling function"
   ]
  },
  {
   "cell_type": "code",
   "execution_count": 43,
   "id": "e78e75f0",
   "metadata": {},
   "outputs": [
    {
     "name": "stdout",
     "output_type": "stream",
     "text": [
      "Hi from Indore\n"
     ]
    }
   ],
   "source": [
    "indore()"
   ]
  },
  {
   "cell_type": "code",
   "execution_count": 45,
   "id": "4ce2f2b8",
   "metadata": {},
   "outputs": [
    {
     "ename": "TypeError",
     "evalue": "square() missing 1 required positional argument: 'x'",
     "output_type": "error",
     "traceback": [
      "\u001b[1;31m---------------------------------------------------------------------------\u001b[0m",
      "\u001b[1;31mTypeError\u001b[0m                                 Traceback (most recent call last)",
      "Input \u001b[1;32mIn [45]\u001b[0m, in \u001b[0;36m<cell line: 4>\u001b[1;34m()\u001b[0m\n\u001b[0;32m      1\u001b[0m \u001b[38;5;28;01mdef\u001b[39;00m \u001b[38;5;21msquare\u001b[39m(x):\n\u001b[0;32m      2\u001b[0m     \u001b[38;5;28mprint\u001b[39m(x \u001b[38;5;241m+\u001b[39m \u001b[38;5;241m5\u001b[39m)\n\u001b[1;32m----> 4\u001b[0m \u001b[43msquare\u001b[49m\u001b[43m(\u001b[49m\u001b[43m)\u001b[49m\n",
      "\u001b[1;31mTypeError\u001b[0m: square() missing 1 required positional argument: 'x'"
     ]
    }
   ],
   "source": [
    "def square(x):\n",
    "    print(x + 5)\n",
    "\n",
    "square()"
   ]
  },
  {
   "cell_type": "code",
   "execution_count": 46,
   "id": "a4b755b7",
   "metadata": {},
   "outputs": [
    {
     "name": "stdout",
     "output_type": "stream",
     "text": [
      "15\n"
     ]
    }
   ],
   "source": [
    "def square(x):            # x = 10\n",
    "    print(x + 5)\n",
    "\n",
    "square(10)"
   ]
  },
  {
   "cell_type": "code",
   "execution_count": 47,
   "id": "759d5a72",
   "metadata": {},
   "outputs": [
    {
     "name": "stdout",
     "output_type": "stream",
     "text": [
      "9\n"
     ]
    }
   ],
   "source": [
    "def square(x, y):            # x = 5, y = 4\n",
    "    print(x + y)\n",
    "\n",
    "square(5,4)"
   ]
  },
  {
   "cell_type": "code",
   "execution_count": 48,
   "id": "fc29f0e7",
   "metadata": {},
   "outputs": [],
   "source": [
    "# return statements\n",
    "\n",
    "def greater(x, y):\n",
    "    if x >= y:\n",
    "        return x\n",
    "    else:\n",
    "        return y"
   ]
  },
  {
   "cell_type": "code",
   "execution_count": 49,
   "id": "1ca398e6",
   "metadata": {},
   "outputs": [
    {
     "name": "stdout",
     "output_type": "stream",
     "text": [
      "10\n"
     ]
    }
   ],
   "source": [
    "print(greater(10,5))\n",
    "#          10"
   ]
  },
  {
   "cell_type": "code",
   "execution_count": 50,
   "id": "f6596b9a",
   "metadata": {},
   "outputs": [
    {
     "name": "stdout",
     "output_type": "stream",
     "text": [
      "25\n"
     ]
    }
   ],
   "source": [
    "print(greater(15,25))\n",
    "#          25"
   ]
  },
  {
   "cell_type": "code",
   "execution_count": 51,
   "id": "e28992d1",
   "metadata": {},
   "outputs": [
    {
     "name": "stdout",
     "output_type": "stream",
     "text": [
      "2\n"
     ]
    }
   ],
   "source": [
    "z = greater(1,2)\n",
    "\n",
    "print(z)"
   ]
  },
  {
   "cell_type": "markdown",
   "id": "bf0760aa",
   "metadata": {},
   "source": [
    "# 4 | Modules, Packages, and PIP"
   ]
  },
  {
   "cell_type": "code",
   "execution_count": null,
   "id": "c475d383",
   "metadata": {},
   "outputs": [],
   "source": [
    "10 binary -> 1010\n"
   ]
  },
  {
   "cell_type": "code",
   "execution_count": null,
   "id": "59c7ab45",
   "metadata": {},
   "outputs": [],
   "source": [
    "ASCII\n",
    "\n",
    "A -> 65\n",
    "B -> 66\n",
    "Z -> 90\n",
    "\n",
    "space -> 32\n",
    "\n",
    "a -> 97\n",
    "z -> 122"
   ]
  },
  {
   "cell_type": "code",
   "execution_count": null,
   "id": "495fae6b",
   "metadata": {},
   "outputs": [],
   "source": [
    "main.py"
   ]
  },
  {
   "cell_type": "code",
   "execution_count": null,
   "id": "8e817d90",
   "metadata": {},
   "outputs": [],
   "source": [
    "bit > numbers > characters > instructions > function > program > modules > packages > library > frameworks > software"
   ]
  },
  {
   "cell_type": "code",
   "execution_count": null,
   "id": "fcd52709",
   "metadata": {},
   "outputs": [],
   "source": [
    "pip - python package index"
   ]
  },
  {
   "cell_type": "code",
   "execution_count": 52,
   "id": "09f1e406",
   "metadata": {},
   "outputs": [],
   "source": [
    "import os"
   ]
  },
  {
   "cell_type": "code",
   "execution_count": 54,
   "id": "8caf0a61",
   "metadata": {
    "scrolled": true
   },
   "outputs": [],
   "source": [
    "# help(os)"
   ]
  },
  {
   "cell_type": "code",
   "execution_count": 55,
   "id": "e9caaa10",
   "metadata": {},
   "outputs": [],
   "source": [
    "os.mkdir('images')"
   ]
  },
  {
   "cell_type": "code",
   "execution_count": 56,
   "id": "7be93bbd",
   "metadata": {},
   "outputs": [],
   "source": [
    "os.rmdir('images')"
   ]
  },
  {
   "cell_type": "code",
   "execution_count": 57,
   "id": "2b43636a",
   "metadata": {},
   "outputs": [],
   "source": [
    "import math"
   ]
  },
  {
   "cell_type": "code",
   "execution_count": 58,
   "id": "a560ff52",
   "metadata": {},
   "outputs": [
    {
     "name": "stdout",
     "output_type": "stream",
     "text": [
      "3.141592653589793\n"
     ]
    }
   ],
   "source": [
    "print(math.pi)"
   ]
  },
  {
   "cell_type": "code",
   "execution_count": 59,
   "id": "b07aa0f0",
   "metadata": {},
   "outputs": [
    {
     "name": "stdout",
     "output_type": "stream",
     "text": [
      "2.0\n"
     ]
    }
   ],
   "source": [
    "print(math.sqrt(4))"
   ]
  },
  {
   "cell_type": "code",
   "execution_count": 60,
   "id": "71aa390e",
   "metadata": {},
   "outputs": [
    {
     "name": "stdout",
     "output_type": "stream",
     "text": [
      "1.4142135623730951\n"
     ]
    }
   ],
   "source": [
    "print(math.sqrt(2))"
   ]
  },
  {
   "cell_type": "markdown",
   "id": "415931cc",
   "metadata": {},
   "source": [
    "# 5 | Data Structures & Algorithms"
   ]
  },
  {
   "cell_type": "code",
   "execution_count": null,
   "id": "04aa5390",
   "metadata": {},
   "outputs": [],
   "source": [
    "# c programming\n",
    "\n",
    "int a = 10;  # 2 bytes -> 16 bits"
   ]
  },
  {
   "cell_type": "code",
   "execution_count": null,
   "id": "962f65cc",
   "metadata": {},
   "outputs": [],
   "source": [
    "struct carCustomer{\n",
    "    int sno;\n",
    "    char[10] name;\n",
    "    float price;\n",
    "}"
   ]
  },
  {
   "cell_type": "code",
   "execution_count": null,
   "id": "3aaeb4df",
   "metadata": {},
   "outputs": [],
   "source": [
    "struct carCustomer c1;  # 16 bytes\n",
    "               int  a;"
   ]
  },
  {
   "cell_type": "code",
   "execution_count": null,
   "id": "2f540883",
   "metadata": {},
   "outputs": [],
   "source": [
    "Stack\n",
    "Queue\n",
    "Linked List\n",
    "Graphs\n",
    "Trees"
   ]
  },
  {
   "cell_type": "code",
   "execution_count": null,
   "id": "7726769f",
   "metadata": {},
   "outputs": [],
   "source": [
    "Stack - LIFO - Last In First Out\n",
    "\n",
    "\n",
    "30\n",
    "20\n",
    "10"
   ]
  },
  {
   "cell_type": "code",
   "execution_count": null,
   "id": "2ba02a66",
   "metadata": {},
   "outputs": [],
   "source": [
    "Queue - First In First Out\n",
    "\n",
    "\n",
    "    20 30 40 50  60\n",
    "   rare            front"
   ]
  }
 ],
 "metadata": {
  "kernelspec": {
   "display_name": "Python 3 (ipykernel)",
   "language": "python",
   "name": "python3"
  },
  "language_info": {
   "codemirror_mode": {
    "name": "ipython",
    "version": 3
   },
   "file_extension": ".py",
   "mimetype": "text/x-python",
   "name": "python",
   "nbconvert_exporter": "python",
   "pygments_lexer": "ipython3",
   "version": "3.9.12"
  }
 },
 "nbformat": 4,
 "nbformat_minor": 5
}
