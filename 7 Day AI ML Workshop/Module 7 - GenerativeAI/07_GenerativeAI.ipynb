{
 "cells": [
  {
   "cell_type": "markdown",
   "id": "4b2ab490",
   "metadata": {},
   "source": [
    "# Generative AI\n",
    "\n",
    "<img src='g1.png' />"
   ]
  },
  {
   "cell_type": "markdown",
   "id": "030ad9b4",
   "metadata": {},
   "source": [
    "## Blog\n",
    "https://newsletter.himanshuramchandani.co/p/5-alarming-things-you-must-know-about-generativeai-as-a-leader"
   ]
  },
  {
   "cell_type": "markdown",
   "id": "dee3e786",
   "metadata": {},
   "source": [
    "# NLP"
   ]
  },
  {
   "cell_type": "code",
   "execution_count": null,
   "id": "f5fc43cd",
   "metadata": {},
   "outputs": [],
   "source": [
    "intent\n",
    "- \n",
    "\n",
    "context\n",
    "- \"your t-shirt is killer\""
   ]
  },
  {
   "cell_type": "code",
   "execution_count": null,
   "id": "6b7c12ae",
   "metadata": {},
   "outputs": [],
   "source": [
    "examples\n",
    "\n",
    "- spam detection\n",
    "- machine translation\n",
    "- virtual assistants and chatbots\n",
    "- social media sentiment analysis\n",
    "- text summarization\n",
    "- semantic search"
   ]
  },
  {
   "cell_type": "markdown",
   "id": "3a5af5a4",
   "metadata": {},
   "source": [
    "# Language Models"
   ]
  },
  {
   "cell_type": "code",
   "execution_count": null,
   "id": "02ceadc4",
   "metadata": {},
   "outputs": [],
   "source": [
    "this is a fruit called ..... its color is red. "
   ]
  },
  {
   "cell_type": "code",
   "execution_count": null,
   "id": "499e00ce",
   "metadata": {},
   "outputs": [],
   "source": [
    "this is a ---- ---- ..... its ----- is ----.   # masked language modeling"
   ]
  },
  {
   "cell_type": "code",
   "execution_count": null,
   "id": "683afd60",
   "metadata": {},
   "outputs": [],
   "source": [
    "Himanshu is eating food. He will go out now."
   ]
  },
  {
   "cell_type": "markdown",
   "id": "c58d00a5",
   "metadata": {},
   "source": [
    "# Generative Pre-Trained Transformer (GPT)\n"
   ]
  },
  {
   "cell_type": "markdown",
   "id": "00d12e14",
   "metadata": {},
   "source": [
    "## Generative models"
   ]
  },
  {
   "cell_type": "code",
   "execution_count": null,
   "id": "08a47c67",
   "metadata": {},
   "outputs": [],
   "source": [
    "- generate text\n",
    "\n",
    "Statistical Modeling\n",
    "- generative modeling - method of approximating the world with mathematics."
   ]
  },
  {
   "cell_type": "markdown",
   "id": "dfb1172c",
   "metadata": {},
   "source": [
    "## Pre-trained models"
   ]
  },
  {
   "cell_type": "code",
   "execution_count": null,
   "id": "fcf04976",
   "metadata": {},
   "outputs": [],
   "source": [
    "datasets\n",
    "- common crawl\n",
    "- webtext2\n",
    "- Book1 \n",
    "- and Book2\n",
    "- Wikipedia\n",
    "\n"
   ]
  },
  {
   "cell_type": "markdown",
   "id": "0c9635b7",
   "metadata": {},
   "source": [
    "## Transformers\n",
    "\n",
    "Neural Network Architecture"
   ]
  },
  {
   "cell_type": "code",
   "execution_count": null,
   "id": "da89c478",
   "metadata": {},
   "outputs": [],
   "source": [
    "sequence to sequence models\n",
    "\n",
    "\n",
    "attention machenism\n",
    "\n",
    "1. self-attention            -> the connection of words within a sentence.\n",
    "2. encoder-decoder attention -> the connection between words from source sentence to target sentence."
   ]
  },
  {
   "cell_type": "code",
   "execution_count": null,
   "id": "ac57967c",
   "metadata": {},
   "outputs": [],
   "source": []
  },
  {
   "cell_type": "markdown",
   "id": "ddae358c",
   "metadata": {},
   "source": [
    "# How these models learn?"
   ]
  },
  {
   "cell_type": "code",
   "execution_count": null,
   "id": "f6fca030",
   "metadata": {},
   "outputs": [],
   "source": [
    "pretaining\n",
    "- masked modeling - BERT(pre-trained on this approach)\n",
    "- huge data\n",
    "\n",
    "\n",
    "fine-tuning\n",
    "- question answering\n",
    "- sentiment analysis"
   ]
  },
  {
   "cell_type": "code",
   "execution_count": null,
   "id": "7a9ac2ce",
   "metadata": {},
   "outputs": [],
   "source": []
  },
  {
   "cell_type": "code",
   "execution_count": null,
   "id": "f2342051",
   "metadata": {},
   "outputs": [],
   "source": []
  },
  {
   "cell_type": "code",
   "execution_count": null,
   "id": "86190764",
   "metadata": {},
   "outputs": [],
   "source": []
  },
  {
   "cell_type": "code",
   "execution_count": null,
   "id": "12a2ea97",
   "metadata": {},
   "outputs": [],
   "source": []
  },
  {
   "cell_type": "code",
   "execution_count": null,
   "id": "44afa0ab",
   "metadata": {},
   "outputs": [],
   "source": []
  },
  {
   "cell_type": "code",
   "execution_count": null,
   "id": "5597a9d8",
   "metadata": {},
   "outputs": [],
   "source": []
  },
  {
   "cell_type": "code",
   "execution_count": null,
   "id": "75123a3e",
   "metadata": {},
   "outputs": [],
   "source": []
  }
 ],
 "metadata": {
  "kernelspec": {
   "display_name": "Python 3 (ipykernel)",
   "language": "python",
   "name": "python3"
  },
  "language_info": {
   "codemirror_mode": {
    "name": "ipython",
    "version": 3
   },
   "file_extension": ".py",
   "mimetype": "text/x-python",
   "name": "python",
   "nbconvert_exporter": "python",
   "pygments_lexer": "ipython3",
   "version": "3.9.12"
  }
 },
 "nbformat": 4,
 "nbformat_minor": 5
}
