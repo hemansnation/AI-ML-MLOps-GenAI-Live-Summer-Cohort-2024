{
 "cells": [
  {
   "cell_type": "markdown",
   "id": "76016b72",
   "metadata": {},
   "source": [
    "# Computer Vision\n",
    "\n",
    "<img src='c1.gif' />"
   ]
  },
  {
   "cell_type": "code",
   "execution_count": null,
   "id": "f6037123",
   "metadata": {},
   "outputs": [],
   "source": [
    "computer vision + harware-> market - $50B+\n",
    "\n",
    "process the matrix of numbers\n",
    "- nested loops"
   ]
  },
  {
   "cell_type": "markdown",
   "id": "767f6a7d",
   "metadata": {},
   "source": [
    "# How an image is formed?\n",
    "\n",
    "<img src='c2.png' />"
   ]
  },
  {
   "cell_type": "code",
   "execution_count": null,
   "id": "c24e2f2b",
   "metadata": {},
   "outputs": [],
   "source": [
    "1080p -> \n",
    "720p\n",
    "\n",
    "0 - 255"
   ]
  },
  {
   "cell_type": "markdown",
   "id": "1da702fe",
   "metadata": {},
   "source": [
    "# RGB colors\n",
    "\n",
    "<img src='c3.jpg' />"
   ]
  },
  {
   "cell_type": "code",
   "execution_count": null,
   "id": "42182479",
   "metadata": {},
   "outputs": [],
   "source": [
    "what is the real world application of linear algebra? - matrix - pixels on the screen"
   ]
  },
  {
   "cell_type": "markdown",
   "id": "8480c345",
   "metadata": {},
   "source": [
    "# How a Tesla car sees the world?\n",
    "\n",
    "<img src='c4.gif' />"
   ]
  },
  {
   "cell_type": "code",
   "execution_count": null,
   "id": "ec7264b4",
   "metadata": {},
   "outputs": [],
   "source": [
    "Database\n",
    "annotate images\n",
    "\n",
    "unstructured data -> images, videos, audios\n",
    "\n",
    "deep learning - the algorithm will take care of feature engineering\n",
    "\n"
   ]
  },
  {
   "cell_type": "markdown",
   "id": "e3a6859c",
   "metadata": {},
   "source": [
    "# Applications of Computer vision"
   ]
  },
  {
   "cell_type": "code",
   "execution_count": null,
   "id": "5994e212",
   "metadata": {},
   "outputs": [],
   "source": [
    "- face recognition\n",
    "- augmented reality\n",
    "- healthcare"
   ]
  },
  {
   "cell_type": "markdown",
   "id": "28c5ecf7",
   "metadata": {},
   "source": [
    "# Computer vision tasks"
   ]
  },
  {
   "cell_type": "code",
   "execution_count": null,
   "id": "af411f1f",
   "metadata": {},
   "outputs": [],
   "source": [
    "- classification\n",
    "- classification and localization\n",
    "- object detection\n",
    "- object segmentation\n",
    "- object recognition"
   ]
  },
  {
   "cell_type": "code",
   "execution_count": null,
   "id": "5806317d",
   "metadata": {},
   "outputs": [],
   "source": [
    "video motion analytics\n",
    "scene reconstruction"
   ]
  },
  {
   "cell_type": "code",
   "execution_count": null,
   "id": "e7d49d3b",
   "metadata": {},
   "outputs": [],
   "source": [
    "openCV"
   ]
  },
  {
   "cell_type": "markdown",
   "id": "883d6077",
   "metadata": {},
   "source": [
    "# DeepFakes\n",
    "\n",
    "Deep Learning and Fake images\n",
    "\n",
    "Tool: https://faceswap.dev//"
   ]
  },
  {
   "cell_type": "code",
   "execution_count": null,
   "id": "d7990a01",
   "metadata": {},
   "outputs": [],
   "source": [
    "fake image generation"
   ]
  },
  {
   "cell_type": "code",
   "execution_count": null,
   "id": "428a7fc7",
   "metadata": {},
   "outputs": [],
   "source": [
    "Examples\n",
    "\n",
    "- entertainment\n",
    "- video games\n",
    "- education\n"
   ]
  },
  {
   "cell_type": "code",
   "execution_count": null,
   "id": "de94ab06",
   "metadata": {},
   "outputs": [],
   "source": [
    "https://www.digitalhumans.com/case-studies/digital-einstein"
   ]
  },
  {
   "cell_type": "code",
   "execution_count": null,
   "id": "63d4a293",
   "metadata": {},
   "outputs": [],
   "source": [
    "GAN - Generative Adversarial Network\n",
    "\n",
    "generator\n",
    "discriminator"
   ]
  },
  {
   "cell_type": "markdown",
   "id": "e90fb1fd",
   "metadata": {},
   "source": [
    "# How DeepFakes works"
   ]
  },
  {
   "cell_type": "code",
   "execution_count": null,
   "id": "282c7af7",
   "metadata": {},
   "outputs": [],
   "source": [
    "Generative Auto-Encoders\n",
    "\n",
    "will generate an image with new details that were not in the original image."
   ]
  },
  {
   "cell_type": "code",
   "execution_count": null,
   "id": "e4783a28",
   "metadata": {},
   "outputs": [],
   "source": [
    "the steps for training deepfake\n",
    "\n",
    "\n",
    "- encode -> faces into smaller representations\n",
    "- decode -> the representations back into faces\n",
    "- loss calculation - difference between the original face and the output of the model\n",
    "\n",
    "- backward propagation"
   ]
  },
  {
   "cell_type": "code",
   "execution_count": null,
   "id": "5362106a",
   "metadata": {},
   "outputs": [],
   "source": [
    "epoch -> forward propagation and backward propagation"
   ]
  },
  {
   "cell_type": "code",
   "execution_count": null,
   "id": "fc86552c",
   "metadata": {},
   "outputs": [],
   "source": []
  },
  {
   "cell_type": "code",
   "execution_count": null,
   "id": "3f066be9",
   "metadata": {},
   "outputs": [],
   "source": []
  },
  {
   "cell_type": "code",
   "execution_count": null,
   "id": "904603d4",
   "metadata": {},
   "outputs": [],
   "source": []
  },
  {
   "cell_type": "code",
   "execution_count": null,
   "id": "56f0d724",
   "metadata": {},
   "outputs": [],
   "source": []
  },
  {
   "cell_type": "code",
   "execution_count": null,
   "id": "8962f453",
   "metadata": {},
   "outputs": [],
   "source": []
  },
  {
   "cell_type": "code",
   "execution_count": null,
   "id": "571f2575",
   "metadata": {},
   "outputs": [],
   "source": []
  },
  {
   "cell_type": "code",
   "execution_count": null,
   "id": "c75af00f",
   "metadata": {},
   "outputs": [],
   "source": []
  },
  {
   "cell_type": "code",
   "execution_count": null,
   "id": "730b8dba",
   "metadata": {},
   "outputs": [],
   "source": []
  },
  {
   "cell_type": "code",
   "execution_count": null,
   "id": "da38c46a",
   "metadata": {},
   "outputs": [],
   "source": []
  },
  {
   "cell_type": "code",
   "execution_count": null,
   "id": "ec0ee553",
   "metadata": {},
   "outputs": [],
   "source": []
  },
  {
   "cell_type": "code",
   "execution_count": null,
   "id": "67e7e81b",
   "metadata": {},
   "outputs": [],
   "source": []
  },
  {
   "cell_type": "code",
   "execution_count": null,
   "id": "6f6d2858",
   "metadata": {},
   "outputs": [],
   "source": []
  },
  {
   "cell_type": "code",
   "execution_count": null,
   "id": "7cbe7796",
   "metadata": {},
   "outputs": [],
   "source": []
  },
  {
   "cell_type": "code",
   "execution_count": null,
   "id": "3209fb25",
   "metadata": {},
   "outputs": [],
   "source": []
  },
  {
   "cell_type": "code",
   "execution_count": null,
   "id": "7d24356a",
   "metadata": {},
   "outputs": [],
   "source": []
  },
  {
   "cell_type": "code",
   "execution_count": null,
   "id": "3deca982",
   "metadata": {},
   "outputs": [],
   "source": []
  }
 ],
 "metadata": {
  "kernelspec": {
   "display_name": "Python 3 (ipykernel)",
   "language": "python",
   "name": "python3"
  },
  "language_info": {
   "codemirror_mode": {
    "name": "ipython",
    "version": 3
   },
   "file_extension": ".py",
   "mimetype": "text/x-python",
   "name": "python",
   "nbconvert_exporter": "python",
   "pygments_lexer": "ipython3",
   "version": "3.9.12"
  }
 },
 "nbformat": 4,
 "nbformat_minor": 5
}
