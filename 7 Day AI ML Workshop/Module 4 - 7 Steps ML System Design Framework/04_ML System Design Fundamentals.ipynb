{
 "cells": [
  {
   "cell_type": "markdown",
   "id": "c22614db",
   "metadata": {},
   "source": [
    "# Production Ready ML Systems\n",
    "\n",
    "\n",
    "<img src='ml1.png' />"
   ]
  },
  {
   "cell_type": "code",
   "execution_count": null,
   "id": "30b29535",
   "metadata": {},
   "outputs": [],
   "source": [
    "data science = statistics + software development"
   ]
  },
  {
   "cell_type": "markdown",
   "id": "4ff1f03e",
   "metadata": {},
   "source": [
    "# design steps (framework)"
   ]
  },
  {
   "cell_type": "code",
   "execution_count": null,
   "id": "9f75ebd5",
   "metadata": {},
   "outputs": [],
   "source": [
    "1 - requirements (Business Objectives)\n",
    "2 - Frame the ML Task\n",
    "3 - Data Preperation\n",
    "4 - Model Development\n",
    "5 - Evaluation\n",
    "6 - deployment\n",
    "7 - monitoring"
   ]
  },
  {
   "cell_type": "markdown",
   "id": "9f101e7b",
   "metadata": {},
   "source": [
    "# 1 - requirements (Business Objectives)\n"
   ]
  },
  {
   "cell_type": "code",
   "execution_count": null,
   "id": "5351cce8",
   "metadata": {},
   "outputs": [],
   "source": [
    "- business objective - increase the revenue or increase the number of users\n",
    "- features the system needs to support -> interaction data\n",
    "- data \n",
    "    -what are data sources? (your data lake - AWS S3, government portals, kaggle )\n",
    "    -how large is the datasets? \n",
    "    -is your data labeled?\n",
    "- constraints \n",
    "    - computing power, \n",
    "    - are we going to use cloud based systems?\n",
    "    - is the model expected to imporve over time automatically?\n",
    "\n",
    "- scale the system \n",
    "    - how many users we have?\n",
    "    - how many videos we are dealing with?\n",
    "- performance\n",
    "    - how fast the predictions can be?\n",
    "    - does accuracy have more priority or latency?"
   ]
  },
  {
   "cell_type": "code",
   "execution_count": null,
   "id": "18ec6700",
   "metadata": {},
   "outputs": [],
   "source": [
    "who do the data labeling? \n",
    "- "
   ]
  },
  {
   "cell_type": "markdown",
   "id": "eec2b65f",
   "metadata": {},
   "source": [
    "# 2 - Frame the ML Task\n"
   ]
  },
  {
   "cell_type": "code",
   "execution_count": null,
   "id": "4bd7f20f",
   "metadata": {},
   "outputs": [],
   "source": [
    "- define our ML objective\n",
    "- specifying the systems input and output\n",
    "- selecting the right ML category"
   ]
  },
  {
   "cell_type": "code",
   "execution_count": null,
   "id": "9095b85a",
   "metadata": {},
   "outputs": [],
   "source": [
    "- define our ML objective\n",
    "\n",
    "Business Objective                                    ML Objective\n",
    "\n",
    "- Youtube(increase user engagement)                   - maximize the time users spend watching videos\n",
    "- instagram(improve the platform safety)              - accurately predict if a given content is harmful\n",
    "- bookmyshow(increase ticket sales)                   - maximize the number of event registrations"
   ]
  },
  {
   "cell_type": "code",
   "execution_count": null,
   "id": "cc18bde4",
   "metadata": {},
   "outputs": [],
   "source": [
    "- specifying the systems input and output\n",
    "\n",
    "input                algorithm               output\n",
    "\n",
    "post                harmful content          probability\n",
    "                    detection system"
   ]
  },
  {
   "cell_type": "code",
   "execution_count": null,
   "id": "80555590",
   "metadata": {},
   "outputs": [],
   "source": [
    "- selecting the right ML category\n",
    "\n",
    "\n",
    "                                        ML Categories\n",
    "    supervised                          unsupervised                      reinforcement\n",
    "    Regression                          clusturing\n",
    "    classification                      diementionality reduction\n",
    "      - binary\n",
    "      - multiclass"
   ]
  },
  {
   "cell_type": "markdown",
   "id": "2be13748",
   "metadata": {},
   "source": [
    "# 3 - Data Preperation\n"
   ]
  },
  {
   "cell_type": "code",
   "execution_count": null,
   "id": "651ddf66",
   "metadata": {},
   "outputs": [],
   "source": [
    "data source  ------> data engineering ----> feature engineering  ------> prepared features\n",
    "                            data preperation process"
   ]
  },
  {
   "cell_type": "code",
   "execution_count": null,
   "id": "cba913fa",
   "metadata": {},
   "outputs": [],
   "source": [
    "data engineering\n",
    "- designing and building pipelines for collecting, storing, retrieving and processing data.\n",
    "\n",
    "data source\n",
    "- who collected the data\n",
    "- how clean the data is\n",
    "- can you trust the data source?\n",
    "\n",
    "data storage\n",
    "\n",
    "Structured\n",
    "- SQL - relational databases\n",
    "        - MySQL\n",
    "        - PostgreSQL\n",
    "\n",
    "\n",
    "Unstructured\n",
    "- NoSQL\n",
    "    - Key/Value    - Redis, DynamoDB\n",
    "    - Column-based - Cassandra, HBase\n",
    "    - Graph        - Neo4J\n",
    "    - Document     - MongoDB, CouchDB\n",
    "\n",
    "    "
   ]
  },
  {
   "cell_type": "code",
   "execution_count": null,
   "id": "a01e698b",
   "metadata": {},
   "outputs": [],
   "source": [
    "ETL - Extract, Transform, Load"
   ]
  },
  {
   "cell_type": "code",
   "execution_count": null,
   "id": "4b531098",
   "metadata": {},
   "outputs": [],
   "source": [
    "Structured - Machine Learning\n",
    "Numerical\n",
    "Categorical\n",
    "\n",
    "Unstructured - Deep Learning\n",
    "- Audio\n",
    "- Video\n",
    "- Images\n",
    "- Text"
   ]
  },
  {
   "cell_type": "markdown",
   "id": "71c1787c",
   "metadata": {},
   "source": [
    "# 4 - Model Development\n"
   ]
  },
  {
   "cell_type": "code",
   "execution_count": null,
   "id": "e1fec73d",
   "metadata": {},
   "outputs": [],
   "source": [
    "model selection\n",
    "- simple baseline model\n",
    "- experiment with models\n",
    "- move to complex models(deep learning)\n",
    "- ensemble\n",
    "    - bagging\n",
    "    - boosting\n",
    "    - stacking\n"
   ]
  },
  {
   "cell_type": "code",
   "execution_count": null,
   "id": "0961e6c0",
   "metadata": {},
   "outputs": [],
   "source": [
    "keep these points in mind\n",
    "- the amount of data the model needs to be trained on\n",
    "- training speed\n",
    "- hyperparameter tuning techniques\n",
    "- is there any possibility to contiual learning\n",
    "- compute requirements"
   ]
  },
  {
   "cell_type": "code",
   "execution_count": null,
   "id": "d5010f9a",
   "metadata": {},
   "outputs": [],
   "source": [
    "model training\n",
    "\n",
    "- constructing the data\n",
    "    - collect the raw data\n",
    "    - feature engineering\n",
    "    - sampling strategy\n",
    "    - class imbalance\n",
    "\n",
    "- choosing the loss function\n",
    "\n",
    "- trainig from scratch or fine-tuning\n",
    "\n",
    "- distributed training\n"
   ]
  },
  {
   "cell_type": "markdown",
   "id": "2809ebdb",
   "metadata": {},
   "source": [
    "# 5 - Evaluation\n"
   ]
  },
  {
   "cell_type": "code",
   "execution_count": null,
   "id": "a2ab5fd1",
   "metadata": {},
   "outputs": [],
   "source": [
    "offline evaluation\n",
    "- the model is in development phase\n",
    "\n",
    "- classification - precision, recall\n",
    "- regression - MSE, MAE\n",
    "- image generation - inception score\n",
    "\n",
    "online evalution\n",
    "ad click prediction - click through rate, revenue lift\n",
    "harmful content detection - valid posts\n",
    "video recommendation - total watch time, number of completed videos"
   ]
  },
  {
   "cell_type": "markdown",
   "id": "8048fc80",
   "metadata": {},
   "source": [
    "# 6 - deployment\n"
   ]
  },
  {
   "cell_type": "code",
   "execution_count": null,
   "id": "59bf933d",
   "metadata": {},
   "outputs": [],
   "source": [
    "cloud                                           on-device\n",
    "- simple to deploy                              - not simple\n",
    "- cloud cost will be high                       - no cloud cost\n"
   ]
  },
  {
   "cell_type": "code",
   "execution_count": null,
   "id": "c7bf3ae0",
   "metadata": {},
   "outputs": [],
   "source": [
    "- where the computation is going to take palce?\n",
    "- is model compression needed?\n",
    "- is real time access to features possible?\n"
   ]
  },
  {
   "cell_type": "markdown",
   "id": "8c4bea98",
   "metadata": {},
   "source": [
    "# 7 - monitoring\n"
   ]
  },
  {
   "cell_type": "code",
   "execution_count": null,
   "id": "96a8831e",
   "metadata": {},
   "outputs": [],
   "source": [
    "why the models fail in production\n",
    "\n",
    "what to monitor\n",
    "- detect failures and identify shifts in ML systems"
   ]
  },
  {
   "cell_type": "code",
   "execution_count": null,
   "id": "5ac8facb",
   "metadata": {},
   "outputs": [],
   "source": []
  }
 ],
 "metadata": {
  "kernelspec": {
   "display_name": "Python 3 (ipykernel)",
   "language": "python",
   "name": "python3"
  },
  "language_info": {
   "codemirror_mode": {
    "name": "ipython",
    "version": 3
   },
   "file_extension": ".py",
   "mimetype": "text/x-python",
   "name": "python",
   "nbconvert_exporter": "python",
   "pygments_lexer": "ipython3",
   "version": "3.9.12"
  }
 },
 "nbformat": 4,
 "nbformat_minor": 5
}
