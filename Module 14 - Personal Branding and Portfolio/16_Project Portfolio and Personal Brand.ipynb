{
 "cells": [
  {
   "cell_type": "markdown",
   "id": "95065b74",
   "metadata": {},
   "source": [
    "# Projects\n"
   ]
  },
  {
   "cell_type": "code",
   "execution_count": null,
   "id": "1d448cea",
   "metadata": {},
   "outputs": [],
   "source": [
    "1. Niche - Field that you are Interested in\n",
    "Example \n",
    "Technical Knowledge\n",
    "- NLP(Text Data)\n",
    "- Computer Vision(Image Data)\n",
    "- ML(tabular data)\n",
    "\n",
    "Mandatory\n",
    "- MLOps - Cloud Services(AWS, Azure, GCP)\n",
    "\n",
    "\n",
    "Sector - Domain Knowledge\n",
    "Energy, Healthcare, Education, Finance\n",
    "\n",
    "\n",
    "2. Super Niche\n",
    "I am an NLP Engineer in Healthcare Sector\n",
    "- Alopathy\n",
    "- Homeopath\n",
    "- Aurveda\n",
    "\n",
    "3. You are going to build projects that justify your heading\n",
    "https://marutitech.com/use-cases-of-natural-language-processing-in-healthcare/\n",
    "\n",
    "select atleast 5 major projects\n",
    "\n",
    "How to select an idea for your projects?\n",
    "- go to kaggle\n",
    "- search for featured competetion problem statements\n",
    "- select one, do to discussion section and look for resources related to the problem\n",
    "\n",
    "\n",
    "4. Build it end to end\n",
    "- Build\n",
    "- Test\n",
    "- Deploy(MLOps)\n",
    "- Getting Users(Use cases)\n",
    "- Sell it if possible, sell it to client\n",
    "\n",
    "Note: One step at a time, one project at a time.\n",
    "Closure(Project Delivery)\n",
    "\n",
    "5. For Every project you are going to write the story(create a video)\n",
    "- how you solved that problem\n",
    "- tools you used, knowledge you gained\n",
    "- linkedin\n",
    "- tag those companies that are solving the similar problem or working in the same domain\n",
    "\n",
    "Note: do not ask for jobs and opportunities directly to them\n",
    "- connect with them with message around there posts\n",
    "- ask questions\n",
    "\n",
    "- comment on their(same domain companies as yours) posts, do not use AI generated comments\n",
    "- "
   ]
  },
  {
   "cell_type": "code",
   "execution_count": null,
   "id": "82ac6ba6",
   "metadata": {},
   "outputs": [],
   "source": [
    "Industry Specific Project ideas\n",
    "\n",
    "https://github.com/firmai/industry-machine-learning"
   ]
  },
  {
   "cell_type": "markdown",
   "id": "a3336bbd",
   "metadata": {},
   "source": [
    "# Portfolio"
   ]
  },
  {
   "cell_type": "code",
   "execution_count": null,
   "id": "7ba96c78",
   "metadata": {},
   "outputs": [],
   "source": [
    "- single link with a landing page\n",
    "\n",
    "- project name, image, description\n",
    "- live link(github code link, blog link(how you build the project))\n",
    "- link of blogs, your writings, videos, "
   ]
  }
 ],
 "metadata": {
  "kernelspec": {
   "display_name": "Python 3 (ipykernel)",
   "language": "python",
   "name": "python3"
  },
  "language_info": {
   "codemirror_mode": {
    "name": "ipython",
    "version": 3
   },
   "file_extension": ".py",
   "mimetype": "text/x-python",
   "name": "python",
   "nbconvert_exporter": "python",
   "pygments_lexer": "ipython3",
   "version": "3.9.12"
  }
 },
 "nbformat": 4,
 "nbformat_minor": 5
}
