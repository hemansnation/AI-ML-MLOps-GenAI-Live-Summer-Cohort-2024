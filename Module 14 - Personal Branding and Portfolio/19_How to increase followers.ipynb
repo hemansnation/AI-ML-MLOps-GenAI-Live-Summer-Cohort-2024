{
 "cells": [
  {
   "cell_type": "markdown",
   "id": "df2f2697",
   "metadata": {},
   "source": [
    "# How to increase the number of followers? on LinkedIn"
   ]
  },
  {
   "cell_type": "markdown",
   "id": "cd2241b6",
   "metadata": {},
   "source": [
    "## Build your profile"
   ]
  },
  {
   "cell_type": "code",
   "execution_count": null,
   "id": "90b06c2d",
   "metadata": {},
   "outputs": [],
   "source": [
    "treat your profile as a landing page\n",
    "- profile picture\n",
    "    - remove backgroud (https://www.remove.bg/)\n",
    "    - your should look straight\n",
    "    - clear picture\n",
    "- cover picture\n",
    "    - what you do, should be clear\n",
    "    - CTA(Call to Action)\n",
    "\n",
    "- bio\n",
    "    - who you are? (Machine Learning Engineer)\n",
    "    - your skills? (algorithms, pytorch, ML in production)\n",
    "    - value proposition (Convert research papers to code)\n",
    "    - Machine Learning Engineer | PyTorch, ML in Production | I can convert research papers to code in 15 days\n",
    "\n",
    "- turn on the creator mode\n",
    "    - add 5 hashtags of on what topics you write content on\n",
    "    - add a link that you want your audience to visit, website link, topmate link\n",
    "    - for website - (https://themes.gohugo.io/)\n",
    "\n",
    "- service page\n",
    "    - what services you provide\n",
    "\n",
    "- featured\n",
    "    - newsletter\n",
    "    - portfolio link,\n",
    "    - post with important and useful information\n",
    "\n",
    "- about\n",
    "    we will cover that once i update my section\n",
    "\n"
   ]
  },
  {
   "cell_type": "markdown",
   "id": "a620a3d5",
   "metadata": {},
   "source": [
    "## create content to increase traffic on you profile\n"
   ]
  },
  {
   "cell_type": "code",
   "execution_count": null,
   "id": "bc11736b",
   "metadata": {},
   "outputs": [],
   "source": [
    "\n",
    "1 - write atleast 50 comments everyday in the same domain in which you are working, \n",
    "    do not use chatGPT\n",
    "2 - post content\n",
    "3 - post content in community groups on linkedin"
   ]
  },
  {
   "cell_type": "code",
   "execution_count": null,
   "id": "d0abf912",
   "metadata": {},
   "outputs": [],
   "source": []
  }
 ],
 "metadata": {
  "kernelspec": {
   "display_name": "Python 3 (ipykernel)",
   "language": "python",
   "name": "python3"
  },
  "language_info": {
   "codemirror_mode": {
    "name": "ipython",
    "version": 3
   },
   "file_extension": ".py",
   "mimetype": "text/x-python",
   "name": "python",
   "nbconvert_exporter": "python",
   "pygments_lexer": "ipython3",
   "version": "3.9.12"
  }
 },
 "nbformat": 4,
 "nbformat_minor": 5
}
