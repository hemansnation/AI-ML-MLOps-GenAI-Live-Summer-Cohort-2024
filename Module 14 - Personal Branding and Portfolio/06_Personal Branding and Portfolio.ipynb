{
 "cells": [
  {
   "cell_type": "markdown",
   "id": "624ee125",
   "metadata": {},
   "source": [
    "# Personal Brand"
   ]
  },
  {
   "cell_type": "code",
   "execution_count": null,
   "id": "80a53491",
   "metadata": {},
   "outputs": [],
   "source": [
    "why?\n",
    "\n",
    "- trust\n",
    "- taking the risk with your own name\n",
    "- "
   ]
  },
  {
   "cell_type": "code",
   "execution_count": null,
   "id": "0f0f4a2b",
   "metadata": {},
   "outputs": [],
   "source": [
    "numpy\n",
    "\n",
    "posted -> blog, linkedin post, video, podcast"
   ]
  },
  {
   "cell_type": "code",
   "execution_count": null,
   "id": "a1271afa",
   "metadata": {},
   "outputs": [],
   "source": [
    "blog -> create an email list"
   ]
  },
  {
   "cell_type": "markdown",
   "id": "2add1e5b",
   "metadata": {},
   "source": [
    "## github profile\n",
    "\n",
    "https://www.linkedin.com/pulse/build-stunning-github-profile-machine-learning-data-9-ramchandani/"
   ]
  },
  {
   "cell_type": "code",
   "execution_count": null,
   "id": "3a61a687",
   "metadata": {},
   "outputs": [],
   "source": []
  }
 ],
 "metadata": {
  "kernelspec": {
   "display_name": "Python 3 (ipykernel)",
   "language": "python",
   "name": "python3"
  },
  "language_info": {
   "codemirror_mode": {
    "name": "ipython",
    "version": 3
   },
   "file_extension": ".py",
   "mimetype": "text/x-python",
   "name": "python",
   "nbconvert_exporter": "python",
   "pygments_lexer": "ipython3",
   "version": "3.9.12"
  }
 },
 "nbformat": 4,
 "nbformat_minor": 5
}
