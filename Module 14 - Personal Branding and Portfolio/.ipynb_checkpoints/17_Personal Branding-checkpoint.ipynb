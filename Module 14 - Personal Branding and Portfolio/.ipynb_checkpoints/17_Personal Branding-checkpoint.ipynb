{
 "cells": [
  {
   "cell_type": "markdown",
   "id": "e2db33f4",
   "metadata": {},
   "source": [
    "# Personal Brand"
   ]
  },
  {
   "cell_type": "code",
   "execution_count": null,
   "id": "af09d699",
   "metadata": {},
   "outputs": [],
   "source": [
    "jan kalyaan (human welfare)"
   ]
  },
  {
   "cell_type": "code",
   "execution_count": null,
   "id": "125ab477",
   "metadata": {},
   "outputs": [],
   "source": [
    "- trust         (intensity) - adding value to the world (share knowledge)\n",
    "- reputation    (consistency) - stick to the plan"
   ]
  },
  {
   "cell_type": "code",
   "execution_count": null,
   "id": "9cf98f13",
   "metadata": {},
   "outputs": [],
   "source": [
    "MIT"
   ]
  },
  {
   "cell_type": "code",
   "execution_count": null,
   "id": "4c9138f6",
   "metadata": {},
   "outputs": [],
   "source": [
    "HemansAI - 2018"
   ]
  },
  {
   "cell_type": "code",
   "execution_count": null,
   "id": "6a759294",
   "metadata": {},
   "outputs": [],
   "source": [
    "Leadership \n",
    "    - LinkedIn > \n",
    "    - Newsletter\n",
    "    - Email List - beehiive, substack, covertkit\n",
    "    https://www.beehiiv.com/\n",
    "\n",
    "\n",
    "Engineering \n",
    "    - GitHub\n",
    "    https://www.linkedin.com/pulse/build-stunning-github-profile-machine-learning-data-9-ramchandani/\n",
    "    https://www.linkedin.com/pulse/i-got-40lpa-offer-through-my-github-profile-here-some-ramchandani/\n",
    "    \n",
    "    - LinkedIn\n",
    "    - Newsletter(Email List)"
   ]
  },
  {
   "cell_type": "code",
   "execution_count": null,
   "id": "6adc4175",
   "metadata": {},
   "outputs": [],
   "source": [
    "What I want to do? Who i want to serve?\n",
    "\n",
    "- Learn about ML/MLOps\n",
    "- Potential clients - CTO, MLops engineers, managers\n",
    "\n",
    "- deploy successful ML projects to production, one at a time.\n",
    "\n",
    "How to reach to my potential clients?\n",
    "\n",
    "focus - one platform - linkedIn\n",
    "\n",
    "one\n",
    "- educational content - blog, ideas, resources, github links, pdf, video series\n",
    "- interacting with the audience\n",
    "- content around their pain points\n",
    "\n",
    "two\n",
    "- comment on other posts, other leaders in the same domain\n",
    "- conversation in the comment section\n",
    "- helping them with the questions they have\n",
    "\n",
    "getting job\n",
    "- start with point number one\n",
    "- and point number two\n",
    "- DM a recruiter \n",
    "    - discussing with them about problems, solutions and advice, to make a good connection\n",
    "\n",
    "\n",
    "start posting today - \"dont think\"\n",
    "\n",
    "- action cures all"
   ]
  },
  {
   "cell_type": "code",
   "execution_count": null,
   "id": "c8590fc8",
   "metadata": {},
   "outputs": [],
   "source": [
    "personal website\n",
    "\n",
    "https://github.com/hemansnation/hemansnation.github.io\n",
    "https://hemansnation.github.io/\n",
    "    \n",
    "For creating free contact form: https://www.hubspot.com/\n",
    "        \n"
   ]
  },
  {
   "cell_type": "code",
   "execution_count": null,
   "id": "19df2bcb",
   "metadata": {},
   "outputs": [],
   "source": [
    "How to increase the number of followers?\n",
    "\n"
   ]
  },
  {
   "cell_type": "code",
   "execution_count": null,
   "id": "30cca63b",
   "metadata": {},
   "outputs": [],
   "source": [
    "ACP"
   ]
  },
  {
   "cell_type": "code",
   "execution_count": null,
   "id": "49669972",
   "metadata": {},
   "outputs": [],
   "source": []
  },
  {
   "cell_type": "code",
   "execution_count": null,
   "id": "4f96ee33",
   "metadata": {},
   "outputs": [],
   "source": []
  },
  {
   "cell_type": "code",
   "execution_count": null,
   "id": "cc83e7bc",
   "metadata": {},
   "outputs": [],
   "source": []
  },
  {
   "cell_type": "code",
   "execution_count": null,
   "id": "f8fe51dd",
   "metadata": {},
   "outputs": [],
   "source": []
  }
 ],
 "metadata": {
  "kernelspec": {
   "display_name": "Python 3 (ipykernel)",
   "language": "python",
   "name": "python3"
  },
  "language_info": {
   "codemirror_mode": {
    "name": "ipython",
    "version": 3
   },
   "file_extension": ".py",
   "mimetype": "text/x-python",
   "name": "python",
   "nbconvert_exporter": "python",
   "pygments_lexer": "ipython3",
   "version": "3.9.12"
  }
 },
 "nbformat": 4,
 "nbformat_minor": 5
}
