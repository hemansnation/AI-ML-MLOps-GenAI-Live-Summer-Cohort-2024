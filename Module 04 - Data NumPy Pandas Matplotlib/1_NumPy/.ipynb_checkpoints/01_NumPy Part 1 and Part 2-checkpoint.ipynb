{
 "cells": [
  {
   "cell_type": "markdown",
   "id": "3eb4e683",
   "metadata": {},
   "source": [
    "# NumPy\n",
    "\n",
    "Numeric Python"
   ]
  },
  {
   "cell_type": "code",
   "execution_count": null,
   "id": "33ac7e88",
   "metadata": {},
   "outputs": [],
   "source": [
    "list  - collection of different type of elements\n",
    "array - collection of similar type of elements"
   ]
  },
  {
   "cell_type": "code",
   "execution_count": 1,
   "id": "c94218e2",
   "metadata": {},
   "outputs": [
    {
     "name": "stdout",
     "output_type": "stream",
     "text": [
      "Requirement already satisfied: numpy in c:\\users\\himan\\anaconda3\\lib\\site-packages (1.26.2)\n"
     ]
    }
   ],
   "source": [
    "!pip install numpy"
   ]
  },
  {
   "cell_type": "markdown",
   "id": "f99329ae",
   "metadata": {},
   "source": [
    "### 1 - Creating a vector"
   ]
  },
  {
   "cell_type": "code",
   "execution_count": 1,
   "id": "12d690f0",
   "metadata": {},
   "outputs": [],
   "source": [
    "import numpy as np"
   ]
  },
  {
   "cell_type": "code",
   "execution_count": 5,
   "id": "bf2d463e",
   "metadata": {
    "scrolled": false
   },
   "outputs": [],
   "source": [
    "# help(np.array)"
   ]
  },
  {
   "cell_type": "code",
   "execution_count": 6,
   "id": "670d4ab9",
   "metadata": {},
   "outputs": [
    {
     "data": {
      "text/plain": [
       "array([1, 2, 3, 4])"
      ]
     },
     "execution_count": 6,
     "metadata": {},
     "output_type": "execute_result"
    }
   ],
   "source": [
    "v = np.array([1,2,3,4])\n",
    "\n",
    "v"
   ]
  },
  {
   "cell_type": "code",
   "execution_count": 7,
   "id": "5b6c6983",
   "metadata": {},
   "outputs": [
    {
     "name": "stdout",
     "output_type": "stream",
     "text": [
      "<class 'numpy.ndarray'>\n"
     ]
    }
   ],
   "source": [
    "print(type(v))"
   ]
  },
  {
   "cell_type": "code",
   "execution_count": 8,
   "id": "992d7964",
   "metadata": {},
   "outputs": [
    {
     "data": {
      "text/plain": [
       "array([[1],\n",
       "       [2],\n",
       "       [3]])"
      ]
     },
     "execution_count": 8,
     "metadata": {},
     "output_type": "execute_result"
    }
   ],
   "source": [
    "v = np.array([[1],[2],[3]])\n",
    "\n",
    "v"
   ]
  },
  {
   "cell_type": "markdown",
   "id": "5e24a9b2",
   "metadata": {},
   "source": [
    "### 2 - Matrix"
   ]
  },
  {
   "cell_type": "code",
   "execution_count": 9,
   "id": "dd55e96a",
   "metadata": {},
   "outputs": [
    {
     "data": {
      "text/plain": [
       "array([[1, 2, 3],\n",
       "       [4, 5, 6],\n",
       "       [7, 8, 9]])"
      ]
     },
     "execution_count": 9,
     "metadata": {},
     "output_type": "execute_result"
    }
   ],
   "source": [
    "matrix = np.array([[1,2,3], [4,5,6], [7,8,9]])\n",
    "matrix"
   ]
  },
  {
   "cell_type": "code",
   "execution_count": 10,
   "id": "d714f7cb",
   "metadata": {},
   "outputs": [
    {
     "name": "stdout",
     "output_type": "stream",
     "text": [
      "[[1 2 3]\n",
      " [4 5 6]\n",
      " [7 8 9]]\n"
     ]
    }
   ],
   "source": [
    "print(matrix)"
   ]
  },
  {
   "cell_type": "code",
   "execution_count": null,
   "id": "eda5e8f1",
   "metadata": {},
   "outputs": [],
   "source": [
    "0th dimension ----->    .\n",
    "1st dimension ----->    ._________.   # number line\n",
    "\n",
    "2nd dimension ----->    .____|_____.\n",
    "\n",
    "3rd dimension ----->    ._____|_____.\n",
    "                             /\n",
    "\n",
    "4th dimension ----->\n",
    ".\n",
    ".\n",
    ".\n",
    "nth dimensions"
   ]
  },
  {
   "cell_type": "code",
   "execution_count": null,
   "id": "83d25514",
   "metadata": {},
   "outputs": [],
   "source": [
    "# what is the real world example of linear algebra (matrix)\n",
    "1080p\n",
    "\n",
    "720p"
   ]
  },
  {
   "cell_type": "markdown",
   "id": "90f42aa5",
   "metadata": {},
   "source": [
    "### 3 - Describe Matrix"
   ]
  },
  {
   "cell_type": "code",
   "execution_count": 2,
   "id": "fb0d0bae",
   "metadata": {},
   "outputs": [
    {
     "data": {
      "text/plain": [
       "array([[1, 2, 3],\n",
       "       [4, 5, 6],\n",
       "       [7, 8, 9]])"
      ]
     },
     "execution_count": 2,
     "metadata": {},
     "output_type": "execute_result"
    }
   ],
   "source": [
    "matrix = np.array([[1,2,3], [4,5,6], [7,8,9]])\n",
    "matrix"
   ]
  },
  {
   "cell_type": "code",
   "execution_count": 12,
   "id": "c8f92529",
   "metadata": {},
   "outputs": [
    {
     "data": {
      "text/plain": [
       "(3, 3)"
      ]
     },
     "execution_count": 12,
     "metadata": {},
     "output_type": "execute_result"
    }
   ],
   "source": [
    "matrix.shape"
   ]
  },
  {
   "cell_type": "code",
   "execution_count": 13,
   "id": "83b3d268",
   "metadata": {},
   "outputs": [
    {
     "data": {
      "text/plain": [
       "9"
      ]
     },
     "execution_count": 13,
     "metadata": {},
     "output_type": "execute_result"
    }
   ],
   "source": [
    "matrix.size"
   ]
  },
  {
   "cell_type": "code",
   "execution_count": 14,
   "id": "1667dcd8",
   "metadata": {},
   "outputs": [
    {
     "data": {
      "text/plain": [
       "2"
      ]
     },
     "execution_count": 14,
     "metadata": {},
     "output_type": "execute_result"
    }
   ],
   "source": [
    "matrix.ndim"
   ]
  },
  {
   "cell_type": "markdown",
   "id": "f8ce1ad3",
   "metadata": {},
   "source": [
    "### 4 - Max and Min Values"
   ]
  },
  {
   "cell_type": "code",
   "execution_count": 3,
   "id": "daabe345",
   "metadata": {},
   "outputs": [
    {
     "data": {
      "text/plain": [
       "array([[1, 2, 3],\n",
       "       [4, 5, 6],\n",
       "       [7, 8, 9]])"
      ]
     },
     "execution_count": 3,
     "metadata": {},
     "output_type": "execute_result"
    }
   ],
   "source": [
    "matrix = np.array([[1,2,3], [4,5,6], [7,8,9]])\n",
    "matrix"
   ]
  },
  {
   "cell_type": "code",
   "execution_count": 4,
   "id": "67b4e28d",
   "metadata": {},
   "outputs": [
    {
     "name": "stdout",
     "output_type": "stream",
     "text": [
      "9\n"
     ]
    }
   ],
   "source": [
    "print(np.max(matrix))"
   ]
  },
  {
   "cell_type": "code",
   "execution_count": 5,
   "id": "cfea3342",
   "metadata": {},
   "outputs": [
    {
     "name": "stdout",
     "output_type": "stream",
     "text": [
      "1\n"
     ]
    }
   ],
   "source": [
    "print(np.min(matrix))"
   ]
  },
  {
   "cell_type": "code",
   "execution_count": 6,
   "id": "44ef7edf",
   "metadata": {},
   "outputs": [
    {
     "name": "stdout",
     "output_type": "stream",
     "text": [
      "[7 8 9]\n"
     ]
    }
   ],
   "source": [
    "print(np.max(matrix, axis=0))  # columns"
   ]
  },
  {
   "cell_type": "code",
   "execution_count": 7,
   "id": "8ad33bc9",
   "metadata": {},
   "outputs": [
    {
     "name": "stdout",
     "output_type": "stream",
     "text": [
      "[3 6 9]\n"
     ]
    }
   ],
   "source": [
    "print(np.max(matrix, axis=1)) # rows"
   ]
  },
  {
   "cell_type": "code",
   "execution_count": 8,
   "id": "809933ba",
   "metadata": {},
   "outputs": [
    {
     "name": "stdout",
     "output_type": "stream",
     "text": [
      "3\n"
     ]
    }
   ],
   "source": [
    "print(np.max(matrix, axis=1)[0]) # rows"
   ]
  },
  {
   "cell_type": "markdown",
   "id": "a7d53746",
   "metadata": {},
   "source": [
    "### 5 - Statistics"
   ]
  },
  {
   "cell_type": "code",
   "execution_count": null,
   "id": "9c270e98",
   "metadata": {},
   "outputs": [],
   "source": [
    "1. Descriptive -> Mean, Median, Mode, Standard Deviation, Variance, IQR, Percentile\n",
    "\n",
    "2. Inferential -> models, hypothesis testing, regression(relationship)"
   ]
  },
  {
   "cell_type": "code",
   "execution_count": 18,
   "id": "963d4622",
   "metadata": {},
   "outputs": [
    {
     "data": {
      "text/plain": [
       "array([[1, 2, 3],\n",
       "       [4, 5, 6],\n",
       "       [7, 8, 9]])"
      ]
     },
     "execution_count": 18,
     "metadata": {},
     "output_type": "execute_result"
    }
   ],
   "source": [
    "matrix = np.array([[1,2,3], [4,5,6], [7,8,9]])\n",
    "matrix"
   ]
  },
  {
   "cell_type": "code",
   "execution_count": 20,
   "id": "f02e80cf",
   "metadata": {},
   "outputs": [
    {
     "name": "stdout",
     "output_type": "stream",
     "text": [
      "5.0\n"
     ]
    }
   ],
   "source": [
    "print(np.mean(matrix))"
   ]
  },
  {
   "cell_type": "code",
   "execution_count": 21,
   "id": "1e874407",
   "metadata": {},
   "outputs": [
    {
     "name": "stdout",
     "output_type": "stream",
     "text": [
      "2.581988897471611\n"
     ]
    }
   ],
   "source": [
    "print(np.std(matrix))"
   ]
  },
  {
   "cell_type": "code",
   "execution_count": 22,
   "id": "ce2e59c1",
   "metadata": {},
   "outputs": [
    {
     "name": "stdout",
     "output_type": "stream",
     "text": [
      "6.666666666666667\n"
     ]
    }
   ],
   "source": [
    "print(np.var(matrix))"
   ]
  },
  {
   "cell_type": "markdown",
   "id": "a0e8f1ca",
   "metadata": {},
   "source": [
    "### 6 - Reshaping arrays"
   ]
  },
  {
   "cell_type": "code",
   "execution_count": 23,
   "id": "89f84c25",
   "metadata": {},
   "outputs": [
    {
     "data": {
      "text/plain": [
       "array([[1, 2, 3],\n",
       "       [4, 5, 6],\n",
       "       [7, 8, 9]])"
      ]
     },
     "execution_count": 23,
     "metadata": {},
     "output_type": "execute_result"
    }
   ],
   "source": [
    "matrix = np.array([[1,2,3], [4,5,6], [7,8,9]])\n",
    "matrix"
   ]
  },
  {
   "cell_type": "code",
   "execution_count": 24,
   "id": "4896a460",
   "metadata": {},
   "outputs": [
    {
     "name": "stdout",
     "output_type": "stream",
     "text": [
      "[1 2 3 4 5 6 7 8 9]\n"
     ]
    }
   ],
   "source": [
    "print(matrix.reshape(9))"
   ]
  },
  {
   "cell_type": "code",
   "execution_count": 25,
   "id": "b92185b1",
   "metadata": {},
   "outputs": [
    {
     "name": "stdout",
     "output_type": "stream",
     "text": [
      "[[1]\n",
      " [2]\n",
      " [3]\n",
      " [4]\n",
      " [5]\n",
      " [6]\n",
      " [7]\n",
      " [8]\n",
      " [9]]\n"
     ]
    }
   ],
   "source": [
    "print(matrix.reshape(9,1))"
   ]
  },
  {
   "cell_type": "code",
   "execution_count": 26,
   "id": "f2601cca",
   "metadata": {},
   "outputs": [
    {
     "ename": "ValueError",
     "evalue": "cannot reshape array of size 9 into shape (9,2)",
     "output_type": "error",
     "traceback": [
      "\u001b[1;31m---------------------------------------------------------------------------\u001b[0m",
      "\u001b[1;31mValueError\u001b[0m                                Traceback (most recent call last)",
      "Input \u001b[1;32mIn [26]\u001b[0m, in \u001b[0;36m<cell line: 1>\u001b[1;34m()\u001b[0m\n\u001b[1;32m----> 1\u001b[0m \u001b[38;5;28mprint\u001b[39m(\u001b[43mmatrix\u001b[49m\u001b[38;5;241;43m.\u001b[39;49m\u001b[43mreshape\u001b[49m\u001b[43m(\u001b[49m\u001b[38;5;241;43m9\u001b[39;49m\u001b[43m,\u001b[49m\u001b[38;5;241;43m2\u001b[39;49m\u001b[43m)\u001b[49m)\n",
      "\u001b[1;31mValueError\u001b[0m: cannot reshape array of size 9 into shape (9,2)"
     ]
    }
   ],
   "source": [
    "print(matrix.reshape(9,2))"
   ]
  },
  {
   "cell_type": "code",
   "execution_count": 27,
   "id": "0b0e7623",
   "metadata": {},
   "outputs": [
    {
     "name": "stdout",
     "output_type": "stream",
     "text": [
      "[1 2 3 4 5 6 7 8 9]\n"
     ]
    }
   ],
   "source": [
    "print(matrix.flatten())"
   ]
  },
  {
   "cell_type": "code",
   "execution_count": null,
   "id": "1917b7d6",
   "metadata": {},
   "outputs": [],
   "source": [
    "## Assignment\n",
    "Folder - Numpy books\n",
    "\n",
    "solve chapters\n",
    "3, 4, 5"
   ]
  },
  {
   "cell_type": "markdown",
   "id": "2dd29496",
   "metadata": {},
   "source": [
    "# NumPy Part 2\n",
    "\n",
    "\n",
    "## 7 - Selecting Elements"
   ]
  },
  {
   "cell_type": "code",
   "execution_count": 9,
   "id": "17ec554c",
   "metadata": {},
   "outputs": [
    {
     "name": "stdout",
     "output_type": "stream",
     "text": [
      "11\n"
     ]
    }
   ],
   "source": [
    "#            -7  -6 -5 -4  -3 -2  -1\n",
    "v = np.array([11,12,13,14,15,16,17])\n",
    "#             0  1  2  3  4  5  6\n",
    "\n",
    "print(v[0])"
   ]
  },
  {
   "cell_type": "code",
   "execution_count": 10,
   "id": "44ff1d22",
   "metadata": {},
   "outputs": [
    {
     "name": "stdout",
     "output_type": "stream",
     "text": [
      "16\n"
     ]
    }
   ],
   "source": [
    "print(v[5])"
   ]
  },
  {
   "cell_type": "code",
   "execution_count": 11,
   "id": "77a6844c",
   "metadata": {},
   "outputs": [
    {
     "name": "stdout",
     "output_type": "stream",
     "text": [
      "<class 'numpy.ndarray'>\n"
     ]
    }
   ],
   "source": [
    "print(type(v))"
   ]
  },
  {
   "cell_type": "code",
   "execution_count": 12,
   "id": "36e8b9aa",
   "metadata": {},
   "outputs": [
    {
     "name": "stdout",
     "output_type": "stream",
     "text": [
      "17\n"
     ]
    }
   ],
   "source": [
    "print(v[-1])"
   ]
  },
  {
   "cell_type": "code",
   "execution_count": 13,
   "id": "3d0dd3a3",
   "metadata": {},
   "outputs": [
    {
     "name": "stdout",
     "output_type": "stream",
     "text": [
      "17\n"
     ]
    }
   ],
   "source": [
    "print(v[6])"
   ]
  },
  {
   "cell_type": "code",
   "execution_count": 14,
   "id": "acc67996",
   "metadata": {},
   "outputs": [
    {
     "name": "stdout",
     "output_type": "stream",
     "text": [
      "[14 15 16]\n"
     ]
    }
   ],
   "source": [
    "# v[start : end]\n",
    "\n",
    "#            -7  -6 -5 -4  -3 -2  -1\n",
    "v = np.array([11,12,13,14,15,16,17])\n",
    "#             0  1  2  3  4  5  6\n",
    "\n",
    "print(v[3:6])"
   ]
  },
  {
   "cell_type": "code",
   "execution_count": 15,
   "id": "3765d63b",
   "metadata": {},
   "outputs": [
    {
     "name": "stdout",
     "output_type": "stream",
     "text": [
      "[13 14 15]\n"
     ]
    }
   ],
   "source": [
    "print(v[2:5])"
   ]
  },
  {
   "cell_type": "code",
   "execution_count": 16,
   "id": "030c614c",
   "metadata": {},
   "outputs": [
    {
     "name": "stdout",
     "output_type": "stream",
     "text": [
      "[11 12 13 14 15 16 17]\n"
     ]
    }
   ],
   "source": [
    "print(v[0:])"
   ]
  },
  {
   "cell_type": "code",
   "execution_count": 18,
   "id": "e1be7867",
   "metadata": {},
   "outputs": [
    {
     "name": "stdout",
     "output_type": "stream",
     "text": [
      "[]\n"
     ]
    }
   ],
   "source": [
    "print(v[0:-7])"
   ]
  },
  {
   "cell_type": "code",
   "execution_count": 19,
   "id": "5dcb4c2a",
   "metadata": {},
   "outputs": [
    {
     "name": "stdout",
     "output_type": "stream",
     "text": [
      "[11 12 13]\n"
     ]
    }
   ],
   "source": [
    "print(v[0:-4])"
   ]
  },
  {
   "cell_type": "code",
   "execution_count": 17,
   "id": "13884834",
   "metadata": {
    "scrolled": true
   },
   "outputs": [
    {
     "data": {
      "text/plain": [
       "array([[1, 2, 3],\n",
       "       [4, 5, 6],\n",
       "       [7, 8, 9]])"
      ]
     },
     "execution_count": 17,
     "metadata": {},
     "output_type": "execute_result"
    }
   ],
   "source": [
    "matrix = np.array([[1,2,3], [4,5,6], [7,8,9]])\n",
    "matrix"
   ]
  },
  {
   "cell_type": "code",
   "execution_count": null,
   "id": "cda609a8",
   "metadata": {},
   "outputs": [],
   "source": [
    "00  01  02\n",
    "10  11  12\n",
    "20  21  22"
   ]
  },
  {
   "cell_type": "code",
   "execution_count": 20,
   "id": "76cf34e4",
   "metadata": {},
   "outputs": [
    {
     "data": {
      "text/plain": [
       "1"
      ]
     },
     "execution_count": 20,
     "metadata": {},
     "output_type": "execute_result"
    }
   ],
   "source": [
    "matrix[0,0]"
   ]
  },
  {
   "cell_type": "code",
   "execution_count": 21,
   "id": "cfbad299",
   "metadata": {},
   "outputs": [
    {
     "data": {
      "text/plain": [
       "8"
      ]
     },
     "execution_count": 21,
     "metadata": {},
     "output_type": "execute_result"
    }
   ],
   "source": [
    "matrix[2,1]"
   ]
  },
  {
   "cell_type": "code",
   "execution_count": 22,
   "id": "2b68dcab",
   "metadata": {},
   "outputs": [
    {
     "data": {
      "text/plain": [
       "array([[1, 2, 3],\n",
       "       [4, 5, 6],\n",
       "       [7, 8, 9]])"
      ]
     },
     "execution_count": 22,
     "metadata": {},
     "output_type": "execute_result"
    }
   ],
   "source": [
    "matrix"
   ]
  },
  {
   "cell_type": "code",
   "execution_count": 23,
   "id": "9b1c542d",
   "metadata": {},
   "outputs": [
    {
     "data": {
      "text/plain": [
       "array([[3],\n",
       "       [6],\n",
       "       [9]])"
      ]
     },
     "execution_count": 23,
     "metadata": {},
     "output_type": "execute_result"
    }
   ],
   "source": [
    "matrix[: , 2:3]"
   ]
  },
  {
   "cell_type": "code",
   "execution_count": 24,
   "id": "5cdc44e9",
   "metadata": {},
   "outputs": [
    {
     "data": {
      "text/plain": [
       "array([], shape=(3, 0), dtype=int32)"
      ]
     },
     "execution_count": 24,
     "metadata": {},
     "output_type": "execute_result"
    }
   ],
   "source": [
    "matrix[:, 2:2]"
   ]
  },
  {
   "cell_type": "code",
   "execution_count": 25,
   "id": "b40a3a72",
   "metadata": {},
   "outputs": [
    {
     "data": {
      "text/plain": [
       "array([[1, 2, 3],\n",
       "       [4, 5, 6],\n",
       "       [7, 8, 9]])"
      ]
     },
     "execution_count": 25,
     "metadata": {},
     "output_type": "execute_result"
    }
   ],
   "source": [
    "matrix[0:3 , 0:3]"
   ]
  },
  {
   "cell_type": "markdown",
   "id": "94a6cf23",
   "metadata": {},
   "source": [
    "## 8 - Transpose of a matrix"
   ]
  },
  {
   "cell_type": "code",
   "execution_count": 26,
   "id": "3064a81f",
   "metadata": {},
   "outputs": [
    {
     "data": {
      "text/plain": [
       "array([[1, 2, 3],\n",
       "       [4, 5, 6],\n",
       "       [7, 8, 9]])"
      ]
     },
     "execution_count": 26,
     "metadata": {},
     "output_type": "execute_result"
    }
   ],
   "source": [
    "matrix = np.array([[1,2,3], [4,5,6], [7,8,9]])\n",
    "matrix"
   ]
  },
  {
   "cell_type": "code",
   "execution_count": 27,
   "id": "b8b0e767",
   "metadata": {},
   "outputs": [
    {
     "name": "stdout",
     "output_type": "stream",
     "text": [
      "[[1 4 7]\n",
      " [2 5 8]\n",
      " [3 6 9]]\n"
     ]
    }
   ],
   "source": [
    "print(matrix.T)"
   ]
  },
  {
   "cell_type": "markdown",
   "id": "29782d6a",
   "metadata": {},
   "source": [
    "## 9 - Diagonal"
   ]
  },
  {
   "cell_type": "code",
   "execution_count": 28,
   "id": "b0f9881d",
   "metadata": {},
   "outputs": [
    {
     "data": {
      "text/plain": [
       "array([[1, 2, 3],\n",
       "       [4, 5, 6],\n",
       "       [7, 8, 9]])"
      ]
     },
     "execution_count": 28,
     "metadata": {},
     "output_type": "execute_result"
    }
   ],
   "source": [
    "matrix = np.array([[1,2,3], [4,5,6], [7,8,9]])\n",
    "matrix"
   ]
  },
  {
   "cell_type": "code",
   "execution_count": 29,
   "id": "5ae268d6",
   "metadata": {},
   "outputs": [
    {
     "name": "stdout",
     "output_type": "stream",
     "text": [
      "[1 5 9]\n"
     ]
    }
   ],
   "source": [
    "print(matrix.diagonal())"
   ]
  },
  {
   "cell_type": "code",
   "execution_count": 30,
   "id": "7020b7dd",
   "metadata": {},
   "outputs": [
    {
     "name": "stdout",
     "output_type": "stream",
     "text": [
      "[2 6]\n"
     ]
    }
   ],
   "source": [
    "print(matrix.diagonal(offset=1))"
   ]
  },
  {
   "cell_type": "code",
   "execution_count": 31,
   "id": "5d7c4afd",
   "metadata": {},
   "outputs": [
    {
     "name": "stdout",
     "output_type": "stream",
     "text": [
      "[3]\n"
     ]
    }
   ],
   "source": [
    "print(matrix.diagonal(offset=2))"
   ]
  },
  {
   "cell_type": "code",
   "execution_count": 32,
   "id": "a352a2b8",
   "metadata": {},
   "outputs": [
    {
     "name": "stdout",
     "output_type": "stream",
     "text": [
      "[4 8]\n"
     ]
    }
   ],
   "source": [
    "print(matrix.diagonal(offset=-1))"
   ]
  },
  {
   "cell_type": "code",
   "execution_count": 33,
   "id": "337ec615",
   "metadata": {},
   "outputs": [
    {
     "name": "stdout",
     "output_type": "stream",
     "text": [
      "[7]\n"
     ]
    }
   ],
   "source": [
    "print(matrix.diagonal(offset=-2))"
   ]
  },
  {
   "cell_type": "code",
   "execution_count": 34,
   "id": "49f9dd21",
   "metadata": {},
   "outputs": [
    {
     "data": {
      "text/plain": [
       "array([3, 5, 7])"
      ]
     },
     "execution_count": 34,
     "metadata": {},
     "output_type": "execute_result"
    }
   ],
   "source": [
    "np.diag(np.rot90(matrix))"
   ]
  },
  {
   "cell_type": "code",
   "execution_count": 35,
   "id": "c5d495f5",
   "metadata": {},
   "outputs": [],
   "source": [
    "# some examples other than flipping an image"
   ]
  },
  {
   "cell_type": "markdown",
   "id": "55f1a466",
   "metadata": {},
   "source": [
    "## 10 - Dot Product"
   ]
  },
  {
   "cell_type": "code",
   "execution_count": 36,
   "id": "e59eccf3",
   "metadata": {},
   "outputs": [
    {
     "name": "stdout",
     "output_type": "stream",
     "text": [
      "[[1 2 3]\n",
      " [4 5 6]\n",
      " [7 8 9]]\n",
      "[[1 2 3]\n",
      " [4 5 6]\n",
      " [7 8 9]]\n"
     ]
    }
   ],
   "source": [
    "matrix1 = np.array([[1,2,3], [4,5,6], [7,8,9]])\n",
    "matrix2 = np.array([[1,2,3], [4,5,6], [7,8,9]])\n",
    "\n",
    "print(matrix1)\n",
    "print(matrix2)"
   ]
  },
  {
   "cell_type": "code",
   "execution_count": 37,
   "id": "a1a37df5",
   "metadata": {},
   "outputs": [
    {
     "name": "stdout",
     "output_type": "stream",
     "text": [
      "[[ 30  36  42]\n",
      " [ 66  81  96]\n",
      " [102 126 150]]\n"
     ]
    }
   ],
   "source": [
    "print(np.dot(matrix1, matrix2))"
   ]
  },
  {
   "cell_type": "code",
   "execution_count": null,
   "id": "21d06bce",
   "metadata": {},
   "outputs": [],
   "source": [
    "1*1 + 2*4 + 3*7"
   ]
  },
  {
   "cell_type": "code",
   "execution_count": 40,
   "id": "ed98958a",
   "metadata": {},
   "outputs": [
    {
     "name": "stdout",
     "output_type": "stream",
     "text": [
      "[[1 2 3]\n",
      " [4 5 6]\n",
      " [7 8 9]]\n",
      "[[1 2 3 4]\n",
      " [4 5 6 4]\n",
      " [7 8 9 4]]\n"
     ]
    }
   ],
   "source": [
    "matrix1 = np.array([[1,2,3], [4,5,6], [7,8,9]])\n",
    "matrix2 = np.array([[1,2,3,4], [4,5,6,4], [7,8,9,4]])\n",
    "\n",
    "print(matrix1)\n",
    "print(matrix2)"
   ]
  },
  {
   "cell_type": "code",
   "execution_count": 41,
   "id": "74ee9f48",
   "metadata": {},
   "outputs": [
    {
     "name": "stdout",
     "output_type": "stream",
     "text": [
      "[[ 30  36  42  24]\n",
      " [ 66  81  96  60]\n",
      " [102 126 150  96]]\n"
     ]
    }
   ],
   "source": [
    "print(np.dot(matrix1, matrix2))"
   ]
  },
  {
   "cell_type": "markdown",
   "id": "19311e7d",
   "metadata": {},
   "source": [
    "## 11 - cross product"
   ]
  },
  {
   "cell_type": "code",
   "execution_count": 42,
   "id": "f1d58f2e",
   "metadata": {},
   "outputs": [
    {
     "name": "stdout",
     "output_type": "stream",
     "text": [
      "[[ 1  4  9]\n",
      " [16 25 36]\n",
      " [49 64 81]]\n"
     ]
    }
   ],
   "source": [
    "matrix1 = np.array([[1,2,3], [4,5,6], [7,8,9]])\n",
    "matrix2 = np.array([[1,2,3], [4,5,6], [7,8,9]])\n",
    "\n",
    "print(matrix1 * matrix2)"
   ]
  },
  {
   "cell_type": "code",
   "execution_count": 43,
   "id": "143cc91b",
   "metadata": {},
   "outputs": [
    {
     "name": "stdout",
     "output_type": "stream",
     "text": [
      "[[ 2  4  6]\n",
      " [ 8 10 12]\n",
      " [14 16 18]]\n"
     ]
    }
   ],
   "source": [
    "print(np.add(matrix1, matrix2))"
   ]
  },
  {
   "cell_type": "code",
   "execution_count": 44,
   "id": "b6d0d4ef",
   "metadata": {},
   "outputs": [
    {
     "name": "stdout",
     "output_type": "stream",
     "text": [
      "[[0 0 0]\n",
      " [0 0 0]\n",
      " [0 0 0]]\n"
     ]
    }
   ],
   "source": [
    "print(np.subtract(matrix1, matrix2))"
   ]
  },
  {
   "cell_type": "code",
   "execution_count": 45,
   "id": "206394b2",
   "metadata": {},
   "outputs": [
    {
     "name": "stdout",
     "output_type": "stream",
     "text": [
      "[[1. 1. 1.]\n",
      " [1. 1. 1.]\n",
      " [1. 1. 1.]]\n"
     ]
    }
   ],
   "source": [
    "print(np.divide(matrix1, matrix2))"
   ]
  },
  {
   "cell_type": "markdown",
   "id": "6861bcbf",
   "metadata": {},
   "source": [
    "## 12 - Random Values"
   ]
  },
  {
   "cell_type": "code",
   "execution_count": 50,
   "id": "68a8536d",
   "metadata": {},
   "outputs": [
    {
     "data": {
      "text/plain": [
       "array([6, 8, 8, 4, 9])"
      ]
     },
     "execution_count": 50,
     "metadata": {},
     "output_type": "execute_result"
    }
   ],
   "source": [
    "np.random.randint(0,11,5)"
   ]
  },
  {
   "cell_type": "code",
   "execution_count": 51,
   "id": "0d35306c",
   "metadata": {},
   "outputs": [
    {
     "data": {
      "text/plain": [
       "array([ 0,  1,  4,  1,  5,  9, 10,  5, 10])"
      ]
     },
     "execution_count": 51,
     "metadata": {},
     "output_type": "execute_result"
    }
   ],
   "source": [
    "np.random.randint(0,11,9)"
   ]
  },
  {
   "cell_type": "code",
   "execution_count": 55,
   "id": "13a0187e",
   "metadata": {},
   "outputs": [
    {
     "data": {
      "text/plain": [
       "array([[ 8,  6,  7],\n",
       "       [ 8,  9,  4],\n",
       "       [ 6, 10,  6]])"
      ]
     },
     "execution_count": 55,
     "metadata": {},
     "output_type": "execute_result"
    }
   ],
   "source": [
    "np.random.randint(0,11,9).reshape(3,3)"
   ]
  },
  {
   "cell_type": "code",
   "execution_count": 58,
   "id": "04552602",
   "metadata": {},
   "outputs": [
    {
     "data": {
      "text/plain": [
       "array([3, 6, 6])"
      ]
     },
     "execution_count": 58,
     "metadata": {},
     "output_type": "execute_result"
    }
   ],
   "source": [
    "np.random.seed(5)\n",
    "\n",
    "np.random.randint(0,11,3)"
   ]
  },
  {
   "cell_type": "code",
   "execution_count": 59,
   "id": "8e81921a",
   "metadata": {},
   "outputs": [
    {
     "data": {
      "text/plain": [
       "array([ 0.95339251,  2.68355533,  3.73517105,  2.14941538, -2.77152482,\n",
       "        1.34185074,  0.19381338,  4.27525698, -0.2105957 , -2.18883015])"
      ]
     },
     "execution_count": 59,
     "metadata": {},
     "output_type": "execute_result"
    }
   ],
   "source": [
    "np.random.normal(1.0, 2.0, 10)"
   ]
  },
  {
   "cell_type": "code",
   "execution_count": null,
   "id": "15e8e2c0",
   "metadata": {},
   "outputs": [],
   "source": [
    "int -> 2 bytes\n",
    "\n",
    "array 10 -> 20 bytes\n",
    "\n",
    " 0      1     2\n",
    "2011  2013  2015"
   ]
  },
  {
   "cell_type": "code",
   "execution_count": null,
   "id": "53d77a1d",
   "metadata": {},
   "outputs": [],
   "source": [
    "l = [1,2,3,4, \"Him\"]\n",
    "    \n",
    "    0\n",
    "l = [1111, ]\n",
    "\n",
    "1-> id 1111"
   ]
  }
 ],
 "metadata": {
  "kernelspec": {
   "display_name": "Python 3 (ipykernel)",
   "language": "python",
   "name": "python3"
  },
  "language_info": {
   "codemirror_mode": {
    "name": "ipython",
    "version": 3
   },
   "file_extension": ".py",
   "mimetype": "text/x-python",
   "name": "python",
   "nbconvert_exporter": "python",
   "pygments_lexer": "ipython3",
   "version": "3.9.12"
  }
 },
 "nbformat": 4,
 "nbformat_minor": 5
}
