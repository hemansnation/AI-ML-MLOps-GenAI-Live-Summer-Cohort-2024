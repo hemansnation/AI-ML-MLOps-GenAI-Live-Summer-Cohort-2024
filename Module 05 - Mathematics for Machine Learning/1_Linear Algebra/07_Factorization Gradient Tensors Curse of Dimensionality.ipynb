{
 "cells": [
  {
   "cell_type": "markdown",
   "id": "ec90118d",
   "metadata": {},
   "source": [
    "# Factorization\n",
    "\n",
    "<img src='f2.png' />"
   ]
  },
  {
   "cell_type": "code",
   "execution_count": null,
   "id": "c3581c34",
   "metadata": {},
   "outputs": [],
   "source": [
    "recommendation system -> amazon, ubereats, zomato, netflix, youtube\n",
    "\n",
    "- collaborative filtering -> similarities users past behavious x similar preferences of other users\n",
    "- content-based filtering -> product/items based on item characterstics\n",
    "\n"
   ]
  },
  {
   "cell_type": "code",
   "execution_count": null,
   "id": "bbf72742",
   "metadata": {},
   "outputs": [],
   "source": [
    "matix factorization\n",
    "\n",
    "- extracting features from 2 different matrix\n",
    "- relationship b/w items and users\n"
   ]
  },
  {
   "cell_type": "markdown",
   "id": "a6e70b38",
   "metadata": {},
   "source": [
    "# Singular Value Decomposition"
   ]
  },
  {
   "cell_type": "code",
   "execution_count": null,
   "id": "2e5c7193",
   "metadata": {},
   "outputs": [],
   "source": [
    "- data compression\n",
    "- image processing\n",
    "    - denoise image\n",
    "    - removing background noise\n",
    "    - extract important features from the images\n",
    "- recommendation system"
   ]
  },
  {
   "cell_type": "code",
   "execution_count": null,
   "id": "5d0e56e1",
   "metadata": {},
   "outputs": [],
   "source": [
    "svd\n",
    "- reduce the colors\n",
    "\n",
    "RGB -> gray scale"
   ]
  },
  {
   "cell_type": "code",
   "execution_count": null,
   "id": "3c1086a4",
   "metadata": {},
   "outputs": [],
   "source": []
  },
  {
   "cell_type": "markdown",
   "id": "b4ce299e",
   "metadata": {},
   "source": [
    "# Gradients\n",
    "\n",
    "<img src='f1.png' />"
   ]
  },
  {
   "cell_type": "code",
   "execution_count": null,
   "id": "e0fb08d3",
   "metadata": {},
   "outputs": [],
   "source": [
    "gradient descent -> optimization algorithm\n",
    "\n",
    "to minimize the cost/loss\n",
    "\n",
    "2 types passes\n",
    "- forward pass\n",
    "- backward pass"
   ]
  },
  {
   "cell_type": "code",
   "execution_count": null,
   "id": "c6478482",
   "metadata": {},
   "outputs": [],
   "source": []
  },
  {
   "cell_type": "markdown",
   "id": "ad2120f5",
   "metadata": {},
   "source": [
    "# Tensors\n",
    "\n",
    "<img src='tensors.png' />"
   ]
  },
  {
   "cell_type": "code",
   "execution_count": null,
   "id": "4adb894f",
   "metadata": {},
   "outputs": [],
   "source": [
    "tensors are multi-dimensional arrays, that can hold data of differnt types\n",
    "    and give you a data structure to store it\n",
    "    \n",
    "- data representation\n",
    "- best with GPUs\n",
    "- efficient processing\n",
    "\n",
    "- neural networks -> storing information like - weights, biases, gradients\n",
    "- CNN - use tensors for filters, detecting patterns in images"
   ]
  },
  {
   "cell_type": "code",
   "execution_count": null,
   "id": "97408c6e",
   "metadata": {},
   "outputs": [],
   "source": [
    "frameworks\n",
    "- pytorch\n",
    "- tensorflow"
   ]
  },
  {
   "cell_type": "code",
   "execution_count": null,
   "id": "2397f417",
   "metadata": {},
   "outputs": [],
   "source": []
  },
  {
   "cell_type": "markdown",
   "id": "e4f59f2a",
   "metadata": {},
   "source": [
    "# Curse of Dimensionality\n",
    "\n",
    "<img src='f3.jpg' />"
   ]
  },
  {
   "cell_type": "code",
   "execution_count": null,
   "id": "99009211",
   "metadata": {},
   "outputs": [],
   "source": [
    "- increased computation\n",
    "- overfitting\n",
    "- visualization challenges"
   ]
  },
  {
   "cell_type": "code",
   "execution_count": null,
   "id": "0f8d167f",
   "metadata": {},
   "outputs": [],
   "source": [
    "solution\n",
    "- PCA - Principal Component Analysis\n",
    "- autoencoders\n",
    "\n",
    "- LDA - Linear Discriminant Analysis"
   ]
  },
  {
   "cell_type": "code",
   "execution_count": null,
   "id": "4f313346",
   "metadata": {},
   "outputs": [],
   "source": []
  },
  {
   "cell_type": "code",
   "execution_count": null,
   "id": "9b21512e",
   "metadata": {},
   "outputs": [],
   "source": []
  },
  {
   "cell_type": "code",
   "execution_count": null,
   "id": "260dbccb",
   "metadata": {},
   "outputs": [],
   "source": []
  },
  {
   "cell_type": "code",
   "execution_count": null,
   "id": "be2d1b3e",
   "metadata": {},
   "outputs": [],
   "source": []
  },
  {
   "cell_type": "code",
   "execution_count": null,
   "id": "0c90029c",
   "metadata": {},
   "outputs": [],
   "source": []
  },
  {
   "cell_type": "code",
   "execution_count": null,
   "id": "062d9ae0",
   "metadata": {},
   "outputs": [],
   "source": []
  }
 ],
 "metadata": {
  "kernelspec": {
   "display_name": "Python 3 (ipykernel)",
   "language": "python",
   "name": "python3"
  },
  "language_info": {
   "codemirror_mode": {
    "name": "ipython",
    "version": 3
   },
   "file_extension": ".py",
   "mimetype": "text/x-python",
   "name": "python",
   "nbconvert_exporter": "python",
   "pygments_lexer": "ipython3",
   "version": "3.9.12"
  }
 },
 "nbformat": 4,
 "nbformat_minor": 5
}
