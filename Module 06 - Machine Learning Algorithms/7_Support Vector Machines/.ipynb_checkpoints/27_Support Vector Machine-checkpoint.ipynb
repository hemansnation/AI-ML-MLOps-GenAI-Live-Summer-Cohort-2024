{
 "cells": [
  {
   "cell_type": "markdown",
   "id": "ac2b7a93",
   "metadata": {},
   "source": [
    "# Support Vector Machine\n",
    "\n",
    "<img src='s1.png' />"
   ]
  },
  {
   "cell_type": "code",
   "execution_count": null,
   "id": "92e5ef55",
   "metadata": {},
   "outputs": [],
   "source": []
  },
  {
   "cell_type": "markdown",
   "id": "e9d44608",
   "metadata": {},
   "source": [
    "For Images and OCR - \n",
    "https://pyimagesearch.com/"
   ]
  },
  {
   "cell_type": "markdown",
   "id": "8404ff32",
   "metadata": {},
   "source": [
    "## When to use SVM"
   ]
  },
  {
   "cell_type": "code",
   "execution_count": null,
   "id": "ebc9672b",
   "metadata": {},
   "outputs": [],
   "source": []
  },
  {
   "cell_type": "markdown",
   "id": "afb39721",
   "metadata": {},
   "source": [
    "## Hyperplane, Margin, Support Vector\n",
    "\n",
    "<img src='s2.png' />\n"
   ]
  },
  {
   "cell_type": "code",
   "execution_count": null,
   "id": "0d745943",
   "metadata": {},
   "outputs": [],
   "source": []
  },
  {
   "cell_type": "markdown",
   "id": "dda5fd6c",
   "metadata": {},
   "source": [
    "## Margin and Hyperplane to choose\n",
    "\n",
    "<img src='s3.png' />"
   ]
  },
  {
   "cell_type": "code",
   "execution_count": null,
   "id": "7c413cbb",
   "metadata": {},
   "outputs": [],
   "source": []
  },
  {
   "cell_type": "markdown",
   "id": "a40c1095",
   "metadata": {},
   "source": [
    "## Kernel Trick\n",
    "\n",
    "\n",
    "<img src='s4.png' />"
   ]
  },
  {
   "cell_type": "code",
   "execution_count": null,
   "id": "dcf15864",
   "metadata": {},
   "outputs": [],
   "source": []
  },
  {
   "cell_type": "markdown",
   "id": "df9cf809",
   "metadata": {},
   "source": [
    "# Dataset Pulsar\n",
    "\n",
    "#### predicting a pulsar star"
   ]
  },
  {
   "cell_type": "code",
   "execution_count": null,
   "id": "deb2ae4b",
   "metadata": {},
   "outputs": [],
   "source": []
  },
  {
   "cell_type": "code",
   "execution_count": null,
   "id": "851d037b",
   "metadata": {},
   "outputs": [],
   "source": []
  },
  {
   "cell_type": "code",
   "execution_count": null,
   "id": "f131fdea",
   "metadata": {},
   "outputs": [],
   "source": []
  },
  {
   "cell_type": "code",
   "execution_count": null,
   "id": "0659aa30",
   "metadata": {},
   "outputs": [],
   "source": []
  },
  {
   "cell_type": "code",
   "execution_count": null,
   "id": "a870de03",
   "metadata": {},
   "outputs": [],
   "source": []
  },
  {
   "cell_type": "code",
   "execution_count": null,
   "id": "833cb9e9",
   "metadata": {},
   "outputs": [],
   "source": []
  },
  {
   "cell_type": "code",
   "execution_count": null,
   "id": "da1db209",
   "metadata": {},
   "outputs": [],
   "source": []
  },
  {
   "cell_type": "code",
   "execution_count": null,
   "id": "2341e6f6",
   "metadata": {},
   "outputs": [],
   "source": []
  },
  {
   "cell_type": "markdown",
   "id": "c62d5a10",
   "metadata": {},
   "source": [
    "# SVC classifier"
   ]
  },
  {
   "cell_type": "code",
   "execution_count": null,
   "id": "e30c7caf",
   "metadata": {},
   "outputs": [],
   "source": []
  },
  {
   "cell_type": "code",
   "execution_count": null,
   "id": "f0a07d43",
   "metadata": {},
   "outputs": [],
   "source": []
  },
  {
   "cell_type": "code",
   "execution_count": null,
   "id": "9c5434c5",
   "metadata": {},
   "outputs": [],
   "source": []
  },
  {
   "cell_type": "code",
   "execution_count": null,
   "id": "1c71b5db",
   "metadata": {},
   "outputs": [],
   "source": []
  },
  {
   "cell_type": "code",
   "execution_count": null,
   "id": "5734b175",
   "metadata": {},
   "outputs": [],
   "source": []
  },
  {
   "cell_type": "code",
   "execution_count": null,
   "id": "17e21372",
   "metadata": {},
   "outputs": [],
   "source": []
  },
  {
   "cell_type": "code",
   "execution_count": null,
   "id": "1c8e7708",
   "metadata": {},
   "outputs": [],
   "source": []
  },
  {
   "cell_type": "code",
   "execution_count": null,
   "id": "6aaef1c9",
   "metadata": {},
   "outputs": [],
   "source": []
  },
  {
   "cell_type": "code",
   "execution_count": null,
   "id": "f67a3bdb",
   "metadata": {},
   "outputs": [],
   "source": []
  },
  {
   "cell_type": "code",
   "execution_count": null,
   "id": "1eb9f0a2",
   "metadata": {},
   "outputs": [],
   "source": []
  },
  {
   "cell_type": "code",
   "execution_count": null,
   "id": "f857ac33",
   "metadata": {},
   "outputs": [],
   "source": []
  },
  {
   "cell_type": "markdown",
   "id": "a5320f4a",
   "metadata": {},
   "source": [
    "# Assignment\n",
    "\n",
    "- polynomial kernel\n",
    "- sigmoid kernel\n",
    "\n",
    "compare the train and test results"
   ]
  },
  {
   "cell_type": "code",
   "execution_count": null,
   "id": "191253b9",
   "metadata": {},
   "outputs": [],
   "source": []
  }
 ],
 "metadata": {
  "kernelspec": {
   "display_name": "Python 3 (ipykernel)",
   "language": "python",
   "name": "python3"
  },
  "language_info": {
   "codemirror_mode": {
    "name": "ipython",
    "version": 3
   },
   "file_extension": ".py",
   "mimetype": "text/x-python",
   "name": "python",
   "nbconvert_exporter": "python",
   "pygments_lexer": "ipython3",
   "version": "3.9.12"
  }
 },
 "nbformat": 4,
 "nbformat_minor": 5
}
