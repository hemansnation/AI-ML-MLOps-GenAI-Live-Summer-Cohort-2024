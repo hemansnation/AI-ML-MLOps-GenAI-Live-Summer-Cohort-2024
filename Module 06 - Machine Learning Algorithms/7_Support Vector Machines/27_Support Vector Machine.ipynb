{
 "cells": [
  {
   "cell_type": "markdown",
   "id": "ac2b7a93",
   "metadata": {},
   "source": [
    "# Support Vector Machine\n",
    "\n",
    "<img src='s1.png' />"
   ]
  },
  {
   "cell_type": "code",
   "execution_count": null,
   "id": "92e5ef55",
   "metadata": {},
   "outputs": [],
   "source": [
    "real world examples\n",
    "\n",
    "- image classification\n",
    "- OCR(Optical Character Recognition)\n",
    "- bioinformatics - gene classification, protine strucute prediction\n",
    "- speech recognition"
   ]
  },
  {
   "cell_type": "markdown",
   "id": "e9d44608",
   "metadata": {},
   "source": [
    "For Images and OCR - \n",
    "https://pyimagesearch.com/"
   ]
  },
  {
   "cell_type": "markdown",
   "id": "8404ff32",
   "metadata": {},
   "source": [
    "## When to use SVM"
   ]
  },
  {
   "cell_type": "code",
   "execution_count": null,
   "id": "ebc9672b",
   "metadata": {},
   "outputs": [],
   "source": [
    "- binary classification\n",
    "- small or medium size dataset\n",
    "- high dimensional data\n",
    "- linear or non-linear"
   ]
  },
  {
   "cell_type": "markdown",
   "id": "afb39721",
   "metadata": {},
   "source": [
    "## Hyperplane, Margin, Support Vector\n",
    "\n",
    "<img src='s2.png' />\n"
   ]
  },
  {
   "cell_type": "code",
   "execution_count": null,
   "id": "0d745943",
   "metadata": {},
   "outputs": [],
   "source": []
  },
  {
   "cell_type": "markdown",
   "id": "dda5fd6c",
   "metadata": {},
   "source": [
    "## Margin and Hyperplane to choose\n",
    "\n",
    "<img src='s3.png' />"
   ]
  },
  {
   "cell_type": "code",
   "execution_count": null,
   "id": "7c413cbb",
   "metadata": {},
   "outputs": [],
   "source": [
    "objective -> select a hyperplane with the maximum possible margin between support vectors\n",
    "\n",
    "2 steps ->\n",
    "\n",
    "1 - generate hyperplanes which segregate the classes in a best possible way.\n",
    "    the best hyperplane should represents the largest seperation or margin between the two classes.\n",
    "    \n",
    "2 - maximum margin hyperplane -> the linear classifier it defines is known as\n",
    "                                 maximum margin classifier.\n",
    "\n"
   ]
  },
  {
   "cell_type": "markdown",
   "id": "a40c1095",
   "metadata": {},
   "source": [
    "## Kernel Trick\n",
    "\n",
    "\n",
    "<img src='s4.png' />"
   ]
  },
  {
   "cell_type": "code",
   "execution_count": null,
   "id": "dcf15864",
   "metadata": {},
   "outputs": [],
   "source": [
    "kernel trick -> function that maps the data to a higher dimension\n",
    "\n",
    "4 types of kernels\n",
    "\n",
    "1 - Linear Kernel -> when you have linear seperable dataset\n",
    "\n",
    "2 - Polynomial Kernel -> when the decision boundary is a polynomial(curved plane or line)\n",
    "                        use this mostly in NLP\n",
    "\n",
    "3 - Radical Basis Function(rbf)/gaussian kernel -> when you have no prior knowledge of the data.\n",
    "                            non-linear data with complex decision boundaries\n",
    "\n",
    "4 - sigmoid kernel -> the data has sigmoidal decision boundary"
   ]
  },
  {
   "cell_type": "markdown",
   "id": "df9cf809",
   "metadata": {},
   "source": [
    "# Dataset Pulsar\n",
    "\n",
    "#### predicting a pulsar star"
   ]
  },
  {
   "cell_type": "code",
   "execution_count": 1,
   "id": "959e05bb",
   "metadata": {},
   "outputs": [],
   "source": [
    "import numpy as np\n",
    "import pandas as pd"
   ]
  },
  {
   "cell_type": "code",
   "execution_count": 2,
   "id": "7a835178",
   "metadata": {},
   "outputs": [
    {
     "data": {
      "text/html": [
       "<div>\n",
       "<style scoped>\n",
       "    .dataframe tbody tr th:only-of-type {\n",
       "        vertical-align: middle;\n",
       "    }\n",
       "\n",
       "    .dataframe tbody tr th {\n",
       "        vertical-align: top;\n",
       "    }\n",
       "\n",
       "    .dataframe thead th {\n",
       "        text-align: right;\n",
       "    }\n",
       "</style>\n",
       "<table border=\"1\" class=\"dataframe\">\n",
       "  <thead>\n",
       "    <tr style=\"text-align: right;\">\n",
       "      <th></th>\n",
       "      <th>Mean of the integrated profile</th>\n",
       "      <th>Standard deviation of the integrated profile</th>\n",
       "      <th>Excess kurtosis of the integrated profile</th>\n",
       "      <th>Skewness of the integrated profile</th>\n",
       "      <th>Mean of the DM-SNR curve</th>\n",
       "      <th>Standard deviation of the DM-SNR curve</th>\n",
       "      <th>Excess kurtosis of the DM-SNR curve</th>\n",
       "      <th>Skewness of the DM-SNR curve</th>\n",
       "      <th>target_class</th>\n",
       "    </tr>\n",
       "  </thead>\n",
       "  <tbody>\n",
       "    <tr>\n",
       "      <th>0</th>\n",
       "      <td>121.156250</td>\n",
       "      <td>48.372971</td>\n",
       "      <td>0.375485</td>\n",
       "      <td>-0.013165</td>\n",
       "      <td>3.168896</td>\n",
       "      <td>18.399367</td>\n",
       "      <td>7.449874</td>\n",
       "      <td>65.159298</td>\n",
       "      <td>0.0</td>\n",
       "    </tr>\n",
       "    <tr>\n",
       "      <th>1</th>\n",
       "      <td>76.968750</td>\n",
       "      <td>36.175557</td>\n",
       "      <td>0.712898</td>\n",
       "      <td>3.388719</td>\n",
       "      <td>2.399666</td>\n",
       "      <td>17.570997</td>\n",
       "      <td>9.414652</td>\n",
       "      <td>102.722975</td>\n",
       "      <td>0.0</td>\n",
       "    </tr>\n",
       "    <tr>\n",
       "      <th>2</th>\n",
       "      <td>130.585938</td>\n",
       "      <td>53.229534</td>\n",
       "      <td>0.133408</td>\n",
       "      <td>-0.297242</td>\n",
       "      <td>2.743311</td>\n",
       "      <td>22.362553</td>\n",
       "      <td>8.508364</td>\n",
       "      <td>74.031324</td>\n",
       "      <td>0.0</td>\n",
       "    </tr>\n",
       "    <tr>\n",
       "      <th>3</th>\n",
       "      <td>156.398438</td>\n",
       "      <td>48.865942</td>\n",
       "      <td>-0.215989</td>\n",
       "      <td>-0.171294</td>\n",
       "      <td>17.471572</td>\n",
       "      <td>NaN</td>\n",
       "      <td>2.958066</td>\n",
       "      <td>7.197842</td>\n",
       "      <td>0.0</td>\n",
       "    </tr>\n",
       "    <tr>\n",
       "      <th>4</th>\n",
       "      <td>84.804688</td>\n",
       "      <td>36.117659</td>\n",
       "      <td>0.825013</td>\n",
       "      <td>3.274125</td>\n",
       "      <td>2.790134</td>\n",
       "      <td>20.618009</td>\n",
       "      <td>8.405008</td>\n",
       "      <td>76.291128</td>\n",
       "      <td>0.0</td>\n",
       "    </tr>\n",
       "  </tbody>\n",
       "</table>\n",
       "</div>"
      ],
      "text/plain": [
       "    Mean of the integrated profile  \\\n",
       "0                       121.156250   \n",
       "1                        76.968750   \n",
       "2                       130.585938   \n",
       "3                       156.398438   \n",
       "4                        84.804688   \n",
       "\n",
       "    Standard deviation of the integrated profile  \\\n",
       "0                                      48.372971   \n",
       "1                                      36.175557   \n",
       "2                                      53.229534   \n",
       "3                                      48.865942   \n",
       "4                                      36.117659   \n",
       "\n",
       "    Excess kurtosis of the integrated profile  \\\n",
       "0                                    0.375485   \n",
       "1                                    0.712898   \n",
       "2                                    0.133408   \n",
       "3                                   -0.215989   \n",
       "4                                    0.825013   \n",
       "\n",
       "    Skewness of the integrated profile   Mean of the DM-SNR curve  \\\n",
       "0                            -0.013165                   3.168896   \n",
       "1                             3.388719                   2.399666   \n",
       "2                            -0.297242                   2.743311   \n",
       "3                            -0.171294                  17.471572   \n",
       "4                             3.274125                   2.790134   \n",
       "\n",
       "    Standard deviation of the DM-SNR curve  \\\n",
       "0                                18.399367   \n",
       "1                                17.570997   \n",
       "2                                22.362553   \n",
       "3                                      NaN   \n",
       "4                                20.618009   \n",
       "\n",
       "    Excess kurtosis of the DM-SNR curve   Skewness of the DM-SNR curve  \\\n",
       "0                              7.449874                      65.159298   \n",
       "1                              9.414652                     102.722975   \n",
       "2                              8.508364                      74.031324   \n",
       "3                              2.958066                       7.197842   \n",
       "4                              8.405008                      76.291128   \n",
       "\n",
       "   target_class  \n",
       "0           0.0  \n",
       "1           0.0  \n",
       "2           0.0  \n",
       "3           0.0  \n",
       "4           0.0  "
      ]
     },
     "execution_count": 2,
     "metadata": {},
     "output_type": "execute_result"
    }
   ],
   "source": [
    "df = pd.read_csv('pulsar_data_train.csv')\n",
    "\n",
    "df.head()"
   ]
  },
  {
   "cell_type": "code",
   "execution_count": 3,
   "id": "810781a8",
   "metadata": {},
   "outputs": [
    {
     "data": {
      "text/plain": [
       "(12528, 9)"
      ]
     },
     "execution_count": 3,
     "metadata": {},
     "output_type": "execute_result"
    }
   ],
   "source": [
    "df.shape"
   ]
  },
  {
   "cell_type": "code",
   "execution_count": 4,
   "id": "79e6f7b8",
   "metadata": {},
   "outputs": [
    {
     "data": {
      "text/plain": [
       "Index([' Mean of the integrated profile',\n",
       "       ' Standard deviation of the integrated profile',\n",
       "       ' Excess kurtosis of the integrated profile',\n",
       "       ' Skewness of the integrated profile', ' Mean of the DM-SNR curve',\n",
       "       ' Standard deviation of the DM-SNR curve',\n",
       "       ' Excess kurtosis of the DM-SNR curve', ' Skewness of the DM-SNR curve',\n",
       "       'target_class'],\n",
       "      dtype='object')"
      ]
     },
     "execution_count": 4,
     "metadata": {},
     "output_type": "execute_result"
    }
   ],
   "source": [
    "col_names = df.columns\n",
    "\n",
    "col_names"
   ]
  },
  {
   "cell_type": "code",
   "execution_count": 5,
   "id": "634deceb",
   "metadata": {},
   "outputs": [
    {
     "data": {
      "text/plain": [
       "Index(['Mean of the integrated profile',\n",
       "       'Standard deviation of the integrated profile',\n",
       "       'Excess kurtosis of the integrated profile',\n",
       "       'Skewness of the integrated profile', 'Mean of the DM-SNR curve',\n",
       "       'Standard deviation of the DM-SNR curve',\n",
       "       'Excess kurtosis of the DM-SNR curve', 'Skewness of the DM-SNR curve',\n",
       "       'target_class'],\n",
       "      dtype='object')"
      ]
     },
     "execution_count": 5,
     "metadata": {},
     "output_type": "execute_result"
    }
   ],
   "source": [
    "df.columns = df.columns.str.strip()\n",
    "df.columns"
   ]
  },
  {
   "cell_type": "code",
   "execution_count": 6,
   "id": "bbab62ba",
   "metadata": {},
   "outputs": [
    {
     "data": {
      "text/plain": [
       "Index(['IP Mean', 'IP Sd', 'IP Kurtosis', 'IP Skewness', 'DM-SNR Mean',\n",
       "       'DM-SNR Sd', 'DM-SNR Kurtosis', 'DM-SNR Skewness', 'target_class'],\n",
       "      dtype='object')"
      ]
     },
     "execution_count": 6,
     "metadata": {},
     "output_type": "execute_result"
    }
   ],
   "source": [
    "df.columns = ['IP Mean', 'IP Sd', 'IP Kurtosis', 'IP Skewness', 'DM-SNR Mean', 'DM-SNR Sd',\n",
    "             'DM-SNR Kurtosis', 'DM-SNR Skewness', 'target_class']\n",
    "\n",
    "df.columns"
   ]
  },
  {
   "cell_type": "code",
   "execution_count": 7,
   "id": "b17c0153",
   "metadata": {},
   "outputs": [
    {
     "data": {
      "text/plain": [
       "0.0    11375\n",
       "1.0     1153\n",
       "Name: target_class, dtype: int64"
      ]
     },
     "execution_count": 7,
     "metadata": {},
     "output_type": "execute_result"
    }
   ],
   "source": [
    "df.target_class.value_counts()  # class imbalanced"
   ]
  },
  {
   "cell_type": "code",
   "execution_count": 8,
   "id": "691f9e3b",
   "metadata": {},
   "outputs": [
    {
     "name": "stdout",
     "output_type": "stream",
     "text": [
      "<class 'pandas.core.frame.DataFrame'>\n",
      "RangeIndex: 12528 entries, 0 to 12527\n",
      "Data columns (total 9 columns):\n",
      " #   Column           Non-Null Count  Dtype  \n",
      "---  ------           --------------  -----  \n",
      " 0   IP Mean          12528 non-null  float64\n",
      " 1   IP Sd            12528 non-null  float64\n",
      " 2   IP Kurtosis      10793 non-null  float64\n",
      " 3   IP Skewness      12528 non-null  float64\n",
      " 4   DM-SNR Mean      12528 non-null  float64\n",
      " 5   DM-SNR Sd        11350 non-null  float64\n",
      " 6   DM-SNR Kurtosis  12528 non-null  float64\n",
      " 7   DM-SNR Skewness  11903 non-null  float64\n",
      " 8   target_class     12528 non-null  float64\n",
      "dtypes: float64(9)\n",
      "memory usage: 881.0 KB\n"
     ]
    }
   ],
   "source": [
    "df.info()"
   ]
  },
  {
   "cell_type": "code",
   "execution_count": 9,
   "id": "83964954",
   "metadata": {},
   "outputs": [
    {
     "name": "stdout",
     "output_type": "stream",
     "text": [
      "<class 'pandas.core.frame.DataFrame'>\n",
      "Int64Index: 9273 entries, 0 to 12527\n",
      "Data columns (total 9 columns):\n",
      " #   Column           Non-Null Count  Dtype  \n",
      "---  ------           --------------  -----  \n",
      " 0   IP Mean          9273 non-null   float64\n",
      " 1   IP Sd            9273 non-null   float64\n",
      " 2   IP Kurtosis      9273 non-null   float64\n",
      " 3   IP Skewness      9273 non-null   float64\n",
      " 4   DM-SNR Mean      9273 non-null   float64\n",
      " 5   DM-SNR Sd        9273 non-null   float64\n",
      " 6   DM-SNR Kurtosis  9273 non-null   float64\n",
      " 7   DM-SNR Skewness  9273 non-null   float64\n",
      " 8   target_class     9273 non-null   float64\n",
      "dtypes: float64(9)\n",
      "memory usage: 724.5 KB\n"
     ]
    }
   ],
   "source": [
    "df.dropna(inplace=True)\n",
    "\n",
    "df.info()"
   ]
  },
  {
   "cell_type": "code",
   "execution_count": 10,
   "id": "b0e988c5",
   "metadata": {},
   "outputs": [
    {
     "data": {
      "text/plain": [
       "0.0    8423\n",
       "1.0     850\n",
       "Name: target_class, dtype: int64"
      ]
     },
     "execution_count": 10,
     "metadata": {},
     "output_type": "execute_result"
    }
   ],
   "source": [
    "df.target_class.value_counts()"
   ]
  },
  {
   "cell_type": "code",
   "execution_count": 11,
   "id": "5e9fdc5d",
   "metadata": {},
   "outputs": [
    {
     "data": {
      "text/plain": [
       "IP Mean            0\n",
       "IP Sd              0\n",
       "IP Kurtosis        0\n",
       "IP Skewness        0\n",
       "DM-SNR Mean        0\n",
       "DM-SNR Sd          0\n",
       "DM-SNR Kurtosis    0\n",
       "DM-SNR Skewness    0\n",
       "target_class       0\n",
       "dtype: int64"
      ]
     },
     "execution_count": 11,
     "metadata": {},
     "output_type": "execute_result"
    }
   ],
   "source": [
    "df.isnull().sum()"
   ]
  },
  {
   "cell_type": "code",
   "execution_count": 13,
   "id": "d490eeb0",
   "metadata": {},
   "outputs": [
    {
     "data": {
      "text/html": [
       "<div>\n",
       "<style scoped>\n",
       "    .dataframe tbody tr th:only-of-type {\n",
       "        vertical-align: middle;\n",
       "    }\n",
       "\n",
       "    .dataframe tbody tr th {\n",
       "        vertical-align: top;\n",
       "    }\n",
       "\n",
       "    .dataframe thead th {\n",
       "        text-align: right;\n",
       "    }\n",
       "</style>\n",
       "<table border=\"1\" class=\"dataframe\">\n",
       "  <thead>\n",
       "    <tr style=\"text-align: right;\">\n",
       "      <th></th>\n",
       "      <th>IP Mean</th>\n",
       "      <th>IP Sd</th>\n",
       "      <th>IP Kurtosis</th>\n",
       "      <th>IP Skewness</th>\n",
       "      <th>DM-SNR Mean</th>\n",
       "      <th>DM-SNR Sd</th>\n",
       "      <th>DM-SNR Kurtosis</th>\n",
       "      <th>DM-SNR Skewness</th>\n",
       "      <th>target_class</th>\n",
       "    </tr>\n",
       "  </thead>\n",
       "  <tbody>\n",
       "    <tr>\n",
       "      <th>count</th>\n",
       "      <td>9273.00</td>\n",
       "      <td>9273.00</td>\n",
       "      <td>9273.00</td>\n",
       "      <td>9273.00</td>\n",
       "      <td>9273.00</td>\n",
       "      <td>9273.00</td>\n",
       "      <td>9273.00</td>\n",
       "      <td>9273.00</td>\n",
       "      <td>9273.00</td>\n",
       "    </tr>\n",
       "    <tr>\n",
       "      <th>mean</th>\n",
       "      <td>111.13</td>\n",
       "      <td>46.51</td>\n",
       "      <td>0.48</td>\n",
       "      <td>1.79</td>\n",
       "      <td>12.74</td>\n",
       "      <td>26.33</td>\n",
       "      <td>8.33</td>\n",
       "      <td>105.78</td>\n",
       "      <td>0.09</td>\n",
       "    </tr>\n",
       "    <tr>\n",
       "      <th>std</th>\n",
       "      <td>25.69</td>\n",
       "      <td>6.78</td>\n",
       "      <td>1.07</td>\n",
       "      <td>6.29</td>\n",
       "      <td>29.77</td>\n",
       "      <td>19.54</td>\n",
       "      <td>4.55</td>\n",
       "      <td>108.17</td>\n",
       "      <td>0.29</td>\n",
       "    </tr>\n",
       "    <tr>\n",
       "      <th>min</th>\n",
       "      <td>6.19</td>\n",
       "      <td>24.77</td>\n",
       "      <td>-1.74</td>\n",
       "      <td>-1.79</td>\n",
       "      <td>0.21</td>\n",
       "      <td>7.37</td>\n",
       "      <td>-2.64</td>\n",
       "      <td>-1.98</td>\n",
       "      <td>0.00</td>\n",
       "    </tr>\n",
       "    <tr>\n",
       "      <th>25%</th>\n",
       "      <td>100.98</td>\n",
       "      <td>42.40</td>\n",
       "      <td>0.02</td>\n",
       "      <td>-0.19</td>\n",
       "      <td>1.91</td>\n",
       "      <td>14.38</td>\n",
       "      <td>5.79</td>\n",
       "      <td>34.92</td>\n",
       "      <td>0.00</td>\n",
       "    </tr>\n",
       "    <tr>\n",
       "      <th>50%</th>\n",
       "      <td>115.23</td>\n",
       "      <td>46.90</td>\n",
       "      <td>0.22</td>\n",
       "      <td>0.20</td>\n",
       "      <td>2.80</td>\n",
       "      <td>18.44</td>\n",
       "      <td>8.43</td>\n",
       "      <td>83.15</td>\n",
       "      <td>0.00</td>\n",
       "    </tr>\n",
       "    <tr>\n",
       "      <th>75%</th>\n",
       "      <td>127.33</td>\n",
       "      <td>51.00</td>\n",
       "      <td>0.47</td>\n",
       "      <td>0.93</td>\n",
       "      <td>5.46</td>\n",
       "      <td>28.39</td>\n",
       "      <td>10.72</td>\n",
       "      <td>139.77</td>\n",
       "      <td>0.00</td>\n",
       "    </tr>\n",
       "    <tr>\n",
       "      <th>max</th>\n",
       "      <td>189.73</td>\n",
       "      <td>91.81</td>\n",
       "      <td>8.07</td>\n",
       "      <td>68.10</td>\n",
       "      <td>211.95</td>\n",
       "      <td>110.64</td>\n",
       "      <td>34.54</td>\n",
       "      <td>1191.00</td>\n",
       "      <td>1.00</td>\n",
       "    </tr>\n",
       "  </tbody>\n",
       "</table>\n",
       "</div>"
      ],
      "text/plain": [
       "       IP Mean    IP Sd  IP Kurtosis  IP Skewness  DM-SNR Mean  DM-SNR Sd  \\\n",
       "count  9273.00  9273.00      9273.00      9273.00      9273.00    9273.00   \n",
       "mean    111.13    46.51         0.48         1.79        12.74      26.33   \n",
       "std      25.69     6.78         1.07         6.29        29.77      19.54   \n",
       "min       6.19    24.77        -1.74        -1.79         0.21       7.37   \n",
       "25%     100.98    42.40         0.02        -0.19         1.91      14.38   \n",
       "50%     115.23    46.90         0.22         0.20         2.80      18.44   \n",
       "75%     127.33    51.00         0.47         0.93         5.46      28.39   \n",
       "max     189.73    91.81         8.07        68.10       211.95     110.64   \n",
       "\n",
       "       DM-SNR Kurtosis  DM-SNR Skewness  target_class  \n",
       "count          9273.00          9273.00       9273.00  \n",
       "mean              8.33           105.78          0.09  \n",
       "std               4.55           108.17          0.29  \n",
       "min              -2.64            -1.98          0.00  \n",
       "25%               5.79            34.92          0.00  \n",
       "50%               8.43            83.15          0.00  \n",
       "75%              10.72           139.77          0.00  \n",
       "max              34.54          1191.00          1.00  "
      ]
     },
     "execution_count": 13,
     "metadata": {},
     "output_type": "execute_result"
    }
   ],
   "source": [
    "round(df.describe(), 2)"
   ]
  },
  {
   "cell_type": "code",
   "execution_count": null,
   "id": "a22c5e99",
   "metadata": {},
   "outputs": [],
   "source": [
    "# how to handle outliers with SVM\n",
    "\n",
    "2 variants\n",
    "\n",
    "1 - hard margin -> does not deal with outliers\n",
    "\n",
    "2 - soft margin -> good with outliers\n",
    "        - for every data point that is classified with less margin will \n",
    "            add a penalty in the form of C parameter\n",
    "\n",
    "low C -> allowing more outliers\n",
    "\n",
    "high C -> allowing less outliers"
   ]
  },
  {
   "cell_type": "code",
   "execution_count": 14,
   "id": "00960bec",
   "metadata": {},
   "outputs": [],
   "source": [
    "x = df.drop(['target_class'], axis=1)\n",
    "\n",
    "y = df['target_class']"
   ]
  },
  {
   "cell_type": "code",
   "execution_count": 15,
   "id": "f3e139d6",
   "metadata": {},
   "outputs": [],
   "source": [
    "from sklearn.model_selection import train_test_split\n",
    "\n",
    "xtrain, xtest, ytrain, ytest = train_test_split(x,y, test_size=0.2, random_state=101)"
   ]
  },
  {
   "cell_type": "markdown",
   "id": "b4b70198",
   "metadata": {},
   "source": [
    "### feature scaling"
   ]
  },
  {
   "cell_type": "code",
   "execution_count": 16,
   "id": "5e21351d",
   "metadata": {},
   "outputs": [],
   "source": [
    "cols = xtrain.columns"
   ]
  },
  {
   "cell_type": "code",
   "execution_count": 18,
   "id": "b4ace14d",
   "metadata": {},
   "outputs": [
    {
     "data": {
      "text/plain": [
       "Index(['IP Mean', 'IP Sd', 'IP Kurtosis', 'IP Skewness', 'DM-SNR Mean',\n",
       "       'DM-SNR Sd', 'DM-SNR Kurtosis', 'DM-SNR Skewness'],\n",
       "      dtype='object')"
      ]
     },
     "execution_count": 18,
     "metadata": {},
     "output_type": "execute_result"
    }
   ],
   "source": [
    "cols"
   ]
  },
  {
   "cell_type": "code",
   "execution_count": 17,
   "id": "f6bfe0b4",
   "metadata": {},
   "outputs": [],
   "source": [
    "from sklearn.preprocessing import StandardScaler\n",
    "\n",
    "scaler = StandardScaler()\n",
    "\n",
    "xtrain = scaler.fit_transform(xtrain)\n",
    "\n",
    "xtest = scaler.transform(xtest)"
   ]
  },
  {
   "cell_type": "code",
   "execution_count": 19,
   "id": "06a9e6fd",
   "metadata": {},
   "outputs": [],
   "source": [
    "xtrain = pd.DataFrame(xtrain, columns=[cols])\n",
    "xtest = pd.DataFrame(xtest, columns=[cols])"
   ]
  },
  {
   "cell_type": "code",
   "execution_count": 20,
   "id": "57126c7d",
   "metadata": {},
   "outputs": [
    {
     "data": {
      "text/html": [
       "<div>\n",
       "<style scoped>\n",
       "    .dataframe tbody tr th:only-of-type {\n",
       "        vertical-align: middle;\n",
       "    }\n",
       "\n",
       "    .dataframe tbody tr th {\n",
       "        vertical-align: top;\n",
       "    }\n",
       "\n",
       "    .dataframe thead tr th {\n",
       "        text-align: left;\n",
       "    }\n",
       "</style>\n",
       "<table border=\"1\" class=\"dataframe\">\n",
       "  <thead>\n",
       "    <tr>\n",
       "      <th></th>\n",
       "      <th>IP Mean</th>\n",
       "      <th>IP Sd</th>\n",
       "      <th>IP Kurtosis</th>\n",
       "      <th>IP Skewness</th>\n",
       "      <th>DM-SNR Mean</th>\n",
       "      <th>DM-SNR Sd</th>\n",
       "      <th>DM-SNR Kurtosis</th>\n",
       "      <th>DM-SNR Skewness</th>\n",
       "    </tr>\n",
       "  </thead>\n",
       "  <tbody>\n",
       "    <tr>\n",
       "      <th>count</th>\n",
       "      <td>7.418000e+03</td>\n",
       "      <td>7.418000e+03</td>\n",
       "      <td>7.418000e+03</td>\n",
       "      <td>7.418000e+03</td>\n",
       "      <td>7.418000e+03</td>\n",
       "      <td>7.418000e+03</td>\n",
       "      <td>7.418000e+03</td>\n",
       "      <td>7.418000e+03</td>\n",
       "    </tr>\n",
       "    <tr>\n",
       "      <th>mean</th>\n",
       "      <td>2.233018e-17</td>\n",
       "      <td>-3.011581e-16</td>\n",
       "      <td>3.591986e-19</td>\n",
       "      <td>1.362710e-17</td>\n",
       "      <td>1.102291e-17</td>\n",
       "      <td>-5.772621e-17</td>\n",
       "      <td>1.600305e-16</td>\n",
       "      <td>-5.441111e-17</td>\n",
       "    </tr>\n",
       "    <tr>\n",
       "      <th>std</th>\n",
       "      <td>1.000067e+00</td>\n",
       "      <td>1.000067e+00</td>\n",
       "      <td>1.000067e+00</td>\n",
       "      <td>1.000067e+00</td>\n",
       "      <td>1.000067e+00</td>\n",
       "      <td>1.000067e+00</td>\n",
       "      <td>1.000067e+00</td>\n",
       "      <td>1.000067e+00</td>\n",
       "    </tr>\n",
       "    <tr>\n",
       "      <th>min</th>\n",
       "      <td>-4.071793e+00</td>\n",
       "      <td>-3.200599e+00</td>\n",
       "      <td>-2.060400e+00</td>\n",
       "      <td>-5.652381e-01</td>\n",
       "      <td>-4.198631e-01</td>\n",
       "      <td>-9.729856e-01</td>\n",
       "      <td>-2.377690e+00</td>\n",
       "      <td>-9.903806e-01</td>\n",
       "    </tr>\n",
       "    <tr>\n",
       "      <th>25%</th>\n",
       "      <td>-3.987415e-01</td>\n",
       "      <td>-6.028331e-01</td>\n",
       "      <td>-4.222028e-01</td>\n",
       "      <td>-3.144755e-01</td>\n",
       "      <td>-3.630773e-01</td>\n",
       "      <td>-6.149471e-01</td>\n",
       "      <td>-5.575565e-01</td>\n",
       "      <td>-6.525814e-01</td>\n",
       "    </tr>\n",
       "    <tr>\n",
       "      <th>50%</th>\n",
       "      <td>1.601401e-01</td>\n",
       "      <td>5.847557e-02</td>\n",
       "      <td>-2.397311e-01</td>\n",
       "      <td>-2.517490e-01</td>\n",
       "      <td>-3.337741e-01</td>\n",
       "      <td>-4.020840e-01</td>\n",
       "      <td>2.183587e-02</td>\n",
       "      <td>-2.096842e-01</td>\n",
       "    </tr>\n",
       "    <tr>\n",
       "      <th>75%</th>\n",
       "      <td>6.320070e-01</td>\n",
       "      <td>6.617423e-01</td>\n",
       "      <td>-6.742316e-03</td>\n",
       "      <td>-1.373019e-01</td>\n",
       "      <td>-2.447974e-01</td>\n",
       "      <td>1.083867e-01</td>\n",
       "      <td>5.220626e-01</td>\n",
       "      <td>3.083765e-01</td>\n",
       "    </tr>\n",
       "    <tr>\n",
       "      <th>max</th>\n",
       "      <td>3.057494e+00</td>\n",
       "      <td>6.684538e+00</td>\n",
       "      <td>7.039803e+00</td>\n",
       "      <td>1.043051e+01</td>\n",
       "      <td>6.557319e+00</td>\n",
       "      <td>4.337836e+00</td>\n",
       "      <td>5.742929e+00</td>\n",
       "      <td>9.953967e+00</td>\n",
       "    </tr>\n",
       "  </tbody>\n",
       "</table>\n",
       "</div>"
      ],
      "text/plain": [
       "            IP Mean         IP Sd   IP Kurtosis   IP Skewness   DM-SNR Mean  \\\n",
       "count  7.418000e+03  7.418000e+03  7.418000e+03  7.418000e+03  7.418000e+03   \n",
       "mean   2.233018e-17 -3.011581e-16  3.591986e-19  1.362710e-17  1.102291e-17   \n",
       "std    1.000067e+00  1.000067e+00  1.000067e+00  1.000067e+00  1.000067e+00   \n",
       "min   -4.071793e+00 -3.200599e+00 -2.060400e+00 -5.652381e-01 -4.198631e-01   \n",
       "25%   -3.987415e-01 -6.028331e-01 -4.222028e-01 -3.144755e-01 -3.630773e-01   \n",
       "50%    1.601401e-01  5.847557e-02 -2.397311e-01 -2.517490e-01 -3.337741e-01   \n",
       "75%    6.320070e-01  6.617423e-01 -6.742316e-03 -1.373019e-01 -2.447974e-01   \n",
       "max    3.057494e+00  6.684538e+00  7.039803e+00  1.043051e+01  6.557319e+00   \n",
       "\n",
       "          DM-SNR Sd DM-SNR Kurtosis DM-SNR Skewness  \n",
       "count  7.418000e+03    7.418000e+03    7.418000e+03  \n",
       "mean  -5.772621e-17    1.600305e-16   -5.441111e-17  \n",
       "std    1.000067e+00    1.000067e+00    1.000067e+00  \n",
       "min   -9.729856e-01   -2.377690e+00   -9.903806e-01  \n",
       "25%   -6.149471e-01   -5.575565e-01   -6.525814e-01  \n",
       "50%   -4.020840e-01    2.183587e-02   -2.096842e-01  \n",
       "75%    1.083867e-01    5.220626e-01    3.083765e-01  \n",
       "max    4.337836e+00    5.742929e+00    9.953967e+00  "
      ]
     },
     "execution_count": 20,
     "metadata": {},
     "output_type": "execute_result"
    }
   ],
   "source": [
    "xtrain.describe()"
   ]
  },
  {
   "cell_type": "markdown",
   "id": "c62d5a10",
   "metadata": {},
   "source": [
    "# SVC classifier"
   ]
  },
  {
   "cell_type": "code",
   "execution_count": 21,
   "id": "3de5daba",
   "metadata": {},
   "outputs": [],
   "source": [
    "from sklearn.svm import SVC\n",
    "\n",
    "from sklearn.metrics import accuracy_score"
   ]
  },
  {
   "cell_type": "code",
   "execution_count": 22,
   "id": "ba9a22e7",
   "metadata": {},
   "outputs": [
    {
     "name": "stderr",
     "output_type": "stream",
     "text": [
      "C:\\Users\\himan\\anaconda3\\lib\\site-packages\\sklearn\\utils\\validation.py:1688: FutureWarning: Feature names only support names that are all strings. Got feature names with dtypes: ['tuple']. An error will be raised in 1.2.\n",
      "  warnings.warn(\n",
      "C:\\Users\\himan\\anaconda3\\lib\\site-packages\\sklearn\\utils\\validation.py:1688: FutureWarning: Feature names only support names that are all strings. Got feature names with dtypes: ['tuple']. An error will be raised in 1.2.\n",
      "  warnings.warn(\n"
     ]
    }
   ],
   "source": [
    "svc = SVC()\n",
    "\n",
    "svc.fit(xtrain, ytrain)\n",
    "\n",
    "ypred = svc.predict(xtest)"
   ]
  },
  {
   "cell_type": "code",
   "execution_count": 23,
   "id": "727d3f23",
   "metadata": {},
   "outputs": [
    {
     "data": {
      "text/plain": [
       "0.9719676549865229"
      ]
     },
     "execution_count": 23,
     "metadata": {},
     "output_type": "execute_result"
    }
   ],
   "source": [
    "accuracy_score(ytest, ypred)"
   ]
  },
  {
   "cell_type": "code",
   "execution_count": 24,
   "id": "9e9243cf",
   "metadata": {},
   "outputs": [
    {
     "name": "stderr",
     "output_type": "stream",
     "text": [
      "C:\\Users\\himan\\anaconda3\\lib\\site-packages\\sklearn\\utils\\validation.py:1688: FutureWarning: Feature names only support names that are all strings. Got feature names with dtypes: ['tuple']. An error will be raised in 1.2.\n",
      "  warnings.warn(\n"
     ]
    },
    {
     "name": "stdout",
     "output_type": "stream",
     "text": [
      "0.9725067385444744\n"
     ]
    },
    {
     "name": "stderr",
     "output_type": "stream",
     "text": [
      "C:\\Users\\himan\\anaconda3\\lib\\site-packages\\sklearn\\utils\\validation.py:1688: FutureWarning: Feature names only support names that are all strings. Got feature names with dtypes: ['tuple']. An error will be raised in 1.2.\n",
      "  warnings.warn(\n"
     ]
    }
   ],
   "source": [
    "# c = 100 and kernel = rbf\n",
    "\n",
    "svc = SVC(C=100.0)\n",
    "\n",
    "svc.fit(xtrain, ytrain)\n",
    "\n",
    "ypred = svc.predict(xtest)\n",
    "\n",
    "print(accuracy_score(ytest, ypred))"
   ]
  },
  {
   "cell_type": "code",
   "execution_count": 25,
   "id": "6d523dca",
   "metadata": {},
   "outputs": [
    {
     "name": "stderr",
     "output_type": "stream",
     "text": [
      "C:\\Users\\himan\\anaconda3\\lib\\site-packages\\sklearn\\utils\\validation.py:1688: FutureWarning: Feature names only support names that are all strings. Got feature names with dtypes: ['tuple']. An error will be raised in 1.2.\n",
      "  warnings.warn(\n"
     ]
    },
    {
     "name": "stdout",
     "output_type": "stream",
     "text": [
      "0.9735849056603774\n"
     ]
    },
    {
     "name": "stderr",
     "output_type": "stream",
     "text": [
      "C:\\Users\\himan\\anaconda3\\lib\\site-packages\\sklearn\\utils\\validation.py:1688: FutureWarning: Feature names only support names that are all strings. Got feature names with dtypes: ['tuple']. An error will be raised in 1.2.\n",
      "  warnings.warn(\n"
     ]
    }
   ],
   "source": [
    "# c = 1000 and kernel = rbf\n",
    "\n",
    "svc = SVC(C=1000.0)\n",
    "\n",
    "svc.fit(xtrain, ytrain)\n",
    "\n",
    "ypred = svc.predict(xtest)\n",
    "\n",
    "print(accuracy_score(ytest, ypred))"
   ]
  },
  {
   "cell_type": "code",
   "execution_count": 26,
   "id": "5dbfc771",
   "metadata": {},
   "outputs": [
    {
     "name": "stdout",
     "output_type": "stream",
     "text": [
      "0.9730458221024259\n"
     ]
    },
    {
     "name": "stderr",
     "output_type": "stream",
     "text": [
      "C:\\Users\\himan\\anaconda3\\lib\\site-packages\\sklearn\\utils\\validation.py:1688: FutureWarning: Feature names only support names that are all strings. Got feature names with dtypes: ['tuple']. An error will be raised in 1.2.\n",
      "  warnings.warn(\n",
      "C:\\Users\\himan\\anaconda3\\lib\\site-packages\\sklearn\\utils\\validation.py:1688: FutureWarning: Feature names only support names that are all strings. Got feature names with dtypes: ['tuple']. An error will be raised in 1.2.\n",
      "  warnings.warn(\n"
     ]
    }
   ],
   "source": [
    "# c = 1 and kernel = linear\n",
    "\n",
    "linear_svc = SVC(C=1, kernel='linear')\n",
    "\n",
    "linear_svc.fit(xtrain, ytrain)\n",
    "\n",
    "ypred = linear_svc.predict(xtest)\n",
    "\n",
    "print(accuracy_score(ytest, ypred))"
   ]
  },
  {
   "cell_type": "markdown",
   "id": "a5320f4a",
   "metadata": {},
   "source": [
    "# Assignment\n",
    "\n",
    "- polynomial kernel\n",
    "- sigmoid kernel\n",
    "\n",
    "compare the train and test results\n",
    "\n",
    "https://scikit-learn.org/stable/modules/generated/sklearn.svm.SVC.html"
   ]
  },
  {
   "cell_type": "code",
   "execution_count": null,
   "id": "191253b9",
   "metadata": {},
   "outputs": [],
   "source": []
  }
 ],
 "metadata": {
  "kernelspec": {
   "display_name": "Python 3 (ipykernel)",
   "language": "python",
   "name": "python3"
  },
  "language_info": {
   "codemirror_mode": {
    "name": "ipython",
    "version": 3
   },
   "file_extension": ".py",
   "mimetype": "text/x-python",
   "name": "python",
   "nbconvert_exporter": "python",
   "pygments_lexer": "ipython3",
   "version": "3.9.12"
  }
 },
 "nbformat": 4,
 "nbformat_minor": 5
}
