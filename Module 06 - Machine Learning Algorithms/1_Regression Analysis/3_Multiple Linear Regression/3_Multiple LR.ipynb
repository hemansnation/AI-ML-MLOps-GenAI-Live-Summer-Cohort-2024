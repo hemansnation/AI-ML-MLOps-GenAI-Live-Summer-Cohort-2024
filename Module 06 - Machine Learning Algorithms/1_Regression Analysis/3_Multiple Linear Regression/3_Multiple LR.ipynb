{
 "cells": [
  {
   "cell_type": "markdown",
   "id": "d9ad16f6",
   "metadata": {},
   "source": [
    "# Multiple Linear Regression\n",
    "\n",
    "<img src='q.png' />\n",
    "\n",
    "\n",
    "<img src='w.png' />\n",
    "\n",
    "\n",
    "\n",
    "<img src='e.png' />"
   ]
  },
  {
   "cell_type": "code",
   "execution_count": null,
   "id": "f50d55b7",
   "metadata": {},
   "outputs": [],
   "source": []
  },
  {
   "cell_type": "code",
   "execution_count": null,
   "id": "dbf2f129",
   "metadata": {},
   "outputs": [],
   "source": []
  },
  {
   "cell_type": "code",
   "execution_count": null,
   "id": "29491f8e",
   "metadata": {},
   "outputs": [],
   "source": []
  },
  {
   "cell_type": "markdown",
   "id": "d2eb5779",
   "metadata": {},
   "source": [
    "# multicollinearity\n",
    "\n",
    "<img src='ee.png' />\n",
    "\n",
    "\n",
    "# VIF (Variance Inflation Factor)\n",
    "\n",
    "<img src='rr.png' />"
   ]
  },
  {
   "cell_type": "code",
   "execution_count": null,
   "id": "5dbd7a17",
   "metadata": {},
   "outputs": [],
   "source": []
  },
  {
   "cell_type": "code",
   "execution_count": null,
   "id": "14bbb68f",
   "metadata": {},
   "outputs": [],
   "source": []
  }
 ],
 "metadata": {
  "kernelspec": {
   "display_name": "Python 3 (ipykernel)",
   "language": "python",
   "name": "python3"
  },
  "language_info": {
   "codemirror_mode": {
    "name": "ipython",
    "version": 3
   },
   "file_extension": ".py",
   "mimetype": "text/x-python",
   "name": "python",
   "nbconvert_exporter": "python",
   "pygments_lexer": "ipython3",
   "version": "3.9.12"
  }
 },
 "nbformat": 4,
 "nbformat_minor": 5
}
