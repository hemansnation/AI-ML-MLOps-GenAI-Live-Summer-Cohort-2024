{
 "cells": [
  {
   "cell_type": "markdown",
   "id": "86ececfc",
   "metadata": {},
   "source": [
    "# Machine Learning\n"
   ]
  },
  {
   "cell_type": "code",
   "execution_count": null,
   "id": "da5dddc0",
   "metadata": {},
   "outputs": [],
   "source": [
    "\n",
    "Supervised                             Unsupervised                          Reinforcement\n",
    "                                       \n",
    "Regression                             - clusturing                             reward and experience\n",
    "- Linear Regression                    - dimension reduction                - markov decision process \n",
    "                                       - anomaly detection\n",
    "Classification\n",
    "- Logistic Regression"
   ]
  },
  {
   "cell_type": "markdown",
   "id": "00aa9e65",
   "metadata": {},
   "source": [
    "# Linear Regression with one variable"
   ]
  },
  {
   "cell_type": "code",
   "execution_count": null,
   "id": "21d43b0a",
   "metadata": {},
   "outputs": [],
   "source": []
  },
  {
   "cell_type": "code",
   "execution_count": null,
   "id": "7e256fcc",
   "metadata": {},
   "outputs": [],
   "source": []
  },
  {
   "cell_type": "code",
   "execution_count": null,
   "id": "c8b3b250",
   "metadata": {},
   "outputs": [],
   "source": [
    "  X          Y\n",
    "area       price\n",
    "2500       800000\n",
    "3000       950000\n",
    "3200       1000000\n",
    "3600       1200000\n",
    "4000       1500000\n"
   ]
  },
  {
   "cell_type": "code",
   "execution_count": null,
   "id": "8779a2a5",
   "metadata": {},
   "outputs": [],
   "source": []
  }
 ],
 "metadata": {
  "kernelspec": {
   "display_name": "Python 3 (ipykernel)",
   "language": "python",
   "name": "python3"
  },
  "language_info": {
   "codemirror_mode": {
    "name": "ipython",
    "version": 3
   },
   "file_extension": ".py",
   "mimetype": "text/x-python",
   "name": "python",
   "nbconvert_exporter": "python",
   "pygments_lexer": "ipython3",
   "version": "3.9.12"
  }
 },
 "nbformat": 4,
 "nbformat_minor": 5
}
