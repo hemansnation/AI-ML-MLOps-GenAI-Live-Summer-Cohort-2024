{
 "cells": [
  {
   "cell_type": "markdown",
   "id": "d770bc1e",
   "metadata": {},
   "source": [
    "# Regression Model\n",
    "\n",
    "<img src='q.png' />\n",
    "\n",
    "\n",
    "n observation\n",
    "\n",
    "\n",
    "<img src='w.png' />\n",
    "\n",
    "\n",
    "calculate error\n",
    "\n",
    "<img src='e.png' />"
   ]
  },
  {
   "cell_type": "code",
   "execution_count": null,
   "id": "53c90390",
   "metadata": {},
   "outputs": [],
   "source": []
  },
  {
   "cell_type": "code",
   "execution_count": null,
   "id": "4a19a834",
   "metadata": {},
   "outputs": [],
   "source": []
  },
  {
   "cell_type": "code",
   "execution_count": null,
   "id": "7987a2ee",
   "metadata": {},
   "outputs": [],
   "source": []
  },
  {
   "cell_type": "markdown",
   "id": "06d4dbb5",
   "metadata": {},
   "source": [
    "sum of squared errors (SSE)\n",
    "\n",
    "<img src='r.png' />\n",
    "\n",
    "calculate b1 and b0\n",
    "\n",
    "<img src='t.png' />"
   ]
  },
  {
   "cell_type": "code",
   "execution_count": null,
   "id": "11710ebd",
   "metadata": {},
   "outputs": [],
   "source": []
  },
  {
   "cell_type": "code",
   "execution_count": null,
   "id": "9383eec6",
   "metadata": {},
   "outputs": [],
   "source": []
  },
  {
   "cell_type": "code",
   "execution_count": null,
   "id": "3bd3185b",
   "metadata": {},
   "outputs": [],
   "source": []
  },
  {
   "cell_type": "code",
   "execution_count": null,
   "id": "beffc624",
   "metadata": {},
   "outputs": [],
   "source": []
  },
  {
   "cell_type": "code",
   "execution_count": null,
   "id": "1b9fd9de",
   "metadata": {},
   "outputs": [],
   "source": []
  },
  {
   "cell_type": "markdown",
   "id": "8f7f8490",
   "metadata": {},
   "source": [
    "<img src='one.png' />\n",
    "\n",
    "<img src='two.png' />\n",
    "\n",
    "<img src='three.png' />"
   ]
  },
  {
   "cell_type": "code",
   "execution_count": null,
   "id": "73fc95f2",
   "metadata": {},
   "outputs": [],
   "source": []
  }
 ],
 "metadata": {
  "kernelspec": {
   "display_name": "Python 3 (ipykernel)",
   "language": "python",
   "name": "python3"
  },
  "language_info": {
   "codemirror_mode": {
    "name": "ipython",
    "version": 3
   },
   "file_extension": ".py",
   "mimetype": "text/x-python",
   "name": "python",
   "nbconvert_exporter": "python",
   "pygments_lexer": "ipython3",
   "version": "3.9.12"
  }
 },
 "nbformat": 4,
 "nbformat_minor": 5
}
