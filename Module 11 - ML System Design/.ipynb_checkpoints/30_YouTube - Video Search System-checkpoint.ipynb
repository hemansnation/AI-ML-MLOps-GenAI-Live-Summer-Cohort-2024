{
 "cells": [
  {
   "cell_type": "markdown",
   "id": "1b113646",
   "metadata": {},
   "source": [
    "# Designing Video Search System"
   ]
  },
  {
   "cell_type": "code",
   "execution_count": null,
   "id": "1e915245",
   "metadata": {},
   "outputs": [],
   "source": [
    "YouTube"
   ]
  },
  {
   "cell_type": "markdown",
   "id": "503d2278",
   "metadata": {},
   "source": [
    "# 1 - Requirements"
   ]
  },
  {
   "cell_type": "code",
   "execution_count": null,
   "id": "289f8eb1",
   "metadata": {},
   "outputs": [],
   "source": [
    "- input is text query\n",
    "- output is a list of videos that are relevant to the text query"
   ]
  },
  {
   "cell_type": "code",
   "execution_count": null,
   "id": "32fd288e",
   "metadata": {},
   "outputs": [],
   "source": [
    "to solve this problem we can devide this into 2 parts\n",
    "\n",
    "- visual content\n",
    "- text content"
   ]
  },
  {
   "cell_type": "markdown",
   "id": "2f29455e",
   "metadata": {},
   "source": [
    "# 2 - ML Problem\n",
    "\n",
    "<img src='v41.png' />"
   ]
  },
  {
   "cell_type": "code",
   "execution_count": null,
   "id": "2d2fea0c",
   "metadata": {},
   "outputs": [],
   "source": [
    "ML Objective -> rank videos based on their relevance to the text query"
   ]
  },
  {
   "cell_type": "code",
   "execution_count": null,
   "id": "e3770657",
   "metadata": {},
   "outputs": [],
   "source": [
    "\"play guitar for beginners\"\n",
    "\n",
    "        text query              - text search\n",
    "                                - visual search"
   ]
  },
  {
   "cell_type": "code",
   "execution_count": null,
   "id": "c0885281",
   "metadata": {},
   "outputs": [],
   "source": [
    "- text search    ->  text query -> text encoder -> [0.2,0.6,-0.9,-0.3]  # NLP \n",
    "- visual search  ->  video encoder -> [0.1,0.8,-1,-0.7]\n",
    "\n",
    "dot product -> text and each video in the embedding space\n",
    "               get the rank of the video based on their similarity scores\n",
    "\n",
    "- the highest similarity score of the text query with the video will get the rank 1\n",
    "\n",
    "- elasticsearch -> you can achieve the text search by query the text in the database, \n",
    "                   you dont need machine learning for that"
   ]
  },
  {
   "cell_type": "markdown",
   "id": "4d57e97e",
   "metadata": {},
   "source": [
    "# 3 - Data Preperation\n",
    "\n",
    "\n",
    "### Data Engineering"
   ]
  },
  {
   "cell_type": "code",
   "execution_count": null,
   "id": "ce7f47d5",
   "metadata": {},
   "outputs": [],
   "source": [
    "DE is not needed in this case\n",
    "\n",
    "- dataset is already annotated\n",
    "\n",
    "video file                query                      status type\n",
    "1234.mp4       celebration of worldcup winning       training"
   ]
  },
  {
   "cell_type": "markdown",
   "id": "24f18300",
   "metadata": {},
   "source": [
    "# Feature Engineering\n",
    "\n",
    "#### preparation of text data\n",
    "\n",
    "\n"
   ]
  },
  {
   "cell_type": "code",
   "execution_count": null,
   "id": "be1ae02f",
   "metadata": {},
   "outputs": [],
   "source": [
    "\"Celebration       of Worldcup winning !\"\n",
    "\n",
    "- Text Normalization\n",
    "lowercasing, punctuation removal(?, !), trim whitespaces, strip accents, lemmatization and stemming\n",
    "\n",
    "\"celebrate of worldcup win\"\n",
    "\n",
    "- Tokenization\n",
    "word tokenization, subword tokenization(n-gram characters), character tokenization\n",
    "\n",
    "[\"celebrate\", 'of', 'worldcup', 'win']\n",
    "\n",
    "- Tokens to IDs\n",
    "words to numerical values\n",
    "\n",
    "    - lookup table -> animal - 18, car - 128\n",
    "    - hashing -> we use a function and that function will give you an ID for a word\n",
    "\n",
    "[35,21,4,18]"
   ]
  },
  {
   "cell_type": "code",
   "execution_count": null,
   "id": "b8e0069b",
   "metadata": {},
   "outputs": [],
   "source": []
  },
  {
   "cell_type": "code",
   "execution_count": null,
   "id": "1b4931fa",
   "metadata": {},
   "outputs": [],
   "source": []
  },
  {
   "cell_type": "markdown",
   "id": "405a5de0",
   "metadata": {},
   "source": [
    "### Text Normalization\n",
    "\n",
    "<img src='v42.png' />"
   ]
  },
  {
   "cell_type": "markdown",
   "id": "640d4d24",
   "metadata": {},
   "source": [
    "### Tokenization\n",
    "\n",
    "<img src='v43.jpg' />"
   ]
  },
  {
   "cell_type": "markdown",
   "id": "14d2f424",
   "metadata": {},
   "source": [
    "### Video Data"
   ]
  },
  {
   "cell_type": "code",
   "execution_count": null,
   "id": "2fcd5cfe",
   "metadata": {},
   "outputs": [],
   "source": [
    "video > frames > sample frames > resizing > scale, normalize, color changes > frames as numerical values"
   ]
  },
  {
   "cell_type": "code",
   "execution_count": null,
   "id": "d2ec92bf",
   "metadata": {},
   "outputs": [],
   "source": []
  },
  {
   "cell_type": "markdown",
   "id": "0ff9f515",
   "metadata": {},
   "source": [
    "# 4 - Model Development "
   ]
  },
  {
   "cell_type": "markdown",
   "id": "b9a6cbf6",
   "metadata": {},
   "source": [
    "### text encoder"
   ]
  },
  {
   "cell_type": "code",
   "execution_count": null,
   "id": "86828d5f",
   "metadata": {},
   "outputs": [],
   "source": [
    "2 statistical methods\n",
    "\n",
    "- Bag Of Words(BOW) - convert a sentence into fixed length vector\n",
    "\n",
    "issue with BOW -> no semantic and contextual meaning\n",
    "\n",
    "- TF-TDF - Term Frequency - Inverse Document Frequency\n",
    "\n",
    "issue with TFIDF -> the order of the words in the sentence. \n",
    "                    will not capture the semantic meaning\n",
    "    \n"
   ]
  },
  {
   "cell_type": "code",
   "execution_count": null,
   "id": "121d746e",
   "metadata": {},
   "outputs": [],
   "source": [
    "ML-based models\n",
    "\n",
    "- embedding (lookup) method\n",
    "- Word2Vec -> Continuous Bag of Words\n",
    "- transformer based architectures\n"
   ]
  },
  {
   "cell_type": "markdown",
   "id": "9beb6eae",
   "metadata": {},
   "source": [
    "### Words in 2d embedding space\n",
    "\n",
    "<img src='v44.png' />"
   ]
  },
  {
   "cell_type": "markdown",
   "id": "e81564a9",
   "metadata": {},
   "source": [
    "### Word2Vec\n",
    "\n",
    "<img src='v45.png' />"
   ]
  },
  {
   "cell_type": "code",
   "execution_count": null,
   "id": "0ecf3d2a",
   "metadata": {},
   "outputs": [],
   "source": [
    "How to pizza at -> make"
   ]
  },
  {
   "cell_type": "markdown",
   "id": "21bf0f7d",
   "metadata": {},
   "source": [
    "### Transformer Based Models Embeddings\n",
    "\n",
    "<img src='v46.png' />"
   ]
  },
  {
   "cell_type": "code",
   "execution_count": null,
   "id": "46c40a36",
   "metadata": {},
   "outputs": [],
   "source": [
    "Himanshu is teaching. He is sitting on the chair.\n",
    "\n",
    "BERT\n",
    "GPT3\n",
    "BLOOM"
   ]
  },
  {
   "cell_type": "code",
   "execution_count": null,
   "id": "0baffad5",
   "metadata": {},
   "outputs": [],
   "source": [
    "How to make pizza at home"
   ]
  },
  {
   "cell_type": "markdown",
   "id": "0f6db55e",
   "metadata": {},
   "source": [
    "### video encoder"
   ]
  },
  {
   "cell_type": "code",
   "execution_count": null,
   "id": "f73b27c3",
   "metadata": {},
   "outputs": [],
   "source": [
    "2 architectural options for encoding videos\n",
    "\n",
    "Video level models\n",
    "- process the whole video and convert it into embeddings\n",
    "- 3d convolutions/transformers(model architectures)\n",
    "\n",
    "Frame level models - faster and less expensive(computationally)\n",
    "- preprocessing the sample frames\n",
    "- run the model on the sampled frames to create embeddings\n",
    "- aggregating(average) frome embeddings to generate the video embedding\n",
    "\n"
   ]
  },
  {
   "cell_type": "markdown",
   "id": "11f7f522",
   "metadata": {},
   "source": [
    "## Model Training"
   ]
  },
  {
   "cell_type": "code",
   "execution_count": null,
   "id": "27e1a8db",
   "metadata": {},
   "outputs": [],
   "source": []
  },
  {
   "cell_type": "markdown",
   "id": "96c2f3cc",
   "metadata": {},
   "source": [
    "# 5 - Evaluation"
   ]
  },
  {
   "cell_type": "code",
   "execution_count": null,
   "id": "84a24bd5",
   "metadata": {},
   "outputs": [],
   "source": [
    "Offline metrics\n",
    "- precision\n",
    "- recall\n",
    "\n",
    "Online metrics\n",
    "- CTR(Click Through Rate)\n",
    "- Video completion rate\n",
    "- total watch time of search results"
   ]
  },
  {
   "cell_type": "markdown",
   "id": "12213d74",
   "metadata": {},
   "source": [
    "# 6 - Serving Pipeline"
   ]
  },
  {
   "cell_type": "code",
   "execution_count": null,
   "id": "c95ad717",
   "metadata": {},
   "outputs": [],
   "source": [
    "4 components\n",
    "\n",
    "- visual search - encode the text query and check the most relevant video embedding\n",
    "- text search - video title and tags and description\n",
    "- fusing layer - takes 2 different lists of relevant videos from the previous step\n",
    "                 and combine them into a new list of videos\n",
    "- re-ranking service"
   ]
  },
  {
   "cell_type": "markdown",
   "id": "abad5047",
   "metadata": {},
   "source": [
    "# Questions and Discussion\n"
   ]
  },
  {
   "cell_type": "code",
   "execution_count": null,
   "id": "bc3b1985",
   "metadata": {},
   "outputs": [],
   "source": [
    "- add features like video length, video popularity\n",
    "- use interaction data(clicks, likes)\n",
    "- understand the semantic part of the query like spelling, category\n",
    "\n",
    "How to build a query understanding component?\n"
   ]
  },
  {
   "cell_type": "markdown",
   "id": "065775fc",
   "metadata": {},
   "source": [
    "# Task\n",
    "\n",
    "You have to create a flow diagram for the above steps.\n",
    "\n",
    "How my design will look like in a workflow?"
   ]
  },
  {
   "cell_type": "markdown",
   "id": "5022ea3b",
   "metadata": {},
   "source": [
    "Reading assignment\n",
    "\n",
    "https://mlbhanuyerra.github.io/2019-12-09-Video-Search-Engine-Salsa/"
   ]
  },
  {
   "cell_type": "code",
   "execution_count": null,
   "id": "25f936d0",
   "metadata": {},
   "outputs": [],
   "source": [
    "https://miro.com/app/"
   ]
  }
 ],
 "metadata": {
  "kernelspec": {
   "display_name": "Python 3 (ipykernel)",
   "language": "python",
   "name": "python3"
  },
  "language_info": {
   "codemirror_mode": {
    "name": "ipython",
    "version": 3
   },
   "file_extension": ".py",
   "mimetype": "text/x-python",
   "name": "python",
   "nbconvert_exporter": "python",
   "pygments_lexer": "ipython3",
   "version": "3.9.12"
  }
 },
 "nbformat": 4,
 "nbformat_minor": 5
}
