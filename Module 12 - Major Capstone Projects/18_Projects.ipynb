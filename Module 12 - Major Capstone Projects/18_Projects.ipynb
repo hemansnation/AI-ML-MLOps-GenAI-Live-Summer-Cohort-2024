{
 "cells": [
  {
   "cell_type": "markdown",
   "id": "114f2f1c",
   "metadata": {},
   "source": [
    "# Projects\n",
    "\n",
    "List of Ideas\n",
    "\n",
    "https://developers.googleblog.com/2024/04/ml-olympiad-2024-globally-distributed-ml-competitions-by-google-ml-community.html"
   ]
  },
  {
   "cell_type": "code",
   "execution_count": null,
   "id": "a3816d99",
   "metadata": {},
   "outputs": [],
   "source": [
    "Major Project should have\n",
    "\n",
    "1. Implementation\n",
    "- idea should be unique(attention grabing heading)\n",
    "- idea should have dataset\n",
    "- complexity \n",
    "    - intermediate level or advance level\n",
    "    - huge and complex dataset\n",
    "- Model in production(Azure, AWS, GCP)\n",
    "- live demo is available - button-> request a demo\n",
    "- use cases(sold it to client, or gain some customers)\n",
    "\n",
    "\n",
    "2. Documentation\n",
    "- story of how you build it\n",
    "- your approach to solve that problem\n",
    "- technical blog around it\n",
    "- code on github\n",
    "- add resources which you used during the implementation and research\n",
    "    - research papers\n",
    "    - code repos\n",
    "    - blogs to understand concepts\n",
    "    - books and pdf on similar technology\n",
    "- contributors\n",
    "- skills you gained after the project"
   ]
  },
  {
   "cell_type": "code",
   "execution_count": null,
   "id": "88c60b19",
   "metadata": {},
   "outputs": [],
   "source": [
    "problem solving approach\n",
    "\n",
    "exercise\n",
    "- write the problem statement\n",
    "- what can be the solution, how many different ways you can solve the same problem\n",
    "- atleast 20 solutions(innovation)\n"
   ]
  },
  {
   "cell_type": "code",
   "execution_count": null,
   "id": "d8753e13",
   "metadata": {},
   "outputs": [],
   "source": [
    "steps\n",
    "- get the problem statement\n",
    "- search for research papers\n",
    "- research about the domain parameters\n",
    "- "
   ]
  },
  {
   "cell_type": "code",
   "execution_count": null,
   "id": "0b440735",
   "metadata": {},
   "outputs": [],
   "source": [
    "ML Architect\n",
    "- open source tools, building a model, monitoring, deployment, testing, data engieering\n",
    "- on paper you can create a flow diagram, high level as well as detailed flow of the scalable project\n",
    "- cost estimation, 1000 active users, 2 servers(4 cores, GPUs, RAM)\n",
    "- quantization of the model - how you are going to run a billion parameter model on a mobile phone"
   ]
  },
  {
   "cell_type": "code",
   "execution_count": null,
   "id": "10fe68df",
   "metadata": {},
   "outputs": [],
   "source": [
    "build 5 major projects in same domain, for ex: Healthcare"
   ]
  },
  {
   "cell_type": "code",
   "execution_count": null,
   "id": "ef39e226",
   "metadata": {},
   "outputs": [],
   "source": []
  },
  {
   "cell_type": "code",
   "execution_count": null,
   "id": "b27e756e",
   "metadata": {},
   "outputs": [],
   "source": []
  },
  {
   "cell_type": "code",
   "execution_count": null,
   "id": "1e3704fa",
   "metadata": {},
   "outputs": [],
   "source": []
  },
  {
   "cell_type": "code",
   "execution_count": null,
   "id": "12487394",
   "metadata": {},
   "outputs": [],
   "source": []
  },
  {
   "cell_type": "code",
   "execution_count": null,
   "id": "3b686713",
   "metadata": {},
   "outputs": [],
   "source": []
  },
  {
   "cell_type": "code",
   "execution_count": null,
   "id": "0e684d7a",
   "metadata": {},
   "outputs": [],
   "source": []
  },
  {
   "cell_type": "code",
   "execution_count": null,
   "id": "3c524f02",
   "metadata": {},
   "outputs": [],
   "source": []
  },
  {
   "cell_type": "code",
   "execution_count": null,
   "id": "b7124f4a",
   "metadata": {},
   "outputs": [],
   "source": []
  }
 ],
 "metadata": {
  "kernelspec": {
   "display_name": "Python 3 (ipykernel)",
   "language": "python",
   "name": "python3"
  },
  "language_info": {
   "codemirror_mode": {
    "name": "ipython",
    "version": 3
   },
   "file_extension": ".py",
   "mimetype": "text/x-python",
   "name": "python",
   "nbconvert_exporter": "python",
   "pygments_lexer": "ipython3",
   "version": "3.9.12"
  }
 },
 "nbformat": 4,
 "nbformat_minor": 5
}
